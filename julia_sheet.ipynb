{
 "cells": [
  {
   "cell_type": "markdown",
   "metadata": {},
   "source": [
    "<div style=\"color: #8b1538; font-size: 38px\">Julia 1.0 Programming</div>"
   ]
  },
  {
   "cell_type": "markdown",
   "metadata": {},
   "source": [
    "<div class=\"alert alert-block alert-success\">\n",
    "    Run cells with python in Julia kernel\n",
    "</div>"
   ]
  },
  {
   "cell_type": "code",
   "execution_count": 147,
   "metadata": {},
   "outputs": [
    {
     "data": {
      "text/plain": [
       "@python_str (macro with 1 method)"
      ]
     },
     "execution_count": 147,
     "metadata": {},
     "output_type": "execute_result"
    }
   ],
   "source": [
    "macro python_str(s) open(`python`,\"w\",stdout) do io; print(io, s); end; end  # pour écrire en python ds julia"
   ]
  },
  {
   "cell_type": "markdown",
   "metadata": {},
   "source": [
    "### Println "
   ]
  },
  {
   "cell_type": "code",
   "execution_count": 24,
   "metadata": {},
   "outputs": [
    {
     "name": "stdout",
     "output_type": "stream",
     "text": [
      "Welcome to Julia \n",
      "Superbe\n"
     ]
    }
   ],
   "source": [
    "println(\"Welcome to Julia \\nSuperbe\")"
   ]
  },
  {
   "cell_type": "markdown",
   "metadata": {},
   "source": [
    "> Printstyled"
   ]
  },
  {
   "cell_type": "code",
   "execution_count": 23,
   "metadata": {},
   "outputs": [
    {
     "name": "stdout",
     "output_type": "stream",
     "text": [
      "\u001b[31m\u001b[1mI love Julia!\u001b[22m\u001b[39m"
     ]
    }
   ],
   "source": [
    "printstyled(\"I love Julia!\", color=:red, bold=true)"
   ]
  },
  {
   "cell_type": "markdown",
   "metadata": {},
   "source": [
    "> Commentaires"
   ]
  },
  {
   "cell_type": "code",
   "execution_count": null,
   "metadata": {},
   "outputs": [],
   "source": [
    "# commentaire sur une ligne"
   ]
  },
  {
   "cell_type": "code",
   "execution_count": null,
   "metadata": {},
   "outputs": [],
   "source": [
    "#= commentaires sur\n",
    "plusieurs lignes\n",
    "=#"
   ]
  },
  {
   "cell_type": "markdown",
   "metadata": {},
   "source": [
    "> Reverse Uppercase"
   ]
  },
  {
   "cell_type": "code",
   "execution_count": 66,
   "metadata": {},
   "outputs": [
    {
     "name": "stdout",
     "output_type": "stream",
     "text": [
      "olleH\n",
      "HELLO\n"
     ]
    }
   ],
   "source": [
    "println(reverse(\"Hello\")) # à l'envers\n",
    "println(uppercase(\"Hello\")) # en majuscule"
   ]
  },
  {
   "cell_type": "markdown",
   "metadata": {},
   "source": [
    "### Opérateur"
   ]
  },
  {
   "cell_type": "code",
   "execution_count": 9,
   "metadata": {
    "scrolled": true
   },
   "outputs": [
    {
     "name": "stdout",
     "output_type": "stream",
     "text": [
      "4\n",
      "27\n",
      "6.666666666666667\n",
      "2\n"
     ]
    }
   ],
   "source": [
    "println(1+3)\n",
    "println(3^3)\n",
    "println(20/3)\n",
    "println(11%3)"
   ]
  },
  {
   "cell_type": "markdown",
   "metadata": {},
   "source": [
    "> @Printf"
   ]
  },
  {
   "cell_type": "code",
   "execution_count": 88,
   "metadata": {},
   "outputs": [
    {
     "name": "stdout",
     "output_type": "stream",
     "text": [
      "7\n",
      "3.141593\n",
      "3.14"
     ]
    }
   ],
   "source": [
    "using Printf\n",
    "\n",
    "@printf(\"%d\", 7.3) # d: entier\n",
    "println()\n",
    "@printf(\"%f\\n\", pi) # f: float\n",
    "@printf(\"%0.2f\", pi)  # float arrondi à .2"
   ]
  },
  {
   "cell_type": "code",
   "execution_count": 100,
   "metadata": {},
   "outputs": [
    {
     "name": "stdout",
     "output_type": "stream",
     "text": [
      "7\n",
      "7\n",
      "3.141592653589793\n",
      "3.14\n"
     ]
    }
   ],
   "source": [
    "python\"\"\"\n",
    "import math\n",
    "print(\"{:d}\".format(7))  # 7.3 ne peut pas être mis\n",
    "print(\"{:.0f}\".format(7.3))\n",
    "print(\"{}\".format(math.pi))\n",
    "print(\"{:.2f}\".format(math.pi))  # round\n",
    "\"\"\""
   ]
  },
  {
   "cell_type": "markdown",
   "metadata": {},
   "source": [
    "> Typeof Sizeof"
   ]
  },
  {
   "cell_type": "code",
   "execution_count": 10,
   "metadata": {},
   "outputs": [
    {
     "name": "stdout",
     "output_type": "stream",
     "text": [
      "Type de x: Int64\n",
      "Type de x2: Int8\n",
      "Type de x3: Float64\n",
      "Type de s: String\n",
      "Taille de x : 8\n",
      "Taille de x2 : 1\n",
      "Taille de x3 : 8\n",
      "Taille de s : 5\n"
     ]
    }
   ],
   "source": [
    "x, x2, x3 = 7, Int8(7), 0.5\n",
    "s = \"Julia\"\n",
    "\n",
    "println(\"Type de x: $(typeof(x))\")  # Type of the variable\n",
    "println(\"Type de x2: $(typeof(x2))\")\n",
    "println(\"Type de x3: $(typeof(x3))\")\n",
    "println(\"Type de s: $(typeof(s))\")\n",
    "\n",
    "println(\"Taille de x : $(sizeof(x))\") # Size of the variable\n",
    "println(\"Taille de x2 : $(sizeof(x2))\")\n",
    "println(\"Taille de x3 : $(sizeof(x3))\")\n",
    "println(\"Taille de s : $(sizeof(s))\")"
   ]
  },
  {
   "cell_type": "code",
   "execution_count": 37,
   "metadata": {},
   "outputs": [
    {
     "name": "stdout",
     "output_type": "stream",
     "text": [
      "z = 1 is a String, z2 = 1 is a Char & \u001b[31m\u001b[1mz == z2 false\u001b[22m\u001b[39m"
     ]
    }
   ],
   "source": [
    "z=\"1\"  # qd \"\" -> string\n",
    "z2='1' # qd '' -> character\n",
    "\n",
    "print(\"z = $z is a $(typeof(z)), z2 = $z2 is a $(typeof(z2)) & \")\n",
    "printstyled(\"z == z2 $(z == z2)\", color=:red, bold=:true)"
   ]
  },
  {
   "cell_type": "code",
   "execution_count": 12,
   "metadata": {},
   "outputs": [
    {
     "name": "stdout",
     "output_type": "stream",
     "text": [
      "exemple impression de x: 7\n",
      "ex impression de x: 7\n"
     ]
    }
   ],
   "source": [
    "println(\"exemple impression de x: $x\") # avec le \"$\"\n",
    "println(\"ex impression de x: \",x) # avec la virgule en dehors des guillemets"
   ]
  },
  {
   "cell_type": "markdown",
   "metadata": {},
   "source": [
    "> Readline"
   ]
  },
  {
   "cell_type": "code",
   "execution_count": 15,
   "metadata": {},
   "outputs": [
    {
     "name": "stdout",
     "output_type": "stream",
     "text": [
      "stdin> Audrey\n"
     ]
    },
    {
     "data": {
      "text/plain": [
       "\"Audrey\""
      ]
     },
     "execution_count": 15,
     "metadata": {},
     "output_type": "execute_result"
    }
   ],
   "source": [
    "name = readline() # fonction is used for takes value from user. "
   ]
  },
  {
   "cell_type": "code",
   "execution_count": 16,
   "metadata": {},
   "outputs": [
    {
     "name": "stdout",
     "output_type": "stream",
     "text": [
      "Mon nom est Audrey.\n"
     ]
    }
   ],
   "source": [
    "println(\"Mon nom est $name.\")"
   ]
  },
  {
   "cell_type": "code",
   "execution_count": 20,
   "metadata": {},
   "outputs": [
    {
     "name": "stdout",
     "output_type": "stream",
     "text": [
      "stdin> 5\n"
     ]
    },
    {
     "data": {
      "text/plain": [
       "\"5\""
      ]
     },
     "execution_count": 20,
     "metadata": {},
     "output_type": "execute_result"
    }
   ],
   "source": [
    "number=readline()  # a variable 'number' est un string 5."
   ]
  },
  {
   "cell_type": "markdown",
   "metadata": {},
   "source": [
    "> Parse"
   ]
  },
  {
   "cell_type": "code",
   "execution_count": 21,
   "metadata": {},
   "outputs": [
    {
     "name": "stdout",
     "output_type": "stream",
     "text": [
      "555\n",
      "Int64\n",
      "125\n"
     ]
    }
   ],
   "source": [
    "println(number^3) # comme il s'agit d'un string, ça écrit 3 fois le 5. Il faut donc convertir la variable en entier. \n",
    "number=parse(Int,number) # 'parse' permet de convertir la variable.\n",
    "println(typeof(number))\n",
    "println(number^3)"
   ]
  },
  {
   "cell_type": "code",
   "execution_count": 29,
   "metadata": {},
   "outputs": [
    {
     "name": "stdout",
     "output_type": "stream",
     "text": [
      "x: -8446744073709551616 & type: Int64\n",
      "x2: 10000000000000000000 & type: BigInt\n"
     ]
    }
   ],
   "source": [
    "x = 10^19 # Dépasse typemax(Int64) - result in wraparound behavior\n",
    "x2 = big(10)^19\n",
    "\n",
    "println(\"x: $(x) & type: $(typeof(x))\\nx2: $(x2) & type: $(typeof(x2))\")"
   ]
  },
  {
   "cell_type": "markdown",
   "metadata": {},
   "source": [
    "### Help"
   ]
  },
  {
   "cell_type": "code",
   "execution_count": 101,
   "metadata": {
    "scrolled": false
   },
   "outputs": [
    {
     "name": "stdout",
     "output_type": "stream",
     "text": [
      "search: \u001b[0m\u001b[1mp\u001b[22m\u001b[0m\u001b[1ma\u001b[22m\u001b[0m\u001b[1mr\u001b[22m\u001b[0m\u001b[1ms\u001b[22m\u001b[0m\u001b[1me\u001b[22m try\u001b[0m\u001b[1mp\u001b[22m\u001b[0m\u001b[1ma\u001b[22m\u001b[0m\u001b[1mr\u001b[22m\u001b[0m\u001b[1ms\u001b[22m\u001b[0m\u001b[1me\u001b[22m \u001b[0m\u001b[1mp\u001b[22m\u001b[0m\u001b[1ma\u001b[22m\u001b[0m\u001b[1mr\u001b[22mtial\u001b[0m\u001b[1ms\u001b[22mortp\u001b[0m\u001b[1me\u001b[22mrm \u001b[0m\u001b[1mp\u001b[22m\u001b[0m\u001b[1ma\u001b[22m\u001b[0m\u001b[1mr\u001b[22mtial\u001b[0m\u001b[1ms\u001b[22mortp\u001b[0m\u001b[1me\u001b[22mrm! \u001b[0m\u001b[1mp\u001b[22m\u001b[0m\u001b[1ma\u001b[22mi\u001b[0m\u001b[1mr\u001b[22m\u001b[0m\u001b[1ms\u001b[22m ski\u001b[0m\u001b[1mp\u001b[22mch\u001b[0m\u001b[1ma\u001b[22m\u001b[0m\u001b[1mr\u001b[22m\u001b[0m\u001b[1ms\u001b[22m\n",
      "\n"
     ]
    },
    {
     "data": {
      "text/latex": [
       "\\begin{verbatim}\n",
       "parse(type, str; base)\n",
       "\\end{verbatim}\n",
       "Parse a string as a number. For \\texttt{Integer} types, a base can be specified (the default is 10). For floating-point types, the string is parsed as a decimal floating-point number.  \\texttt{Complex} types are parsed from decimal strings of the form \\texttt{\"R±Iim\"} as a \\texttt{Complex(R,I)} of the requested type; \\texttt{\"i\"} or \\texttt{\"j\"} can also be used instead of \\texttt{\"im\"}, and \\texttt{\"R\"} or \\texttt{\"Iim\"} are also permitted. If the string does not contain a valid number, an error is raised.\n",
       "\n",
       "\\begin{quote}\n",
       "\\textbf{compat}\n",
       "\n",
       "Julia 1.1\n",
       "\n",
       "\\texttt{parse(Bool, str)} requires at least Julia 1.1.\n",
       "\n",
       "\\end{quote}\n",
       "\\section{Examples}\n",
       "\\begin{verbatim}\n",
       "julia> parse(Int, \"1234\")\n",
       "1234\n",
       "\n",
       "julia> parse(Int, \"1234\", base = 5)\n",
       "194\n",
       "\n",
       "julia> parse(Int, \"afc\", base = 16)\n",
       "2812\n",
       "\n",
       "julia> parse(Float64, \"1.2e-3\")\n",
       "0.0012\n",
       "\n",
       "julia> parse(Complex{Float64}, \"3.2e-1 + 4.5im\")\n",
       "0.32 + 4.5im\n",
       "\\end{verbatim}\n"
      ],
      "text/markdown": [
       "```\n",
       "parse(type, str; base)\n",
       "```\n",
       "\n",
       "Parse a string as a number. For `Integer` types, a base can be specified (the default is 10). For floating-point types, the string is parsed as a decimal floating-point number.  `Complex` types are parsed from decimal strings of the form `\"R±Iim\"` as a `Complex(R,I)` of the requested type; `\"i\"` or `\"j\"` can also be used instead of `\"im\"`, and `\"R\"` or `\"Iim\"` are also permitted. If the string does not contain a valid number, an error is raised.\n",
       "\n",
       "!!! compat \"Julia 1.1\"\n",
       "    `parse(Bool, str)` requires at least Julia 1.1.\n",
       "\n",
       "\n",
       "# Examples\n",
       "\n",
       "```jldoctest\n",
       "julia> parse(Int, \"1234\")\n",
       "1234\n",
       "\n",
       "julia> parse(Int, \"1234\", base = 5)\n",
       "194\n",
       "\n",
       "julia> parse(Int, \"afc\", base = 16)\n",
       "2812\n",
       "\n",
       "julia> parse(Float64, \"1.2e-3\")\n",
       "0.0012\n",
       "\n",
       "julia> parse(Complex{Float64}, \"3.2e-1 + 4.5im\")\n",
       "0.32 + 4.5im\n",
       "```\n"
      ],
      "text/plain": [
       "\u001b[36m  parse(type, str; base)\u001b[39m\n",
       "\n",
       "  Parse a string as a number. For \u001b[36mInteger\u001b[39m types, a base can be specified (the\n",
       "  default is 10). For floating-point types, the string is parsed as a decimal\n",
       "  floating-point number. \u001b[36mComplex\u001b[39m types are parsed from decimal strings of the\n",
       "  form \u001b[36m\"R±Iim\"\u001b[39m as a \u001b[36mComplex(R,I)\u001b[39m of the requested type; \u001b[36m\"i\"\u001b[39m or \u001b[36m\"j\"\u001b[39m can also be\n",
       "  used instead of \u001b[36m\"im\"\u001b[39m, and \u001b[36m\"R\"\u001b[39m or \u001b[36m\"Iim\"\u001b[39m are also permitted. If the string\n",
       "  does not contain a valid number, an error is raised.\n",
       "\n",
       "\u001b[39m\u001b[1m  │ \u001b[22m\u001b[39m\u001b[1mJulia 1.1\u001b[22m\n",
       "\u001b[39m\u001b[1m  │\u001b[22m\n",
       "\u001b[39m\u001b[1m  │\u001b[22m  \u001b[36mparse(Bool, str)\u001b[39m requires at least Julia 1.1.\n",
       "\n",
       "\u001b[1m  Examples\u001b[22m\n",
       "\u001b[1m  ≡≡≡≡≡≡≡≡≡≡\u001b[22m\n",
       "\n",
       "\u001b[36m  julia> parse(Int, \"1234\")\u001b[39m\n",
       "\u001b[36m  1234\u001b[39m\n",
       "\u001b[36m  \u001b[39m\n",
       "\u001b[36m  julia> parse(Int, \"1234\", base = 5)\u001b[39m\n",
       "\u001b[36m  194\u001b[39m\n",
       "\u001b[36m  \u001b[39m\n",
       "\u001b[36m  julia> parse(Int, \"afc\", base = 16)\u001b[39m\n",
       "\u001b[36m  2812\u001b[39m\n",
       "\u001b[36m  \u001b[39m\n",
       "\u001b[36m  julia> parse(Float64, \"1.2e-3\")\u001b[39m\n",
       "\u001b[36m  0.0012\u001b[39m\n",
       "\u001b[36m  \u001b[39m\n",
       "\u001b[36m  julia> parse(Complex{Float64}, \"3.2e-1 + 4.5im\")\u001b[39m\n",
       "\u001b[36m  0.32 + 4.5im\u001b[39m"
      ]
     },
     "execution_count": 101,
     "metadata": {},
     "output_type": "execute_result"
    }
   ],
   "source": [
    "? parse # comme un help"
   ]
  },
  {
   "cell_type": "markdown",
   "metadata": {},
   "source": [
    "### Tranchage"
   ]
  },
  {
   "cell_type": "code",
   "execution_count": 38,
   "metadata": {},
   "outputs": [
    {
     "data": {
      "text/plain": [
       "\"Julia\""
      ]
     },
     "execution_count": 38,
     "metadata": {},
     "output_type": "execute_result"
    }
   ],
   "source": [
    "j=\"Julia\"\n",
    "j[begin:end]"
   ]
  },
  {
   "cell_type": "code",
   "execution_count": 32,
   "metadata": {},
   "outputs": [
    {
     "data": {
      "text/plain": [
       "'J': ASCII/Unicode U+004A (category Lu: Letter, uppercase)"
      ]
     },
     "execution_count": 32,
     "metadata": {},
     "output_type": "execute_result"
    }
   ],
   "source": [
    "j[1]  # j[0] n'existe pas\n",
    "j[begin]  # j[1] = j[begin]"
   ]
  },
  {
   "cell_type": "markdown",
   "metadata": {},
   "source": [
    "<div class=\"alert alert-block alert-warning\">\n",
    "    The index starts from 1 in julia\n",
    "</div>"
   ]
  },
  {
   "cell_type": "code",
   "execution_count": 27,
   "metadata": {},
   "outputs": [
    {
     "data": {
      "text/plain": [
       "'a': ASCII/Unicode U+0061 (category Ll: Letter, lowercase)"
      ]
     },
     "execution_count": 27,
     "metadata": {},
     "output_type": "execute_result"
    }
   ],
   "source": [
    "j[end] # last value"
   ]
  },
  {
   "cell_type": "code",
   "execution_count": 29,
   "metadata": {},
   "outputs": [
    {
     "data": {
      "text/plain": [
       "\"uli\""
      ]
     },
     "execution_count": 29,
     "metadata": {},
     "output_type": "execute_result"
    }
   ],
   "source": [
    "j[2:4] # return un string  de 2 à 4 inclus"
   ]
  },
  {
   "cell_type": "code",
   "execution_count": 30,
   "metadata": {
    "scrolled": true
   },
   "outputs": [
    {
     "name": "stdout",
     "output_type": "stream",
     "text": [
      "uli\n"
     ]
    }
   ],
   "source": [
    "println(j[2:4])"
   ]
  },
  {
   "cell_type": "code",
   "execution_count": 35,
   "metadata": {},
   "outputs": [
    {
     "name": "stdout",
     "output_type": "stream",
     "text": [
      "Start Jul & End ia!\n"
     ]
    }
   ],
   "source": [
    "python\"\"\"\n",
    "s = \"Julia!\"\n",
    "s_start, s_end = s[:3], s[3:]\n",
    "\n",
    "print(\"Start {} & End {}\".format(s_start, s_end))\n",
    "\"\"\""
   ]
  },
  {
   "cell_type": "code",
   "execution_count": 103,
   "metadata": {},
   "outputs": [
    {
     "data": {
      "text/plain": [
       "\"Julia is a programming language\""
      ]
     },
     "execution_count": 103,
     "metadata": {},
     "output_type": "execute_result"
    }
   ],
   "source": [
    "j=\"Julia is a programming language\""
   ]
  },
  {
   "cell_type": "markdown",
   "metadata": {},
   "source": [
    "> Substring"
   ]
  },
  {
   "cell_type": "code",
   "execution_count": 46,
   "metadata": {},
   "outputs": [
    {
     "data": {
      "text/plain": [
       "\"Julia is a\""
      ]
     },
     "execution_count": 46,
     "metadata": {},
     "output_type": "execute_result"
    }
   ],
   "source": [
    "SubString(j,1,10)"
   ]
  },
  {
   "cell_type": "code",
   "execution_count": 47,
   "metadata": {},
   "outputs": [
    {
     "data": {
      "text/plain": [
       "\" programming language\""
      ]
     },
     "execution_count": 47,
     "metadata": {},
     "output_type": "execute_result"
    }
   ],
   "source": [
    "SubString(j,11,31)\n",
    "SubString(j,11) # de l'indice 11 jusqu'à la fin"
   ]
  },
  {
   "cell_type": "markdown",
   "metadata": {},
   "source": [
    "### Concaténation"
   ]
  },
  {
   "cell_type": "code",
   "execution_count": 104,
   "metadata": {},
   "outputs": [
    {
     "name": "stdout",
     "output_type": "stream",
     "text": [
      "Julia is a programming language pas de string\n",
      "Julia is a programming language and is great\n"
     ]
    }
   ],
   "source": [
    "println(j, \" pas de string.\") # la variable j n'est pas changé car pas mis dans une variable.\n",
    "\n",
    "j=string(j, \" and is great.\") # la varaible j est changé\n",
    "println(j)"
   ]
  },
  {
   "cell_type": "code",
   "execution_count": 105,
   "metadata": {},
   "outputs": [
    {
     "data": {
      "text/plain": [
       "44"
      ]
     },
     "execution_count": 105,
     "metadata": {},
     "output_type": "execute_result"
    }
   ],
   "source": [
    "length(j) # longueur"
   ]
  },
  {
   "cell_type": "code",
   "execution_count": 64,
   "metadata": {},
   "outputs": [
    {
     "name": "stdout",
     "output_type": "stream",
     "text": [
      "s: hello world \n",
      "s2: hello world \n",
      "s3: hello world with Julia"
     ]
    }
   ],
   "source": [
    "s = \"hello\" * \" world\"   # '*' for concatenation\n",
    "s2 = string(\"hello\", \" world\")\n",
    "s3 = string(s, \" with Julia\")\n",
    "\n",
    "print(\"s: $s \\ns2: $s2 \\ns3: $s3\")"
   ]
  },
  {
   "cell_type": "code",
   "execution_count": 65,
   "metadata": {},
   "outputs": [
    {
     "name": "stdout",
     "output_type": "stream",
     "text": [
      "s: abcdef\n"
     ]
    }
   ],
   "source": [
    "python\"\"\"\n",
    "s = \"abc\" + \"def\"\n",
    "print(\"s: {}\".format(s))\n",
    "\"\"\""
   ]
  },
  {
   "cell_type": "markdown",
   "metadata": {},
   "source": [
    "> Findfirst"
   ]
  },
  {
   "cell_type": "code",
   "execution_count": 51,
   "metadata": {
    "scrolled": true
   },
   "outputs": [
    {
     "data": {
      "text/plain": [
       "12:22"
      ]
     },
     "execution_count": 51,
     "metadata": {},
     "output_type": "execute_result"
    }
   ],
   "source": [
    "findfirst(\"programming\", j) # pour savoir les indices du mot dans j. "
   ]
  },
  {
   "cell_type": "code",
   "execution_count": 52,
   "metadata": {},
   "outputs": [],
   "source": [
    "findfirst(\"Programming\", j) # il ne renvoit rien car il n'existe pas"
   ]
  },
  {
   "cell_type": "code",
   "execution_count": 79,
   "metadata": {},
   "outputs": [
    {
     "name": "stdout",
     "output_type": "stream",
     "text": [
      "Indice de hello 1:5 dans hello world \n",
      "Indice de Julia nothing dans hello world"
     ]
    }
   ],
   "source": [
    "s = \"hello world\"\n",
    "\n",
    "index = findfirst(\"hello\", s)\n",
    "index2 = findfirst(\"Julia\", s)  # Renvoie nothing car n'existe pas\n",
    "\n",
    "print(\"Indice de hello $index dans $s \\nIndice de Julia $index2 dans $s\")"
   ]
  },
  {
   "cell_type": "markdown",
   "metadata": {},
   "source": [
    "> Occursin"
   ]
  },
  {
   "cell_type": "code",
   "execution_count": 53,
   "metadata": {},
   "outputs": [
    {
     "name": "stdout",
     "output_type": "stream",
     "text": [
      "true\n",
      "false\n"
     ]
    }
   ],
   "source": [
    "println(occursin(\"language\", j)) # si on trouve le mot ds j. \n",
    "println(occursin(\"Language\", j))"
   ]
  },
  {
   "cell_type": "markdown",
   "metadata": {},
   "source": [
    "> Replace"
   ]
  },
  {
   "cell_type": "code",
   "execution_count": 60,
   "metadata": {},
   "outputs": [
    {
     "name": "stdout",
     "output_type": "stream",
     "text": [
      "j_replace: Jolia\n"
     ]
    }
   ],
   "source": [
    "j=\"Julia\"\n",
    "j = replace(j, \"u\" => \"o\")\n",
    "println(\"j_replace: $j\")"
   ]
  },
  {
   "cell_type": "code",
   "execution_count": 61,
   "metadata": {},
   "outputs": [
    {
     "name": "stdout",
     "output_type": "stream",
     "text": [
      "j_replace: Jolia\n"
     ]
    }
   ],
   "source": [
    "python\"\"\"\n",
    "j = \"Julia\"\n",
    "j = j.replace(\"u\", \"o\")\n",
    "print(\"j_replace: {}\".format(j))\n",
    "\"\"\""
   ]
  },
  {
   "cell_type": "markdown",
   "metadata": {},
   "source": [
    "> Split"
   ]
  },
  {
   "cell_type": "code",
   "execution_count": 70,
   "metadata": {},
   "outputs": [
    {
     "name": "stdout",
     "output_type": "stream",
     "text": [
      "s_split: SubString{String}[\"hello\", \"world\"]"
     ]
    }
   ],
   "source": [
    "s = \"hello world\"\n",
    "s = split(s, \" \")  # return an array of String\n",
    "print(\"s_split: $s\")"
   ]
  },
  {
   "cell_type": "code",
   "execution_count": 73,
   "metadata": {},
   "outputs": [
    {
     "name": "stdout",
     "output_type": "stream",
     "text": [
      "s_split: ['hello', 'world']\n"
     ]
    }
   ],
   "source": [
    "python\"\"\"\n",
    "s = \"hello world\"\n",
    "s = s.split(\" \")\n",
    "print(\"s_split: {}\".format(s))\n",
    "\"\"\""
   ]
  },
  {
   "cell_type": "markdown",
   "metadata": {},
   "source": [
    "### Range"
   ]
  },
  {
   "cell_type": "code",
   "execution_count": 106,
   "metadata": {},
   "outputs": [
    {
     "name": "stdout",
     "output_type": "stream",
     "text": [
      "1 2 3 4 5 \n",
      "1 3 5 "
     ]
    }
   ],
   "source": [
    "for i in 1:5  # de 1 à 5 (inclus) par pas de 1 (par défaut)\n",
    "    print(\"$i \")\n",
    "end\n",
    "println()\n",
    "\n",
    "for i in 1:2:5  # de 1 à 5 (inclus) par pas de 2\n",
    "    print(\"$i \")\n",
    "end"
   ]
  },
  {
   "cell_type": "code",
   "execution_count": 107,
   "metadata": {},
   "outputs": [
    {
     "name": "stdout",
     "output_type": "stream",
     "text": [
      "1 2 3 4 5 \n",
      "1 3 5 "
     ]
    }
   ],
   "source": [
    "python\"\"\"\n",
    "for i in range(1, 6):  # de 1 à 6 (exclus) par pas de 1 - défaut\n",
    "    print(\"{} \".format(i), end=\"\")\n",
    "print()\n",
    "\n",
    "for i in range(1, 6, 2):  # de 1 à 6 (exclus) par pas de 2\n",
    "    print(\"{} \".format(i), end=\"\")\n",
    "\"\"\""
   ]
  },
  {
   "cell_type": "markdown",
   "metadata": {},
   "source": [
    "-- ***Set up a macro range to have a python like syntax*** --"
   ]
  },
  {
   "cell_type": "code",
   "execution_count": 108,
   "metadata": {},
   "outputs": [
    {
     "data": {
      "text/plain": [
       "@range (macro with 1 method)"
      ]
     },
     "execution_count": 108,
     "metadata": {},
     "output_type": "execute_result"
    }
   ],
   "source": [
    "macro range(debut, fin, args...)\n",
    "    if isempty(args)\n",
    "        return debut:fin-1\n",
    "    end\n",
    "    return debut:args[1]:fin-1\n",
    "end"
   ]
  },
  {
   "cell_type": "markdown",
   "metadata": {},
   "source": [
    "> @range"
   ]
  },
  {
   "cell_type": "code",
   "execution_count": 109,
   "metadata": {},
   "outputs": [
    {
     "name": "stdout",
     "output_type": "stream",
     "text": [
      "1 2 3 4 5 \n",
      "1 3 5 "
     ]
    }
   ],
   "source": [
    "for i in @range(1, 6)  # de 1 à 6 (exclus) par pas de 1 - défaut\n",
    "    print(\"$i \")\n",
    "end\n",
    "println()\n",
    "\n",
    "for i in @range(1, 6, 2)  # de 1 à 6 (exclus) par pas de 2\n",
    "    print(\"$i \")\n",
    "end"
   ]
  },
  {
   "cell_type": "markdown",
   "metadata": {},
   "source": [
    "### Data-structure (Array) -> [ ]"
   ]
  },
  {
   "cell_type": "markdown",
   "metadata": {},
   "source": [
    "-- ***Array is mutable*** --"
   ]
  },
  {
   "cell_type": "code",
   "execution_count": 110,
   "metadata": {},
   "outputs": [
    {
     "name": "stdout",
     "output_type": "stream",
     "text": [
      "[1, 2, 3]"
     ]
    }
   ],
   "source": [
    "num=[1,2,3] # Array d'entier {Int64}\n",
    "show(num)"
   ]
  },
  {
   "cell_type": "code",
   "execution_count": 115,
   "metadata": {},
   "outputs": [
    {
     "name": "stdout",
     "output_type": "stream",
     "text": [
      "Any[1, \"2\", 3.0, 4]"
     ]
    }
   ],
   "source": [
    "mix=[1,\"2\",3.0,4] # Array de différents types {Any} \n",
    "show(mix)\n",
    "# typeof(mix)"
   ]
  },
  {
   "cell_type": "markdown",
   "metadata": {},
   "source": [
    "> Getindex"
   ]
  },
  {
   "cell_type": "code",
   "execution_count": 57,
   "metadata": {},
   "outputs": [
    {
     "data": {
      "text/plain": [
       "2"
      ]
     },
     "execution_count": 57,
     "metadata": {},
     "output_type": "execute_result"
    }
   ],
   "source": [
    "num=[1,2,3]\n",
    "getindex(num,2)"
   ]
  },
  {
   "cell_type": "markdown",
   "metadata": {},
   "source": [
    "> Eltype, Ndims, Length"
   ]
  },
  {
   "cell_type": "code",
   "execution_count": 178,
   "metadata": {},
   "outputs": [
    {
     "name": "stdout",
     "output_type": "stream",
     "text": [
      "Type Int64 \n",
      "Taille 3 \n",
      "Dimension 1"
     ]
    }
   ],
   "source": [
    "num_type, num_dim, num_len = eltype(num), ndims(num), length(num)\n",
    "\n",
    "print(\"Type $num_type \\nTaille $num_len \\nDimension $num_dim\")"
   ]
  },
  {
   "cell_type": "markdown",
   "metadata": {},
   "source": [
    "> Indiçage"
   ]
  },
  {
   "cell_type": "code",
   "execution_count": 129,
   "metadata": {},
   "outputs": [
    {
     "name": "stdout",
     "output_type": "stream",
     "text": [
      "mix[3]: 3.0\n",
      "mix[2:3]: Any[\"2\", 3.0]\n",
      "mix[1:4] = mix[begin:end]: Any[1, \"2\", 3.0, 4]\n"
     ]
    }
   ],
   "source": [
    "println(\"mix[3]: \", mix[3])\n",
    "println(\"mix[2:3]: \", mix[2:3])\n",
    "println(\"mix[1:4] = mix[begin:end]: \", mix[begin:end])"
   ]
  },
  {
   "cell_type": "code",
   "execution_count": 145,
   "metadata": {},
   "outputs": [
    {
     "name": "stdout",
     "output_type": "stream",
     "text": [
      "Any[1, \"2\", 3.0, 4.0]"
     ]
    }
   ],
   "source": [
    "mix[4]=4.0 # On peut changer\n",
    "show(mix)"
   ]
  },
  {
   "cell_type": "code",
   "execution_count": 174,
   "metadata": {},
   "outputs": [
    {
     "name": "stdout",
     "output_type": "stream",
     "text": [
      "Le 1er élément vaut 1 & le dernier élément vaut 7."
     ]
    }
   ],
   "source": [
    "debut, fin = arr[begin], arr[end]  \n",
    "print(\"Le 1er élément vaut $debut & le dernier élément vaut $fin.\")"
   ]
  },
  {
   "cell_type": "code",
   "execution_count": 176,
   "metadata": {},
   "outputs": [
    {
     "name": "stdout",
     "output_type": "stream",
     "text": [
      "Le 1er élément vaut 1 & le dernier élément vaut 7.\n"
     ]
    }
   ],
   "source": [
    "python\"\"\"\n",
    "l = list(range(1,8))\n",
    "debut, fin = l[0], l[-1]\n",
    "print(\"Le 1er élément vaut {} & le dernier élément vaut {}.\".format(debut, fin))\n",
    "\"\"\""
   ]
  },
  {
   "cell_type": "markdown",
   "metadata": {},
   "source": [
    "> Collect"
   ]
  },
  {
   "cell_type": "markdown",
   "metadata": {},
   "source": [
    "-- ***Initialize an array from a range*** --"
   ]
  },
  {
   "cell_type": "code",
   "execution_count": 168,
   "metadata": {},
   "outputs": [
    {
     "name": "stdout",
     "output_type": "stream",
     "text": [
      "[1, 2, 3, 4, 5, 6, 7, 8]"
     ]
    }
   ],
   "source": [
    "range=collect(1:8)\n",
    "show(range)"
   ]
  },
  {
   "cell_type": "code",
   "execution_count": 169,
   "metadata": {
    "scrolled": true
   },
   "outputs": [
    {
     "name": "stdout",
     "output_type": "stream",
     "text": [
      "[1, 2, 3, 4, 5, 6, 7, 8]\n"
     ]
    }
   ],
   "source": [
    "python\"\"\"\n",
    "l = list(range(1,9))\n",
    "print(l)\n",
    "\"\"\""
   ]
  },
  {
   "cell_type": "code",
   "execution_count": 171,
   "metadata": {},
   "outputs": [
    {
     "data": {
      "text/plain": [
       "@collect (macro with 1 method)"
      ]
     },
     "execution_count": 171,
     "metadata": {},
     "output_type": "execute_result"
    }
   ],
   "source": [
    "macro collect(debut, fin, args...)\n",
    "    if isempty(args)\n",
    "        return collect(debut:fin-1)\n",
    "    end\n",
    "    return collect(debut:args[1]:fin-1)\n",
    "end"
   ]
  },
  {
   "cell_type": "code",
   "execution_count": 185,
   "metadata": {},
   "outputs": [
    {
     "data": {
      "text/plain": [
       "([1, 2, 3, 4, 5, 6, 7, 8], [1, 3, 5, 7])"
      ]
     },
     "execution_count": 185,
     "metadata": {},
     "output_type": "execute_result"
    }
   ],
   "source": [
    "arr, arr2 = @collect(1,9), @collect(1, 9, 2)"
   ]
  },
  {
   "cell_type": "markdown",
   "metadata": {},
   "source": [
    "> Join"
   ]
  },
  {
   "cell_type": "code",
   "execution_count": 186,
   "metadata": {},
   "outputs": [
    {
     "name": "stdout",
     "output_type": "stream",
     "text": [
      "\"1 2 3 4 5 6 7 8\""
     ]
    }
   ],
   "source": [
    "arr_join=join(arr,\" \") # il s'agit d'un string.\n",
    "show(arr_join)\n",
    "# typeof(arr_join)"
   ]
  },
  {
   "cell_type": "code",
   "execution_count": 189,
   "metadata": {},
   "outputs": [
    {
     "name": "stdout",
     "output_type": "stream",
     "text": [
      "1 2 3 4 5 6 7 8\n"
     ]
    }
   ],
   "source": [
    "#=\n",
    "Pour python, il faut au préalable convertir chaque élément en string.\n",
    "Car python ne permet pas de 'join' une liste en entier.\n",
    "=#\n",
    "\n",
    "python\"\"\"\n",
    "l = list(range(1,9))\n",
    "l = \" \".join(str(ele) for ele in l) # string\n",
    "print(\"{}\".format(l))\n",
    "# print(type(l))\n",
    "\"\"\""
   ]
  },
  {
   "cell_type": "markdown",
   "metadata": {},
   "source": [
    "> Undef"
   ]
  },
  {
   "cell_type": "markdown",
   "metadata": {},
   "source": [
    "-- ***array of random...*** --"
   ]
  },
  {
   "cell_type": "code",
   "execution_count": 141,
   "metadata": {
    "scrolled": true
   },
   "outputs": [
    {
     "name": "stdout",
     "output_type": "stream",
     "text": [
      "Int8[-112, -29, -88]"
     ]
    }
   ],
   "source": [
    "arr = Array{Int8}(undef, 3)  # random int8\n",
    "show(arr)"
   ]
  },
  {
   "cell_type": "code",
   "execution_count": 142,
   "metadata": {},
   "outputs": [
    {
     "name": "stdout",
     "output_type": "stream",
     "text": [
      "[4575822624, 4713478016, 4713478032]"
     ]
    }
   ],
   "source": [
    "arr = Array{Int64}(undef, 3)  # random int64\n",
    "show(arr)"
   ]
  },
  {
   "cell_type": "code",
   "execution_count": 143,
   "metadata": {},
   "outputs": [
    {
     "name": "stdout",
     "output_type": "stream",
     "text": [
      "[2.2608558577e-314, 2.3285427484e-314, 2.2945298227e-314]"
     ]
    }
   ],
   "source": [
    "arr = Array{Float64}(undef, 3)  # random float64\n",
    "show(arr)"
   ]
  },
  {
   "cell_type": "markdown",
   "metadata": {},
   "source": [
    "> Push !"
   ]
  },
  {
   "cell_type": "markdown",
   "metadata": {},
   "source": [
    "-- ***ajoute aux array (comme append)*** --"
   ]
  },
  {
   "cell_type": "code",
   "execution_count": 161,
   "metadata": {},
   "outputs": [
    {
     "name": "stdout",
     "output_type": "stream",
     "text": [
      "[5, 66]"
     ]
    }
   ],
   "source": [
    "array=Int64[]\n",
    "push!(array, 5, 66) # pour ajouter à la fin de l'array\n",
    "show(array)"
   ]
  },
  {
   "cell_type": "code",
   "execution_count": 162,
   "metadata": {},
   "outputs": [
    {
     "name": "stdout",
     "output_type": "stream",
     "text": [
      "[5, 66]\n"
     ]
    }
   ],
   "source": [
    "python\"\"\"\n",
    "l = []\n",
    "l.append(5)\n",
    "l.append(66)\n",
    "print(l)\n",
    "\"\"\""
   ]
  },
  {
   "cell_type": "markdown",
   "metadata": {},
   "source": [
    "> Pop !"
   ]
  },
  {
   "cell_type": "markdown",
   "metadata": {},
   "source": [
    "-- ***remove le dernier élément*** --"
   ]
  },
  {
   "cell_type": "code",
   "execution_count": 163,
   "metadata": {
    "scrolled": true
   },
   "outputs": [
    {
     "name": "stdout",
     "output_type": "stream",
     "text": [
      "[5]"
     ]
    }
   ],
   "source": [
    "pop!(array) # pour supprimer la derniere valeur ajoutée\n",
    "show(array)"
   ]
  },
  {
   "cell_type": "code",
   "execution_count": 166,
   "metadata": {},
   "outputs": [
    {
     "name": "stdout",
     "output_type": "stream",
     "text": [
      "[5]\n"
     ]
    }
   ],
   "source": [
    "python\"\"\"\n",
    "l = []\n",
    "l.append(5)\n",
    "l.append(66)\n",
    "print(l[:-1])\n",
    "\"\"\""
   ]
  },
  {
   "cell_type": "markdown",
   "metadata": {},
   "source": [
    "> Append !"
   ]
  },
  {
   "cell_type": "markdown",
   "metadata": {},
   "source": [
    "-- ***Concaténation*** --"
   ]
  },
  {
   "cell_type": "code",
   "execution_count": 202,
   "metadata": {},
   "outputs": [
    {
     "name": "stdout",
     "output_type": "stream",
     "text": [
      "[1, 7, 100, 200, 300]"
     ]
    }
   ],
   "source": [
    "a, b = [1, 7], [100, 200, 300]\n",
    "append!(a, b)\n",
    "show(a) # il y a tout dans a, mais b reste comme tel."
   ]
  },
  {
   "cell_type": "markdown",
   "metadata": {},
   "source": [
    "> Splice !"
   ]
  },
  {
   "cell_type": "markdown",
   "metadata": {},
   "source": [
    "-- ***Remove un élément d'indice i*** --"
   ]
  },
  {
   "cell_type": "code",
   "execution_count": 203,
   "metadata": {},
   "outputs": [
    {
     "name": "stdout",
     "output_type": "stream",
     "text": [
      "100\n",
      "[1, 7, 200, 300]"
     ]
    }
   ],
   "source": [
    "supp = splice!(a, 3) # indice 3\n",
    "println(supp) # l'indice 3 -> 100 est supprimé\n",
    "show(a) "
   ]
  },
  {
   "cell_type": "markdown",
   "metadata": {},
   "source": [
    "> in"
   ]
  },
  {
   "cell_type": "markdown",
   "metadata": {},
   "source": [
    "-- ***For know if it's present or not*** --"
   ]
  },
  {
   "cell_type": "code",
   "execution_count": 211,
   "metadata": {},
   "outputs": [
    {
     "data": {
      "text/plain": [
       "(false, false)"
      ]
     },
     "execution_count": 211,
     "metadata": {},
     "output_type": "execute_result"
    }
   ],
   "source": [
    "in(200, a), in(100, a)\n",
    "# Renvoie 'true' ou 'false'"
   ]
  },
  {
   "cell_type": "markdown",
   "metadata": {},
   "source": [
    "> Sort !"
   ]
  },
  {
   "cell_type": "markdown",
   "metadata": {},
   "source": [
    "-- ***Ranger par ordre croissant ou décroissant*** --"
   ]
  },
  {
   "cell_type": "code",
   "execution_count": 210,
   "metadata": {},
   "outputs": [
    {
     "name": "stdout",
     "output_type": "stream",
     "text": [
      "Sort par ordre croissant: [1, 2, 2, 7, 16, 23]\n",
      "Sort par ordre décroissant: [23, 16, 7, 2, 2, 1]\n"
     ]
    }
   ],
   "source": [
    "a = [16, 7, 2, 23, 2, 1]\n",
    "\n",
    "sort!(a) # a.sort() en python\n",
    "println(\"Sort par ordre croissant: $a\")\n",
    "\n",
    "sort!(a, rev=true)\n",
    "println(\"Sort par ordre décroissant: $a\")"
   ]
  },
  {
   "cell_type": "markdown",
   "metadata": {},
   "source": [
    "> Deepcopy"
   ]
  },
  {
   "cell_type": "markdown",
   "metadata": {},
   "source": [
    "-- ***Renvoie une copy récursive ≠ copy pour une copy superficielle*** --"
   ]
  },
  {
   "cell_type": "code",
   "execution_count": 216,
   "metadata": {},
   "outputs": [
    {
     "name": "stdout",
     "output_type": "stream",
     "text": [
      "a = [1, 2, 4, 6] & b = [1, 2, 4, 0]\n"
     ]
    }
   ],
   "source": [
    "a = [1,2,4,6]\n",
    "b = deepcopy(a)\n",
    "b[end]=0\n",
    "\n",
    "println(\"a = $a & b = $b\")"
   ]
  },
  {
   "cell_type": "markdown",
   "metadata": {},
   "source": [
    "### Matrice [ ]"
   ]
  },
  {
   "cell_type": "code",
   "execution_count": 61,
   "metadata": {},
   "outputs": [
    {
     "data": {
      "text/plain": [
       "2×2 Array{Int64,2}:\n",
       " 1  2\n",
       " 3  4"
      ]
     },
     "execution_count": 61,
     "metadata": {},
     "output_type": "execute_result"
    }
   ],
   "source": [
    "m = [[1 2];[3 4]]\n",
    "m = [1 2; 3 4] # On préviligera cette écriture"
   ]
  },
  {
   "cell_type": "code",
   "execution_count": 65,
   "metadata": {
    "scrolled": true
   },
   "outputs": [
    {
     "data": {
      "text/plain": [
       "2×4 Array{Float64,2}:\n",
       " 0.556772  0.0070461  0.500052  0.353343\n",
       " 0.972235  0.915571   0.400534  0.214419"
      ]
     },
     "execution_count": 65,
     "metadata": {},
     "output_type": "execute_result"
    }
   ],
   "source": [
    "m = rand(2,4) # matrice de taille 2lignes 5colonnes constitué de nb aléatoires entre 0 et 1."
   ]
  },
  {
   "cell_type": "markdown",
   "metadata": {},
   "source": [
    "> ndims, rows & cols"
   ]
  },
  {
   "cell_type": "code",
   "execution_count": 75,
   "metadata": {},
   "outputs": [
    {
     "name": "stdout",
     "output_type": "stream",
     "text": [
      "m est une matrice à 2 dimensions avec 2 lignes & 4 colonnes"
     ]
    }
   ],
   "source": [
    "dim = ndims(m)\n",
    "nrows = size(m,1)\n",
    "ncols = size(m,2)\n",
    "# nrows, ncols = size(m)\n",
    "\n",
    "print(\"m est une matrice à $dim dimensions avec $nrows lignes & $ncols colonnes\")"
   ]
  },
  {
   "cell_type": "markdown",
   "metadata": {},
   "source": [
    "> Trançage"
   ]
  },
  {
   "cell_type": "code",
   "execution_count": 77,
   "metadata": {},
   "outputs": [
    {
     "data": {
      "text/plain": [
       "2-element Array{Float64,1}:\n",
       " 0.0070460970453476435\n",
       " 0.9155708041521768"
      ]
     },
     "execution_count": 77,
     "metadata": {},
     "output_type": "execute_result"
    }
   ],
   "source": [
    "# Sélectionner tout de la deuxième colonne.\n",
    "\n",
    "m[:, 2]  # m[begin:end, n° de la colonne]"
   ]
  },
  {
   "cell_type": "code",
   "execution_count": 82,
   "metadata": {},
   "outputs": [
    {
     "data": {
      "text/plain": [
       "4-element Array{Float64,1}:\n",
       " 0.9722347467958035\n",
       " 0.9155708041521768\n",
       " 0.40053427984196155\n",
       " 0.2144187000658513"
      ]
     },
     "execution_count": 82,
     "metadata": {},
     "output_type": "execute_result"
    }
   ],
   "source": [
    "# Sélectionner tout de la deuxième ligne.\n",
    "\n",
    "m[2, :] # m[n° de la ligne, begin:end]"
   ]
  },
  {
   "cell_type": "code",
   "execution_count": 87,
   "metadata": {},
   "outputs": [
    {
     "data": {
      "text/plain": [
       "2×4 Array{Float64,2}:\n",
       " 0.556772  0.0070461  0.500052  0.353343\n",
       " 0.0       0.0        0.0       0.0"
      ]
     },
     "execution_count": 87,
     "metadata": {},
     "output_type": "execute_result"
    }
   ],
   "source": [
    "# Affecter 0 à tous les éléments de la deuxième ligne. \n",
    "\n",
    "m[2, :] .= 0  # m[2, :] = [0 0 0 0]\n",
    "m"
   ]
  },
  {
   "cell_type": "markdown",
   "metadata": {},
   "source": [
    "> Matrice transpose m'"
   ]
  },
  {
   "cell_type": "code",
   "execution_count": 90,
   "metadata": {},
   "outputs": [
    {
     "data": {
      "text/plain": [
       "2×2 LinearAlgebra.Adjoint{Int64,Array{Int64,2}}:\n",
       " 1  3\n",
       " 2  4"
      ]
     },
     "execution_count": 90,
     "metadata": {},
     "output_type": "execute_result"
    }
   ],
   "source": [
    "m = [1 2; 3 4]\n",
    "m'"
   ]
  },
  {
   "cell_type": "markdown",
   "metadata": {},
   "source": [
    "> Concaténation"
   ]
  },
  {
   "cell_type": "code",
   "execution_count": 98,
   "metadata": {},
   "outputs": [
    {
     "data": {
      "text/plain": [
       "([1 2; 3 4], [5 6; 7 8])"
      ]
     },
     "execution_count": 98,
     "metadata": {},
     "output_type": "execute_result"
    }
   ],
   "source": [
    "#a = [1 2; 3 4]\n",
    "#b = [5 6; 7 8]\n",
    "\n",
    "a, b = [1 2; 3 4], [5 6; 7 8]"
   ]
  },
  {
   "cell_type": "code",
   "execution_count": 99,
   "metadata": {},
   "outputs": [
    {
     "data": {
      "text/plain": [
       "2×4 Array{Int64,2}:\n",
       " 1  2  5  6\n",
       " 3  4  7  8"
      ]
     },
     "execution_count": 99,
     "metadata": {},
     "output_type": "execute_result"
    }
   ],
   "source": [
    "# concaténation horizontale\n",
    "\n",
    "h = hcat(a,b) \n",
    "# h = [a b]"
   ]
  },
  {
   "cell_type": "code",
   "execution_count": 102,
   "metadata": {},
   "outputs": [
    {
     "data": {
      "text/plain": [
       "4×2 Array{Int64,2}:\n",
       " 1  2\n",
       " 3  4\n",
       " 5  6\n",
       " 7  8"
      ]
     },
     "execution_count": 102,
     "metadata": {},
     "output_type": "execute_result"
    }
   ],
   "source": [
    "# concaténation verticale\n",
    "\n",
    "v = vcat(a,b) \n",
    "# v = [a; b]"
   ]
  },
  {
   "cell_type": "markdown",
   "metadata": {},
   "source": [
    "### Data-structure (Tuple) -> ( )"
   ]
  },
  {
   "cell_type": "markdown",
   "metadata": {},
   "source": [
    "- Tuple is immutable"
   ]
  },
  {
   "cell_type": "code",
   "execution_count": 104,
   "metadata": {},
   "outputs": [
    {
     "name": "stdout",
     "output_type": "stream",
     "text": [
      "Tuple{Int64,Int64,Int64}\n",
      "Tuple{String,String,String}\n",
      "Tuple{Int64,String,Float64}\n"
     ]
    }
   ],
   "source": [
    "nombre=(1,2,3) # que des Int\n",
    "food=(\"pizza\",\"burger\",\"salade\") # que des String\n",
    "mix_tuple=(1,\"2\",3.0) # différents types \n",
    "\n",
    "println(typeof(nombre))\n",
    "println(typeof(food))\n",
    "println(typeof(mix_tuple))"
   ]
  },
  {
   "cell_type": "code",
   "execution_count": 108,
   "metadata": {},
   "outputs": [
    {
     "name": "stdout",
     "output_type": "stream",
     "text": [
      "(nourriture = \"tarte\", item = [\"flour\", \"salt\", \"pepper\"], salade = \"comcombre\")\n",
      "[\"flour\", \"salt\", \"pepper\"]\n"
     ]
    }
   ],
   "source": [
    "t=(nourriture=\"tarte\", item=[\"flour\", \"salt\", \"pepper\"], salade=\"comcombre\")\n",
    "\n",
    "println(t)\n",
    "println(t.item)"
   ]
  },
  {
   "cell_type": "markdown",
   "metadata": {},
   "source": [
    "> Trançage"
   ]
  },
  {
   "cell_type": "code",
   "execution_count": 50,
   "metadata": {},
   "outputs": [
    {
     "name": "stdout",
     "output_type": "stream",
     "text": [
      "pizza\n",
      "(\"pizza\", \"burger\")\n",
      "(\"pizza\", \"burger\", \"salade\")\n"
     ]
    }
   ],
   "source": [
    "println(food[1]) # food[0] n'existe pas\n",
    "println(food[1:2])\n",
    "println(food[begin:end])"
   ]
  },
  {
   "cell_type": "markdown",
   "metadata": {},
   "source": [
    "> Reverse"
   ]
  },
  {
   "cell_type": "code",
   "execution_count": 67,
   "metadata": {},
   "outputs": [
    {
     "name": "stdout",
     "output_type": "stream",
     "text": [
      "(3.0, \"2\", 1)\n"
     ]
    }
   ],
   "source": [
    "println(reverse(mix_tuple)) # returner le tuple"
   ]
  },
  {
   "cell_type": "markdown",
   "metadata": {},
   "source": [
    "> Tuple( )"
   ]
  },
  {
   "cell_type": "code",
   "execution_count": 109,
   "metadata": {},
   "outputs": [
    {
     "data": {
      "text/plain": [
       "('A', 'G', 'T', 'C', 'T', 'G', 'G', 'A', 'C')"
      ]
     },
     "execution_count": 109,
     "metadata": {},
     "output_type": "execute_result"
    }
   ],
   "source": [
    "seq = Tuple(\"AGTCTGGAC\")"
   ]
  },
  {
   "cell_type": "code",
   "execution_count": 110,
   "metadata": {},
   "outputs": [
    {
     "name": "stdout",
     "output_type": "stream",
     "text": [
      "A G T C T G G A C "
     ]
    }
   ],
   "source": [
    "for nucleotide in seq\n",
    "    print(\"$nucleotide \")\n",
    "end"
   ]
  },
  {
   "cell_type": "markdown",
   "metadata": {},
   "source": [
    "### Data-structure (Dictionnary) -> { }"
   ]
  },
  {
   "cell_type": "code",
   "execution_count": 70,
   "metadata": {},
   "outputs": [],
   "source": [
    "# structure KEY VALUE\n",
    "#=\n",
    "India > Delhi\n",
    "USA > NY\n",
    "France > Paris\n",
    "=#"
   ]
  },
  {
   "cell_type": "code",
   "execution_count": 128,
   "metadata": {},
   "outputs": [
    {
     "name": "stdout",
     "output_type": "stream",
     "text": [
      "Dict{Any,Any}(\"India\" => \"Delhi\",\"Usa\" => \"NY\",\"France\" => \"Paris\")\n",
      "La capital de l'Inde est: Delhi\n"
     ]
    }
   ],
   "source": [
    "capital=Dict() # dico vide\n",
    "capital[\"India\"]=\"Delhi\"\n",
    "capital[\"Usa\"]=\"NY\"\n",
    "capital[\"France\"]=\"Paris\"\n",
    "\n",
    "println(capital)\n",
    "println(\"La capital de l'Inde est: \", capital[\"India\"])"
   ]
  },
  {
   "cell_type": "code",
   "execution_count": 129,
   "metadata": {},
   "outputs": [
    {
     "data": {
      "text/plain": [
       "Dict{String,Any} with 3 entries:\n",
       "  \"South Africa\" => [\"Cape Town\", \"Pretoria\"]\n",
       "  \"France\"       => \"Paris\"\n",
       "  \"Russia\"       => \"Moscow\""
      ]
     },
     "execution_count": 129,
     "metadata": {},
     "output_type": "execute_result"
    }
   ],
   "source": [
    "# 2e façon d'écrir un dictionnaire. \n",
    "capital2 = Dict(\"France\" => \"Paris\", \"Russia\" => \"Moscow\", \"South Africa\" => \n",
    "    [\"Cape Town\", \"Pretoria\"])"
   ]
  },
  {
   "cell_type": "code",
   "execution_count": 149,
   "metadata": {},
   "outputs": [
    {
     "data": {
      "text/plain": [
       "Dict{String,Any} with 3 entries:\n",
       "  \"South Africa\" => Dict(\"Administrative\"=>\"Pretoria\",\"Législative\"=>\"Cape Town…\n",
       "  \"France\"       => \"Paris\"\n",
       "  \"Russia\"       => \"Moscow\""
      ]
     },
     "execution_count": 149,
     "metadata": {},
     "output_type": "execute_result"
    }
   ],
   "source": [
    "pays = [\"France\", \"Russia\", \"South Africa\"]\n",
    "capitals = [\"Paris\", \"Moscow\", Dict(\"Administrative\" => \"Pretoria\", \"Législative\" => \"Cape Town\")]\n",
    "\n",
    "capital3 = Dict(zip(pays, capitals))"
   ]
  },
  {
   "cell_type": "code",
   "execution_count": 130,
   "metadata": {},
   "outputs": [
    {
     "data": {
      "text/plain": [
       "\"New York\""
      ]
     },
     "execution_count": 130,
     "metadata": {},
     "output_type": "execute_result"
    }
   ],
   "source": [
    "capital[\"Usa\"]=\"New York\" # pr changer the value"
   ]
  },
  {
   "cell_type": "code",
   "execution_count": 131,
   "metadata": {},
   "outputs": [
    {
     "name": "stdout",
     "output_type": "stream",
     "text": [
      "Dict{Any,Any}(\"Usa\" => \"New York\",\"France\" => \"Paris\")\n"
     ]
    },
    {
     "ename": "LoadError",
     "evalue": "KeyError: key 1 not found",
     "output_type": "error",
     "traceback": [
      "KeyError: key 1 not found",
      "",
      "Stacktrace:",
      " [1] getindex(::Dict{Any,Any}, ::Int64) at ./dict.jl:467",
      " [2] top-level scope at In[131]:4",
      " [3] include_string(::Function, ::Module, ::String, ::String) at ./loading.jl:1091",
      " [4] execute_code(::String, ::String) at /Users/audrey/.julia/packages/IJulia/a1SNk/src/execute_request.jl:27",
      " [5] execute_request(::ZMQ.Socket, ::IJulia.Msg) at /Users/audrey/.julia/packages/IJulia/a1SNk/src/execute_request.jl:86",
      " [6] #invokelatest#1 at ./essentials.jl:710 [inlined]",
      " [7] invokelatest at ./essentials.jl:709 [inlined]",
      " [8] eventloop(::ZMQ.Socket) at /Users/audrey/.julia/packages/IJulia/a1SNk/src/eventloop.jl:8",
      " [9] (::IJulia.var\"#15#18\")() at ./task.jl:356"
     ]
    }
   ],
   "source": [
    "pop!(capital) # pr supprimer la premiere key-value ajoutée\n",
    "\n",
    "println(capital) # India a disparu\n",
    "capital[1] # correspondait à India"
   ]
  },
  {
   "cell_type": "code",
   "execution_count": 133,
   "metadata": {},
   "outputs": [
    {
     "data": {
      "text/plain": [
       "Dict{String,Int64} with 6 entries:\n",
       "  \"f\" => 6\n",
       "  \"c\" => 3\n",
       "  \"e\" => 5\n",
       "  \"b\" => 2\n",
       "  \"a\" => 1\n",
       "  \"d\" => 4"
      ]
     },
     "execution_count": 133,
     "metadata": {},
     "output_type": "execute_result"
    }
   ],
   "source": [
    "nb=Dict(\"a\"=>1,\"b\"=>2,\"c\"=>3,\"d\"=>4,\"e\"=>5,\"f\"=>6)"
   ]
  },
  {
   "cell_type": "code",
   "execution_count": 141,
   "metadata": {},
   "outputs": [
    {
     "name": "stdout",
     "output_type": "stream",
     "text": [
      "La value de la clef b est: 2\n"
     ]
    },
    {
     "ename": "LoadError",
     "evalue": "KeyError: key \"hfdg\" not found",
     "output_type": "error",
     "traceback": [
      "KeyError: key \"hfdg\" not found",
      "",
      "Stacktrace:",
      " [1] getindex(::Dict{String,Int64}, ::String) at ./dict.jl:467",
      " [2] top-level scope at In[141]:2",
      " [3] include_string(::Function, ::Module, ::String, ::String) at ./loading.jl:1091",
      " [4] execute_code(::String, ::String) at /Users/audrey/.julia/packages/IJulia/a1SNk/src/execute_request.jl:27",
      " [5] execute_request(::ZMQ.Socket, ::IJulia.Msg) at /Users/audrey/.julia/packages/IJulia/a1SNk/src/execute_request.jl:86",
      " [6] #invokelatest#1 at ./essentials.jl:710 [inlined]",
      " [7] invokelatest at ./essentials.jl:709 [inlined]",
      " [8] eventloop(::ZMQ.Socket) at /Users/audrey/.julia/packages/IJulia/a1SNk/src/eventloop.jl:8",
      " [9] (::IJulia.var\"#15#18\")() at ./task.jl:356"
     ]
    }
   ],
   "source": [
    "println(\"La value de la clef b est: \", nb[\"b\"]) # pr chercher s'il existe\n",
    "println(nb[\"hfdg\"]) # n'existe pas"
   ]
  },
  {
   "cell_type": "markdown",
   "metadata": {},
   "source": [
    "> Get"
   ]
  },
  {
   "cell_type": "code",
   "execution_count": 142,
   "metadata": {},
   "outputs": [
    {
     "data": {
      "text/plain": [
       "(1, \"null\")"
      ]
     },
     "execution_count": 142,
     "metadata": {},
     "output_type": "execute_result"
    }
   ],
   "source": [
    "get(nb,\"a\",\"null\"), get(nb,\"A\",\"null\")\n",
    "\n",
    "#= Ds le dico 'nb' s'il y a la clef 'a', me retourner la value. \n",
    "Sinon me retourner 'null'.\n",
    "\n",
    "Ds le dico 'nb' s'il y a la clef 'A', me retourner la value. \n",
    "Sinon me retourner 'null'.\n",
    "=#"
   ]
  },
  {
   "cell_type": "markdown",
   "metadata": {},
   "source": [
    "> Haskey"
   ]
  },
  {
   "cell_type": "code",
   "execution_count": 143,
   "metadata": {},
   "outputs": [
    {
     "data": {
      "text/plain": [
       "(true, false)"
      ]
     },
     "execution_count": 143,
     "metadata": {},
     "output_type": "execute_result"
    }
   ],
   "source": [
    "haskey(nb, \"c\"), haskey(nb, \"j\")\n",
    "# si la clef 'c' et 'j' sont présentes ou non. "
   ]
  },
  {
   "cell_type": "markdown",
   "metadata": {},
   "source": [
    "> Delete !"
   ]
  },
  {
   "cell_type": "code",
   "execution_count": 88,
   "metadata": {},
   "outputs": [
    {
     "data": {
      "text/plain": [
       "Dict{String,Int64} with 5 entries:\n",
       "  \"f\" => 6\n",
       "  \"c\" => 3\n",
       "  \"b\" => 2\n",
       "  \"a\" => 1\n",
       "  \"d\" => 4"
      ]
     },
     "execution_count": 88,
     "metadata": {},
     "output_type": "execute_result"
    }
   ],
   "source": [
    "delete!(nb,\"e\") # pr supprimer la clef \"e\"."
   ]
  },
  {
   "cell_type": "code",
   "execution_count": 89,
   "metadata": {},
   "outputs": [
    {
     "name": "stdout",
     "output_type": "stream",
     "text": [
      "[\"f\", \"c\", \"b\", \"a\", \"d\"]\n",
      "[6, 3, 2, 1, 4]\n"
     ]
    }
   ],
   "source": [
    "println(keys(nb))\n",
    "println(values(nb))"
   ]
  },
  {
   "cell_type": "code",
   "execution_count": 144,
   "metadata": {},
   "outputs": [
    {
     "name": "stdout",
     "output_type": "stream",
     "text": [
      "South Africa  France  Russia  "
     ]
    }
   ],
   "source": [
    "for pays in keys(capital2)\n",
    "    print(\"$pays  \")\n",
    "end"
   ]
  },
  {
   "cell_type": "code",
   "execution_count": 145,
   "metadata": {
    "scrolled": true
   },
   "outputs": [
    {
     "name": "stdout",
     "output_type": "stream",
     "text": [
      "[\"Cape Town\", \"Pretoria\"]  Paris  Moscow  "
     ]
    }
   ],
   "source": [
    "for capital in values(capital2)\n",
    "    print(\"$capital  \")\n",
    "end"
   ]
  },
  {
   "cell_type": "code",
   "execution_count": 146,
   "metadata": {},
   "outputs": [
    {
     "name": "stdout",
     "output_type": "stream",
     "text": [
      "South Africa: [\"Cape Town\", \"Pretoria\"]\n",
      "France: Paris\n",
      "Russia: Moscow\n"
     ]
    }
   ],
   "source": [
    "for (pays, capital) in capital2\n",
    "    println(\"$pays: $capital\")\n",
    "end"
   ]
  },
  {
   "cell_type": "code",
   "execution_count": 148,
   "metadata": {},
   "outputs": [
    {
     "name": "stdout",
     "output_type": "stream",
     "text": [
      "{'France': 'Paris', 'Russia': 'Moscow', 'South Africa': ['Cape Town', 'Pretoria']}\n",
      "{'France': 'Paris', 'Russia': 'Moscow', 'South Africa': {'Administrative': 'Pretoria', 'Législative': 'Cape Town'}}\n",
      "\n",
      "KEYS\n",
      "France  Russia  South Africa  \n",
      "\n",
      "VALUES\n",
      "Paris  Moscow  {'Administrative': 'Pretoria', 'Législative': 'Cape Town'}  \n",
      "\n",
      "ITEMS\n",
      "France: Paris\n",
      "Russia: Moscow\n",
      "South Africa: {'Administrative': 'Pretoria', 'Législative': 'Cape Town'}\n"
     ]
    }
   ],
   "source": [
    "python\"\"\"\n",
    "dico = {'France': \"Paris\", 'Russia': \"Moscow\", 'South Africa': [\"Cape Town\", \"Pretoria\"]}\n",
    "\n",
    "pays = [\"France\", \"Russia\", \"South Africa\"]\n",
    "capital = [\"Paris\", \"Moscow\", {\"Administrative\": \"Pretoria\", \"Législative\": \"Cape Town\"}]\n",
    "dico2 = dict(zip(pays, capital))\n",
    "\n",
    "print(\"{}\\n{}\".format(dico, dico2), end=\"\\n\\n\")\n",
    "\n",
    "print(\"KEYS\")\n",
    "for pays in dico2.keys():\n",
    "    print(\"{}  \".format(pays), end=\"\")\n",
    "\n",
    "print(\"\\n\\nVALUES\")\n",
    "for capital in dico2.values():\n",
    "    print(\"{}  \".format(capital), end=\"\")\n",
    "\n",
    "print(\"\\n\\nITEMS\")\n",
    "for pays, capital in dico2.items():\n",
    "    print(\"{}: {}\".format(pays, capital))\n",
    "\"\"\""
   ]
  },
  {
   "cell_type": "markdown",
   "metadata": {},
   "source": [
    "> Set"
   ]
  },
  {
   "cell_type": "code",
   "execution_count": 150,
   "metadata": {},
   "outputs": [
    {
     "data": {
      "text/plain": [
       "(Set([25, 13, 1]), Set([7, 25]))"
      ]
     },
     "execution_count": 150,
     "metadata": {},
     "output_type": "execute_result"
    }
   ],
   "source": [
    "s, s2 = Set([1, 1, 25]), Set([7, 25])\n",
    "push!(s, 1); push!(s, 13)\n",
    "\n",
    "s, s2"
   ]
  },
  {
   "cell_type": "markdown",
   "metadata": {},
   "source": [
    "> Union, Intersect, Setdiff"
   ]
  },
  {
   "cell_type": "code",
   "execution_count": 151,
   "metadata": {},
   "outputs": [
    {
     "name": "stdout",
     "output_type": "stream",
     "text": [
      "Union: Set([7, 25, 13, 1])\n",
      "Intersect: Set([25])\n",
      "Diff (s s2): Set([13, 1]) & Diff (s2 s): Set([7])\n"
     ]
    }
   ],
   "source": [
    "println(\"Union: $(union(s, s2))\")\n",
    "println(\"Intersect: $(intersect(s, s2))\")\n",
    "println(\"Diff (s s2): $(setdiff(s, s2)) & Diff (s2 s): $(setdiff(s2, s))\")"
   ]
  },
  {
   "cell_type": "markdown",
   "metadata": {},
   "source": [
    "### Boucles If and While"
   ]
  },
  {
   "cell_type": "code",
   "execution_count": 90,
   "metadata": {
    "scrolled": true
   },
   "outputs": [
    {
     "name": "stdout",
     "output_type": "stream",
     "text": [
      "1\n",
      "2\n",
      "3\n",
      "4\n",
      "5\n"
     ]
    }
   ],
   "source": [
    "n=0\n",
    "\n",
    "while n<5 # pas de ':'\n",
    "    n +=1\n",
    "    println(n)\n",
    "end # on fini la boucle avec un 'end'"
   ]
  },
  {
   "cell_type": "code",
   "execution_count": 91,
   "metadata": {},
   "outputs": [
    {
     "name": "stdout",
     "output_type": "stream",
     "text": [
      "1\n",
      "2\n",
      "3\n",
      "4\n",
      "5\n"
     ]
    }
   ],
   "source": [
    "for n in 1:5\n",
    "    println(n)\n",
    "end"
   ]
  },
  {
   "cell_type": "code",
   "execution_count": 92,
   "metadata": {},
   "outputs": [
    {
     "name": "stdout",
     "output_type": "stream",
     "text": [
      "1:1\n",
      "2:4\n",
      "3:9\n",
      "4:16\n",
      "5:25\n"
     ]
    }
   ],
   "source": [
    "for n in 1:5\n",
    "    println(n, \":\", n*n)\n",
    "end"
   ]
  },
  {
   "cell_type": "code",
   "execution_count": 93,
   "metadata": {},
   "outputs": [
    {
     "name": "stdout",
     "output_type": "stream",
     "text": [
      "1\n",
      "4\n",
      "9\n",
      "12\n",
      "16\n",
      "25\n"
     ]
    }
   ],
   "source": [
    "arr=[1,4,9,12,16,25]\n",
    "\n",
    "i=1 # si i=0, ne fonctionne pas car commence à 1.\n",
    "while i<=length(arr)\n",
    "    println(arr[i])\n",
    "    i+=1\n",
    "end"
   ]
  },
  {
   "cell_type": "code",
   "execution_count": 94,
   "metadata": {},
   "outputs": [
    {
     "name": "stdout",
     "output_type": "stream",
     "text": [
      "1\n",
      "4\n",
      "9\n",
      "12\n",
      "16\n",
      "25\n"
     ]
    }
   ],
   "source": [
    "for n in arr\n",
    "    println(n)\n",
    "end"
   ]
  },
  {
   "cell_type": "code",
   "execution_count": 95,
   "metadata": {},
   "outputs": [
    {
     "data": {
      "text/plain": [
       "5×3 Array{Int64,2}:\n",
       " 4  10  9\n",
       " 6   3  1\n",
       " 7   8  2\n",
       " 3   2  9\n",
       " 7   6  4"
      ]
     },
     "execution_count": 95,
     "metadata": {},
     "output_type": "execute_result"
    }
   ],
   "source": [
    "m,n=5,3 # m=5 lignes  n=3 colonnes\n",
    "A=rand(1:10,(m,n)) # random fonction"
   ]
  },
  {
   "cell_type": "code",
   "execution_count": 96,
   "metadata": {},
   "outputs": [
    {
     "data": {
      "text/plain": [
       "5×3 Array{Int64,2}:\n",
       " 0  0  0\n",
       " 0  0  0\n",
       " 0  0  0\n",
       " 0  0  0\n",
       " 0  0  0"
      ]
     },
     "execution_count": 96,
     "metadata": {},
     "output_type": "execute_result"
    }
   ],
   "source": [
    "B=fill(0,(m,n)) # methode fill -> remplir un array d'un chiffre."
   ]
  },
  {
   "cell_type": "code",
   "execution_count": 97,
   "metadata": {
    "scrolled": true
   },
   "outputs": [
    {
     "name": "stdout",
     "output_type": "stream",
     "text": [
      "search: \u001b[0m\u001b[1mr\u001b[22m\u001b[0m\u001b[1ma\u001b[22m\u001b[0m\u001b[1mn\u001b[22m\u001b[0m\u001b[1md\u001b[22m \u001b[0m\u001b[1mr\u001b[22m\u001b[0m\u001b[1ma\u001b[22m\u001b[0m\u001b[1mn\u001b[22m\u001b[0m\u001b[1md\u001b[22mn t\u001b[0m\u001b[1mr\u001b[22m\u001b[0m\u001b[1ma\u001b[22m\u001b[0m\u001b[1mn\u001b[22msco\u001b[0m\u001b[1md\u001b[22me mac\u001b[0m\u001b[1mr\u001b[22moexp\u001b[0m\u001b[1ma\u001b[22m\u001b[0m\u001b[1mn\u001b[22m\u001b[0m\u001b[1md\u001b[22m @mac\u001b[0m\u001b[1mr\u001b[22moexp\u001b[0m\u001b[1ma\u001b[22m\u001b[0m\u001b[1mn\u001b[22m\u001b[0m\u001b[1md\u001b[22m @mac\u001b[0m\u001b[1mr\u001b[22moexp\u001b[0m\u001b[1ma\u001b[22m\u001b[0m\u001b[1mn\u001b[22m\u001b[0m\u001b[1md\u001b[22m1\n",
      "\n"
     ]
    },
    {
     "data": {
      "text/latex": [
       "\\begin{verbatim}\n",
       "rand([rng=GLOBAL_RNG], [S], [dims...])\n",
       "\\end{verbatim}\n",
       "Pick a random element or array of random elements from the set of values specified by \\texttt{S}; \\texttt{S} can be\n",
       "\n",
       "\\begin{itemize}\n",
       "\\item an indexable collection (for example \\texttt{1:9} or \\texttt{('x', \"y\", :z)}),\n",
       "\n",
       "\n",
       "\\item an \\texttt{AbstractDict} or \\texttt{AbstractSet} object,\n",
       "\n",
       "\n",
       "\\item a string (considered as a collection of characters), or\n",
       "\n",
       "\n",
       "\\item a type: the set of values to pick from is then equivalent to \\texttt{typemin(S):typemax(S)} for integers (this is not applicable to \\href{@ref}{\\texttt{BigInt}}), to $[0, 1)$ for floating point numbers and to $[0, 1)+i[0, 1)$ for complex floating point numbers;\n",
       "\n",
       "\\end{itemize}\n",
       "\\texttt{S} defaults to \\href{@ref}{\\texttt{Float64}}. When only one argument is passed besides the optional \\texttt{rng} and is a \\texttt{Tuple}, it is interpreted as a collection of values (\\texttt{S}) and not as \\texttt{dims}.\n",
       "\n",
       "\\begin{quote}\n",
       "\\textbf{compat}\n",
       "\n",
       "Julia 1.1\n",
       "\n",
       "Support for \\texttt{S} as a tuple requires at least Julia 1.1.\n",
       "\n",
       "\\end{quote}\n",
       "\\section{Examples}\n",
       "\\begin{verbatim}\n",
       "julia> rand(Int, 2)\n",
       "2-element Array{Int64,1}:\n",
       " 1339893410598768192\n",
       " 1575814717733606317\n",
       "\n",
       "julia> using Random\n",
       "\n",
       "julia> rand(MersenneTwister(0), Dict(1=>2, 3=>4))\n",
       "1=>2\n",
       "\n",
       "julia> rand((2, 3))\n",
       "3\n",
       "\n",
       "julia> rand(Float64, (2, 3))\n",
       "2×3 Array{Float64,2}:\n",
       " 0.999717  0.0143835  0.540787\n",
       " 0.696556  0.783855   0.938235\n",
       "\\end{verbatim}\n",
       "\\begin{quote}\n",
       "\\textbf{note}\n",
       "\n",
       "Note\n",
       "\n",
       "The complexity of \\texttt{rand(rng, s::Union\\{AbstractDict,AbstractSet\\})} is linear in the length of \\texttt{s}, unless an optimized method with constant complexity is available, which is the case for \\texttt{Dict}, \\texttt{Set} and \\texttt{BitSet}. For more than a few calls, use \\texttt{rand(rng, collect(s))} instead, or either \\texttt{rand(rng, Dict(s))} or \\texttt{rand(rng, Set(s))} as appropriate.\n",
       "\n",
       "\\end{quote}\n"
      ],
      "text/markdown": [
       "```\n",
       "rand([rng=GLOBAL_RNG], [S], [dims...])\n",
       "```\n",
       "\n",
       "Pick a random element or array of random elements from the set of values specified by `S`; `S` can be\n",
       "\n",
       "  * an indexable collection (for example `1:9` or `('x', \"y\", :z)`),\n",
       "  * an `AbstractDict` or `AbstractSet` object,\n",
       "  * a string (considered as a collection of characters), or\n",
       "  * a type: the set of values to pick from is then equivalent to `typemin(S):typemax(S)` for integers (this is not applicable to [`BigInt`](@ref)), to $[0, 1)$ for floating point numbers and to $[0, 1)+i[0, 1)$ for complex floating point numbers;\n",
       "\n",
       "`S` defaults to [`Float64`](@ref). When only one argument is passed besides the optional `rng` and is a `Tuple`, it is interpreted as a collection of values (`S`) and not as `dims`.\n",
       "\n",
       "!!! compat \"Julia 1.1\"\n",
       "    Support for `S` as a tuple requires at least Julia 1.1.\n",
       "\n",
       "\n",
       "# Examples\n",
       "\n",
       "```julia-repl\n",
       "julia> rand(Int, 2)\n",
       "2-element Array{Int64,1}:\n",
       " 1339893410598768192\n",
       " 1575814717733606317\n",
       "\n",
       "julia> using Random\n",
       "\n",
       "julia> rand(MersenneTwister(0), Dict(1=>2, 3=>4))\n",
       "1=>2\n",
       "\n",
       "julia> rand((2, 3))\n",
       "3\n",
       "\n",
       "julia> rand(Float64, (2, 3))\n",
       "2×3 Array{Float64,2}:\n",
       " 0.999717  0.0143835  0.540787\n",
       " 0.696556  0.783855   0.938235\n",
       "```\n",
       "\n",
       "!!! note\n",
       "    The complexity of `rand(rng, s::Union{AbstractDict,AbstractSet})` is linear in the length of `s`, unless an optimized method with constant complexity is available, which is the case for `Dict`, `Set` and `BitSet`. For more than a few calls, use `rand(rng, collect(s))` instead, or either `rand(rng, Dict(s))` or `rand(rng, Set(s))` as appropriate.\n",
       "\n"
      ],
      "text/plain": [
       "\u001b[36m  rand([rng=GLOBAL_RNG], [S], [dims...])\u001b[39m\n",
       "\n",
       "  Pick a random element or array of random elements from the set of values\n",
       "  specified by \u001b[36mS\u001b[39m; \u001b[36mS\u001b[39m can be\n",
       "\n",
       "    •    an indexable collection (for example \u001b[36m1:9\u001b[39m or \u001b[36m('x', \"y\", :z)\u001b[39m),\n",
       "\n",
       "    •    an \u001b[36mAbstractDict\u001b[39m or \u001b[36mAbstractSet\u001b[39m object,\n",
       "\n",
       "    •    a string (considered as a collection of characters), or\n",
       "\n",
       "    •    a type: the set of values to pick from is then equivalent to\n",
       "        \u001b[36mtypemin(S):typemax(S)\u001b[39m for integers (this is not applicable to\n",
       "        \u001b[36mBigInt\u001b[39m), to \u001b[35m[0, 1)\u001b[39m for floating point numbers and to \u001b[35m[0, 1)+i[0,\n",
       "        1)\u001b[39m for complex floating point numbers;\n",
       "\n",
       "  \u001b[36mS\u001b[39m defaults to \u001b[36mFloat64\u001b[39m. When only one argument is passed besides the optional\n",
       "  \u001b[36mrng\u001b[39m and is a \u001b[36mTuple\u001b[39m, it is interpreted as a collection of values (\u001b[36mS\u001b[39m) and not\n",
       "  as \u001b[36mdims\u001b[39m.\n",
       "\n",
       "\u001b[39m\u001b[1m  │ \u001b[22m\u001b[39m\u001b[1mJulia 1.1\u001b[22m\n",
       "\u001b[39m\u001b[1m  │\u001b[22m\n",
       "\u001b[39m\u001b[1m  │\u001b[22m  Support for \u001b[36mS\u001b[39m as a tuple requires at least Julia 1.1.\n",
       "\n",
       "\u001b[1m  Examples\u001b[22m\n",
       "\u001b[1m  ≡≡≡≡≡≡≡≡≡≡\u001b[22m\n",
       "\n",
       "\u001b[36m  julia> rand(Int, 2)\u001b[39m\n",
       "\u001b[36m  2-element Array{Int64,1}:\u001b[39m\n",
       "\u001b[36m   1339893410598768192\u001b[39m\n",
       "\u001b[36m   1575814717733606317\u001b[39m\n",
       "\u001b[36m  \u001b[39m\n",
       "\u001b[36m  julia> using Random\u001b[39m\n",
       "\u001b[36m  \u001b[39m\n",
       "\u001b[36m  julia> rand(MersenneTwister(0), Dict(1=>2, 3=>4))\u001b[39m\n",
       "\u001b[36m  1=>2\u001b[39m\n",
       "\u001b[36m  \u001b[39m\n",
       "\u001b[36m  julia> rand((2, 3))\u001b[39m\n",
       "\u001b[36m  3\u001b[39m\n",
       "\u001b[36m  \u001b[39m\n",
       "\u001b[36m  julia> rand(Float64, (2, 3))\u001b[39m\n",
       "\u001b[36m  2×3 Array{Float64,2}:\u001b[39m\n",
       "\u001b[36m   0.999717  0.0143835  0.540787\u001b[39m\n",
       "\u001b[36m   0.696556  0.783855   0.938235\u001b[39m\n",
       "\n",
       "\u001b[36m\u001b[1m  │ \u001b[22m\u001b[39m\u001b[36m\u001b[1mNote\u001b[22m\u001b[39m\n",
       "\u001b[36m\u001b[1m  │\u001b[22m\u001b[39m\n",
       "\u001b[36m\u001b[1m  │\u001b[22m\u001b[39m  The complexity of \u001b[36mrand(rng, s::Union{AbstractDict,AbstractSet})\u001b[39m is\n",
       "\u001b[36m\u001b[1m  │\u001b[22m\u001b[39m  linear in the length of \u001b[36ms\u001b[39m, unless an optimized method with\n",
       "\u001b[36m\u001b[1m  │\u001b[22m\u001b[39m  constant complexity is available, which is the case for \u001b[36mDict\u001b[39m, \u001b[36mSet\u001b[39m\n",
       "\u001b[36m\u001b[1m  │\u001b[22m\u001b[39m  and \u001b[36mBitSet\u001b[39m. For more than a few calls, use \u001b[36mrand(rng, collect(s))\u001b[39m\n",
       "\u001b[36m\u001b[1m  │\u001b[22m\u001b[39m  instead, or either \u001b[36mrand(rng, Dict(s))\u001b[39m or \u001b[36mrand(rng, Set(s))\u001b[39m as\n",
       "\u001b[36m\u001b[1m  │\u001b[22m\u001b[39m  appropriate."
      ]
     },
     "execution_count": 97,
     "metadata": {},
     "output_type": "execute_result"
    }
   ],
   "source": [
    "?rand"
   ]
  },
  {
   "cell_type": "code",
   "execution_count": 98,
   "metadata": {},
   "outputs": [
    {
     "data": {
      "text/plain": [
       "5-element Array{Int64,1}:\n",
       "  7817736312498672269\n",
       " -6801492675777894149\n",
       "  1648002693673193281\n",
       "   323740819838151269\n",
       " -5011619789876617563"
      ]
     },
     "execution_count": 98,
     "metadata": {},
     "output_type": "execute_result"
    }
   ],
   "source": [
    "rand(Int,5) # va générer 5 chiffres entiers aléatoirement"
   ]
  },
  {
   "cell_type": "code",
   "execution_count": 99,
   "metadata": {},
   "outputs": [
    {
     "data": {
      "text/plain": [
       "5-element Array{Float64,1}:\n",
       " 0.9956976174312719\n",
       " 0.29679718538764654\n",
       " 0.22190851319074922\n",
       " 0.43539176473651664\n",
       " 0.12935323068115445"
      ]
     },
     "execution_count": 99,
     "metadata": {},
     "output_type": "execute_result"
    }
   ],
   "source": [
    "rand(Float64,5) # va générer 5 chiffres décimales aléatoirement"
   ]
  },
  {
   "cell_type": "code",
   "execution_count": 100,
   "metadata": {},
   "outputs": [
    {
     "data": {
      "text/plain": [
       "3"
      ]
     },
     "execution_count": 100,
     "metadata": {},
     "output_type": "execute_result"
    }
   ],
   "source": [
    "rand((2,3,5,6,7)) # va générer aléatoirement un chiffre présent dans la liste"
   ]
  },
  {
   "cell_type": "code",
   "execution_count": 101,
   "metadata": {},
   "outputs": [
    {
     "name": "stdout",
     "output_type": "stream",
     "text": [
      "8\t4\t3\t\n",
      "3\t3\t7\t\n",
      "9\t6\t4\t\n",
      "6\t7\t7\t\n",
      "6\t10\t4\t\n"
     ]
    }
   ],
   "source": [
    "m,n=5,3\n",
    "A=rand(1:10,(m,n))\n",
    "\n",
    "for i in 1:m\n",
    "    for j in 1:n\n",
    "        print(A[i,j],\"\\t\") # '\\t' permet une tabulation entre chaque chiffre\n",
    "    end\n",
    "    println() # permet d'aller à la ligne qd on a fini une boucle\n",
    "end"
   ]
  },
  {
   "cell_type": "code",
   "execution_count": 102,
   "metadata": {},
   "outputs": [
    {
     "name": "stdout",
     "output_type": "stream",
     "text": [
      "[1, 4, 9, 16, 25, 36, 49, 64, 81, 100]\n"
     ]
    }
   ],
   "source": [
    "x=1\n",
    "X=[x^2 for x in 1:10]\n",
    "println(X)"
   ]
  },
  {
   "cell_type": "code",
   "execution_count": 103,
   "metadata": {},
   "outputs": [
    {
     "data": {
      "text/plain": [
       "Dict{String,Float64} with 19 entries:\n",
       "  \"320\" => 0.766044\n",
       "  \"20\"  => 0.939693\n",
       "  \"260\" => -0.173648\n",
       "  \"220\" => -0.766044\n",
       "  \"160\" => -0.939693\n",
       "  \"80\"  => 0.173648\n",
       "  \"240\" => -0.5\n",
       "  \"360\" => 1.0\n",
       "  \"280\" => 0.173648\n",
       "  \"100\" => -0.173648\n",
       "  \"40\"  => 0.766044\n",
       "  \"140\" => -0.766044\n",
       "  \"300\" => 0.5\n",
       "  \"340\" => 0.939693\n",
       "  \"0\"   => 1.0\n",
       "  \"180\" => -1.0\n",
       "  \"120\" => -0.5\n",
       "  \"200\" => -0.939693\n",
       "  \"60\"  => 0.5"
      ]
     },
     "execution_count": 103,
     "metadata": {},
     "output_type": "execute_result"
    }
   ],
   "source": [
    "# itération sur un dictionnaire\n",
    "dico = Dict(string(i) => cosd(i) for i=0:20:360) \n",
    "    #= i=0:20:360 -> de 0 à 360 par pas de 20.\n",
    "    fonction cosd pr calculer le cosinus =#"
   ]
  },
  {
   "cell_type": "code",
   "execution_count": 104,
   "metadata": {},
   "outputs": [
    {
     "name": "stdout",
     "output_type": "stream",
     "text": [
      "\"320\" => 0.766044443118978\"20\" => 0.9396926207859084\"260\" => -0.17364817766693036\"220\" => -0.766044443118978\"160\" => -0.9396926207859084\"80\" => 0.17364817766693036\"240\" => -0.5\"360\" => 1.0\"280\" => 0.17364817766693036\"100\" => -0.17364817766693036\"40\" => 0.766044443118978\"140\" => -0.766044443118978\"300\" => 0.5\"340\" => 0.9396926207859084\"0\" => 1.0\"180\" => -1.0\"120\" => -0.5\"200\" => -0.9396926207859084\"60\" => 0.5"
     ]
    }
   ],
   "source": [
    "for kv in dico\n",
    "    print(kv)\n",
    "    # println()\n",
    "end"
   ]
  },
  {
   "cell_type": "code",
   "execution_count": 105,
   "metadata": {},
   "outputs": [
    {
     "name": "stdout",
     "output_type": "stream",
     "text": [
      "320 ~ 0.766044443118978\n",
      "20 ~ 0.9396926207859084\n",
      "260 ~ -0.17364817766693036\n",
      "220 ~ -0.766044443118978\n",
      "160 ~ -0.9396926207859084\n",
      "80 ~ 0.17364817766693036\n",
      "240 ~ -0.5\n",
      "360 ~ 1.0\n",
      "280 ~ 0.17364817766693036\n",
      "100 ~ -0.17364817766693036\n",
      "40 ~ 0.766044443118978\n",
      "140 ~ -0.766044443118978\n",
      "300 ~ 0.5\n",
      "340 ~ 0.9396926207859084\n",
      "0 ~ 1.0\n",
      "180 ~ -1.0\n",
      "120 ~ -0.5\n",
      "200 ~ -0.9396926207859084\n",
      "60 ~ 0.5\n"
     ]
    }
   ],
   "source": [
    "for k in keys(dico)\n",
    "    println(k, \" ~ \", dico[k])\n",
    "end"
   ]
  },
  {
   "cell_type": "code",
   "execution_count": 106,
   "metadata": {},
   "outputs": [
    {
     "name": "stdout",
     "output_type": "stream",
     "text": [
      "320 ~ 0.766044443118978\n",
      "20 ~ 0.9396926207859084\n",
      "260 ~ -0.17364817766693036\n",
      "220 ~ -0.766044443118978\n",
      "160 ~ -0.9396926207859084\n",
      "80 ~ 0.17364817766693036\n",
      "240 ~ -0.5\n",
      "360 ~ 1.0\n",
      "280 ~ 0.17364817766693036\n",
      "100 ~ -0.17364817766693036\n",
      "40 ~ 0.766044443118978\n",
      "140 ~ -0.766044443118978\n",
      "300 ~ 0.5\n",
      "340 ~ 0.9396926207859084\n",
      "0 ~ 1.0\n",
      "180 ~ -1.0\n",
      "120 ~ -0.5\n",
      "200 ~ -0.9396926207859084\n",
      "60 ~ 0.5\n"
     ]
    }
   ],
   "source": [
    "for (key, value) in dico\n",
    "    println(key, \" ~ \", value)\n",
    "end"
   ]
  },
  {
   "cell_type": "markdown",
   "metadata": {},
   "source": [
    "### Importer packages"
   ]
  },
  {
   "cell_type": "code",
   "execution_count": 107,
   "metadata": {},
   "outputs": [
    {
     "name": "stderr",
     "output_type": "stream",
     "text": [
      "\u001b[32m\u001b[1m   Updating\u001b[22m\u001b[39m registry at `~/.julia/registries/General`\n",
      "######################################################################     96,6%####                             63,6%#################                   77,4%            84,9%##########          89,7%################# 100,0%\n",
      "\u001b[32m\u001b[1m  Resolving\u001b[22m\u001b[39m package versions...\n",
      "\u001b[32m\u001b[1mNo Changes\u001b[22m\u001b[39m to `~/.julia/environments/v1.5/Project.toml`\n",
      "\u001b[32m\u001b[1mNo Changes\u001b[22m\u001b[39m to `~/.julia/environments/v1.5/Manifest.toml`\n"
     ]
    }
   ],
   "source": [
    "import Pkg\n",
    "Pkg.add(\"DataStructures\")\n",
    "import DataStructures"
   ]
  },
  {
   "cell_type": "markdown",
   "metadata": {},
   "source": [
    "### Condition If, Else, Elseif"
   ]
  },
  {
   "cell_type": "code",
   "execution_count": 108,
   "metadata": {},
   "outputs": [
    {
     "name": "stdout",
     "output_type": "stream",
     "text": [
      "stdin> 3\n",
      "stdin> 8\n",
      "x is less than y\n"
     ]
    }
   ],
   "source": [
    "x=readline()\n",
    "y=readline()\n",
    "\n",
    "if x<y\n",
    "    println(\"x is less than y\")\n",
    "elseif x>y\n",
    "    println(\"x is greater than y\")\n",
    "else           # x == y \n",
    "    println(\"x is equal to y\")\n",
    "end"
   ]
  },
  {
   "cell_type": "code",
   "execution_count": 110,
   "metadata": {},
   "outputs": [],
   "source": [
    "#= \n",
    "&& AND\n",
    "|| OR\n",
    "=#"
   ]
  },
  {
   "cell_type": "markdown",
   "metadata": {},
   "source": [
    "## Fonction"
   ]
  },
  {
   "cell_type": "markdown",
   "metadata": {},
   "source": [
    "-- ***Il y a plusieurs façons d'écrire des fonctions*** --"
   ]
  },
  {
   "cell_type": "markdown",
   "metadata": {},
   "source": [
    "- function nom_fct(arg)\n",
    "- nom_fct(arg)\n",
    "- nom_fct=arg -> ..."
   ]
  },
  {
   "cell_type": "markdown",
   "metadata": {},
   "source": [
    "> 1 argument"
   ]
  },
  {
   "cell_type": "code",
   "execution_count": 111,
   "metadata": {},
   "outputs": [
    {
     "name": "stdout",
     "output_type": "stream",
     "text": [
      "Welcome to Julia Audrey\n"
     ]
    }
   ],
   "source": [
    "function welcome(name)\n",
    "    println(\"Welcome to Julia $name\")\n",
    "end\n",
    "\n",
    "welcome(\"Audrey\")"
   ]
  },
  {
   "cell_type": "code",
   "execution_count": 15,
   "metadata": {},
   "outputs": [
    {
     "name": "stdout",
     "output_type": "stream",
     "text": [
      "fct1: 100; fct2: 100; fct3: 100\n"
     ]
    }
   ],
   "source": [
    "function square(x)\n",
    "    return x^2\n",
    "end\n",
    "\n",
    "square2(x)=x^2\n",
    "\n",
    "square3=x->x^2\n",
    "\n",
    "println(\"fct1: \",square(10), \"; fct2: \", square2(10),  \"; fct3: \", square3(10))"
   ]
  },
  {
   "cell_type": "code",
   "execution_count": 10,
   "metadata": {},
   "outputs": [
    {
     "data": {
      "text/plain": [
       "(4, 8)"
      ]
     },
     "execution_count": 10,
     "metadata": {},
     "output_type": "execute_result"
    }
   ],
   "source": [
    "function carre_cube(x)\n",
    "    return x^2, x^3\n",
    "end\n",
    "\n",
    "carre, cube = carre_cube(2)"
   ]
  },
  {
   "cell_type": "code",
   "execution_count": 46,
   "metadata": {},
   "outputs": [
    {
     "name": "stdout",
     "output_type": "stream",
     "text": [
      "Liste de carrés: [25, 4, 1, 16, 49, 100, 169] & liste de cubes: [-125, -8, 1, 64, 343, 1000, 2197]"
     ]
    }
   ],
   "source": [
    "carre = [power(x, 2) for x in @collect(-5, 15, 3)]\n",
    "cubes = [power(x, 3) for x in @collect(-5, 15, 3)]\n",
    "\n",
    "print(\"Liste de carrés: $carre & liste de cubes: $cubes\")"
   ]
  },
  {
   "cell_type": "markdown",
   "metadata": {},
   "source": [
    "> 2 arguments"
   ]
  },
  {
   "cell_type": "code",
   "execution_count": 113,
   "metadata": {},
   "outputs": [
    {
     "name": "stdout",
     "output_type": "stream",
     "text": [
      "(7, -3, 10, 0.4, 2)\n"
     ]
    },
    {
     "data": {
      "text/plain": [
       "Tuple{Int64,Int64,Int64,Float64,Int64}"
      ]
     },
     "execution_count": 113,
     "metadata": {},
     "output_type": "execute_result"
    }
   ],
   "source": [
    "function multiplereturn(x,y)\n",
    "    return x+y, x-y, x*y, x/y, x%y\n",
    "end\n",
    "\n",
    "t=multiplereturn(2,5)\n",
    "println(t)  # renvoie un tuple. \n",
    "typeof(t)"
   ]
  },
  {
   "cell_type": "code",
   "execution_count": 20,
   "metadata": {},
   "outputs": [
    {
     "name": "stdout",
     "output_type": "stream",
     "text": [
      "Soit x = 2, x^2 = 4 & x^3 = 8\n"
     ]
    }
   ],
   "source": [
    "function power_integer(x::Int, pow::Int=2)  # x & pow doivent être des Int & par défaut pow = 2\n",
    "    return x^pow\n",
    "end\n",
    "\n",
    "x = 2\n",
    "carre, cube = power_integer(x), power_integer(x, 3)\n",
    "\n",
    "println(\"Soit x = $x, x^2 = $(carre) & x^3 = $cube\")"
   ]
  },
  {
   "cell_type": "code",
   "execution_count": 22,
   "metadata": {},
   "outputs": [
    {
     "name": "stdout",
     "output_type": "stream",
     "text": [
      "Soit x = 2, x^2 = 4 & x^3 = 8\n"
     ]
    }
   ],
   "source": [
    "power_integer2(x::Int, pow::Int=2) = x^pow # x & pow doivent être des Int & par défaut pow = 2\n",
    "\n",
    "carre, cube = power_integer2(x), power_integer2(x, 3)\n",
    "\n",
    "println(\"Soit x = $x, x^2 = $(carre) & x^3 = $cube\")"
   ]
  },
  {
   "cell_type": "code",
   "execution_count": 23,
   "metadata": {},
   "outputs": [
    {
     "data": {
      "text/plain": [
       "6"
      ]
     },
     "execution_count": 23,
     "metadata": {},
     "output_type": "execute_result"
    }
   ],
   "source": [
    "function add(x,y)::Int8 # pour transformer en entier ce qu'on rendre en argument\n",
    "    return x+y\n",
    "end\n",
    "\n",
    "add(2,4.0) # -> doit retourner normalement un float si on ne specifie par '::Int8'"
   ]
  },
  {
   "cell_type": "markdown",
   "metadata": {},
   "source": [
    "> Plusieurs arguments (...)"
   ]
  },
  {
   "cell_type": "code",
   "execution_count": 17,
   "metadata": {},
   "outputs": [
    {
     "name": "stdout",
     "output_type": "stream",
     "text": [
      "(1, 2, 3, 4, 5)"
     ]
    }
   ],
   "source": [
    "function vargs(x...) # on peut mettre n'importe quel nombre/taille\n",
    "    print(x)\n",
    "end\n",
    "\n",
    "vargs(1,2,3,4,5)"
   ]
  },
  {
   "cell_type": "code",
   "execution_count": 19,
   "metadata": {},
   "outputs": [
    {
     "name": "stdout",
     "output_type": "stream",
     "text": [
      "Soit x = 2, x^2 = 4 & x^3 = 8"
     ]
    }
   ],
   "source": [
    "function power(x, args...)  # x est un argument positionel\n",
    "    if isempty(args)  # args tuple d'arguments\n",
    "        return x^2  # par défaut détermnine le carré de x\n",
    "    end\n",
    "    return x^args[1]\n",
    "end\n",
    "\n",
    "x = 2\n",
    "carre, cube = power(x), power(x, 3)\n",
    "\n",
    "print(\"Soit x = $x, x^2 = $carre & x^3 = $cube\")\n"
   ]
  },
  {
   "cell_type": "markdown",
   "metadata": {},
   "source": [
    "> map"
   ]
  },
  {
   "cell_type": "markdown",
   "metadata": {},
   "source": [
    "- map(function,[arg]) avec arg = array"
   ]
  },
  {
   "cell_type": "code",
   "execution_count": 29,
   "metadata": {},
   "outputs": [
    {
     "data": {
      "text/plain": [
       "4-element Array{Float64,1}:\n",
       " 2.0\n",
       " 4.0\n",
       " 2.0\n",
       " 8.0"
      ]
     },
     "execution_count": 29,
     "metadata": {},
     "output_type": "execute_result"
    }
   ],
   "source": [
    "map(round,[1.5,3.7,2.0,8.3]) # la fonction round = arrondi "
   ]
  },
  {
   "cell_type": "code",
   "execution_count": 34,
   "metadata": {},
   "outputs": [
    {
     "data": {
      "text/plain": [
       "4-element Array{Float64,1}:\n",
       "  2.25\n",
       " 13.690000000000001\n",
       "  4.0\n",
       " 68.89000000000001"
      ]
     },
     "execution_count": 34,
     "metadata": {},
     "output_type": "execute_result"
    }
   ],
   "source": [
    "liste=[1.5,3.7,2.0,8.3]\n",
    "\n",
    "map(square, liste)"
   ]
  },
  {
   "cell_type": "code",
   "execution_count": 24,
   "metadata": {},
   "outputs": [
    {
     "data": {
      "text/plain": [
       "4-element Array{Int64,1}:\n",
       " 10\n",
       " 30\n",
       " 40\n",
       " 60"
      ]
     },
     "execution_count": 24,
     "metadata": {},
     "output_type": "execute_result"
    }
   ],
   "source": [
    "# la fonction est définie directement ds le map\n",
    "map(x->x*10,[1,3,4,6])"
   ]
  },
  {
   "cell_type": "code",
   "execution_count": 122,
   "metadata": {},
   "outputs": [
    {
     "data": {
      "text/plain": [
       "3-element Array{Float64,1}:\n",
       " 1.7320508075688772\n",
       " 1.4142135623730951\n",
       " 3.0"
      ]
     },
     "execution_count": 122,
     "metadata": {},
     "output_type": "execute_result"
    }
   ],
   "source": [
    "# 2 fonctions\n",
    "map(sqrt∘round,[3.3,2.2,9.2]) # 'round' puis 'sqrt'"
   ]
  },
  {
   "cell_type": "code",
   "execution_count": 123,
   "metadata": {},
   "outputs": [
    {
     "data": {
      "text/plain": [
       "3-element Array{Float64,1}:\n",
       " 2.0\n",
       " 1.0\n",
       " 3.0"
      ]
     },
     "execution_count": 123,
     "metadata": {},
     "output_type": "execute_result"
    }
   ],
   "source": [
    "map(round∘sqrt,[3.3,2.2,9.2]) # 'sqrt' puis 'round'"
   ]
  },
  {
   "cell_type": "markdown",
   "metadata": {},
   "source": [
    "> map(function,@collect(tuple))"
   ]
  },
  {
   "cell_type": "code",
   "execution_count": 39,
   "metadata": {},
   "outputs": [
    {
     "data": {
      "text/plain": [
       "@collect (macro with 1 method)"
      ]
     },
     "execution_count": 39,
     "metadata": {},
     "output_type": "execute_result"
    }
   ],
   "source": [
    "macro collect(debut, fin, args...)\n",
    "    if isempty(args)\n",
    "        return collect(debut:fin-1)\n",
    "    end\n",
    "    return collect(debut:args[1]:fin-1)\n",
    "end"
   ]
  },
  {
   "cell_type": "code",
   "execution_count": 42,
   "metadata": {},
   "outputs": [
    {
     "name": "stdout",
     "output_type": "stream",
     "text": [
      "Soit l = [-5, -2, 1, 4, 7, 10, 13] & cubes = [-125, -8, 1, 64, 343, 1000, 2197]"
     ]
    }
   ],
   "source": [
    "l = @collect(-5, 15, 3) # de -5 à 14 par pas de 3.\n",
    "\n",
    "cubes = map(x -> power(x, 3), l)\n",
    "\n",
    "print(\"Soit l = $l & cubes = $cubes\")"
   ]
  },
  {
   "cell_type": "markdown",
   "metadata": {},
   "source": [
    "> filter(function,@collect)"
   ]
  },
  {
   "cell_type": "code",
   "execution_count": 45,
   "metadata": {},
   "outputs": [
    {
     "name": "stdout",
     "output_type": "stream",
     "text": [
      "Les éléments paires de l sont [0, 2, 4, 6]"
     ]
    }
   ],
   "source": [
    "l = @collect(-1, 7) # de -1 à 6 par pas de 1.\n",
    "\n",
    "even = filter(n -> iseven(n), l) # iseven renvoie les éléments pairs.\n",
    "\n",
    "print(\"Les éléments paires de l sont $even\")"
   ]
  },
  {
   "cell_type": "markdown",
   "metadata": {},
   "source": [
    "> all"
   ]
  },
  {
   "cell_type": "code",
   "execution_count": 124,
   "metadata": {},
   "outputs": [
    {
     "name": "stdout",
     "output_type": "stream",
     "text": [
      "false\n",
      "true\n"
     ]
    }
   ],
   "source": [
    "# all vérifie toutes les conditions\n",
    "println(all(x-> x<2, (1,2,3))) # on regarde si 1<2, 2<2, 3<2 -> renvoit False car tt n'est pas <2.\n",
    "println(all(x-> x<4, (1,2,3))) # on regarde si 1<4, 2<4, 3<4 -> renvoit True car tt est <4."
   ]
  },
  {
   "cell_type": "markdown",
   "metadata": {},
   "source": [
    "> any"
   ]
  },
  {
   "cell_type": "code",
   "execution_count": 125,
   "metadata": {
    "scrolled": true
   },
   "outputs": [
    {
     "name": "stdout",
     "output_type": "stream",
     "text": [
      "true\n",
      "false\n"
     ]
    }
   ],
   "source": [
    "# any, si une condition est rempli => OK\n",
    "println(any(x-> x<2, (1,2,3))) # au moins une condition est remplit -> renvoit True.\n",
    "println(any(x-> x>4, (1,2,3))) # aucune condition est rempli -> renvoit False."
   ]
  },
  {
   "cell_type": "markdown",
   "metadata": {},
   "source": [
    "### Time"
   ]
  },
  {
   "cell_type": "code",
   "execution_count": 35,
   "metadata": {},
   "outputs": [
    {
     "name": "stdout",
     "output_type": "stream",
     "text": [
      "Execution time: 0.00023508071899414062\n"
     ]
    }
   ],
   "source": [
    "start_time = time()\n",
    "println(\"Execution time: $(time()-start_time)\")"
   ]
  },
  {
   "cell_type": "markdown",
   "metadata": {},
   "source": [
    "### Lecture fichier"
   ]
  },
  {
   "cell_type": "code",
   "execution_count": 81,
   "metadata": {},
   "outputs": [
    {
     "name": "stdout",
     "output_type": "stream",
     "text": [
      "'yersinia.fasta' est un fichier fasta"
     ]
    }
   ],
   "source": [
    "fichier=\"yersinia.fasta\"\n",
    "\n",
    "if endswith(fichier, \".fasta\")\n",
    "    print(\"'$fichier' est un fichier fasta\")\n",
    "end"
   ]
  },
  {
   "cell_type": "code",
   "execution_count": 83,
   "metadata": {},
   "outputs": [
    {
     "name": "stdout",
     "output_type": "stream",
     "text": [
      "'yersinia.fasta' est un fichier fasta\n"
     ]
    }
   ],
   "source": [
    "python\"\"\"\n",
    "fichier = \"yersinia.fasta\"\n",
    "if fichier.endswith(\".fasta\"):\n",
    "    print(\"'{}' est un fichier fasta\".format(fichier))\n",
    "\"\"\""
   ]
  },
  {
   "cell_type": "code",
   "execution_count": null,
   "metadata": {},
   "outputs": [],
   "source": []
  },
  {
   "cell_type": "code",
   "execution_count": null,
   "metadata": {},
   "outputs": [],
   "source": [
    "open(\"file1.txt\", \"w\") do f\n",
    " # operate on file f\n",
    "end  # end implicitly execute close(f)"
   ]
  }
 ],
 "metadata": {
  "kernelspec": {
   "display_name": "Julia 1.5.2",
   "language": "julia",
   "name": "julia-1.5"
  },
  "language_info": {
   "file_extension": ".jl",
   "mimetype": "application/julia",
   "name": "julia",
   "version": "1.5.2"
  }
 },
 "nbformat": 4,
 "nbformat_minor": 4
}
