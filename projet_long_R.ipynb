{
 "cells": [
  {
   "cell_type": "code",
   "execution_count": 1,
   "metadata": {},
   "outputs": [
    {
     "name": "stderr",
     "output_type": "stream",
     "text": [
      "Warning message:\n",
      "“dependencies ‘msa’, ‘Biostrings’ are not available”\n",
      "also installing the dependencies ‘prettyunits’, ‘sys’, ‘stringi’, ‘rprojroot’, ‘pkgbuild’, ‘rstudioapi’, ‘diffobj’, ‘rematch2’, ‘tibble’, ‘askpass’, ‘bitops’, ‘magrittr’, ‘pkgconfig’, ‘bigmemory.sri’, ‘BH’, ‘highr’, ‘markdown’, ‘stringr’, ‘yaml’, ‘xfun’, ‘brio’, ‘callr’, ‘desc’, ‘pkgload’, ‘praise’, ‘processx’, ‘ps’, ‘R6’, ‘waldo’, ‘withr’, ‘curl’, ‘mime’, ‘openssl’, ‘Rcpp’, ‘XML’, ‘RCurl’, ‘ncdf4’, ‘igraph’, ‘bigmemory’, ‘knitr’, ‘testthat’, ‘httr’\n",
      "\n",
      "\n"
     ]
    },
    {
     "name": "stdout",
     "output_type": "stream",
     "text": [
      "\n",
      "The downloaded binary packages are in\n",
      "\t/var/folders/g5/n3zk3f3554xccc2gvf5jp63r0000gn/T//RtmpqsdnPm/downloaded_packages\n"
     ]
    }
   ],
   "source": [
    "install.packages(\"bio3d\", dependencies=TRUE)"
   ]
  },
  {
   "cell_type": "code",
   "execution_count": 10,
   "metadata": {},
   "outputs": [],
   "source": [
    "library(bio3d)"
   ]
  },
  {
   "cell_type": "code",
   "execution_count": 12,
   "metadata": {},
   "outputs": [
    {
     "ename": "ERROR",
     "evalue": "Error in read.pdb(system.file(\"4YC6.pdb\", package = \"bio3d\")): No input PDB file found: check filename\n",
     "output_type": "error",
     "traceback": [
      "Error in read.pdb(system.file(\"4YC6.pdb\", package = \"bio3d\")): No input PDB file found: check filename\nTraceback:\n",
      "1. read.pdb(system.file(\"4YC6.pdb\", package = \"bio3d\"))",
      "2. stop(\"No input PDB file found: check filename\")"
     ]
    }
   ],
   "source": [
    "pdb <- read.pdb( system.file(\"4YC6.pdb\", package=\"bio3d\") )"
   ]
  },
  {
   "cell_type": "code",
   "execution_count": 13,
   "metadata": {},
   "outputs": [
    {
     "name": "stdout",
     "output_type": "stream",
     "text": [
      "  Note: Accessing on-line PDB file\n",
      "   PDB has ALT records, taking A only, rm.alt=TRUE\n"
     ]
    }
   ],
   "source": [
    "pdb <- read.pdb(\"4YC6\")"
   ]
  },
  {
   "cell_type": "code",
   "execution_count": 15,
   "metadata": {},
   "outputs": [
    {
     "data": {
      "text/html": [
       "<table>\n",
       "<caption>A data.frame: 6 × 16</caption>\n",
       "<thead>\n",
       "\t<tr><th></th><th scope=col>type</th><th scope=col>eleno</th><th scope=col>elety</th><th scope=col>alt</th><th scope=col>resid</th><th scope=col>chain</th><th scope=col>resno</th><th scope=col>insert</th><th scope=col>x</th><th scope=col>y</th><th scope=col>z</th><th scope=col>o</th><th scope=col>b</th><th scope=col>segid</th><th scope=col>elesy</th><th scope=col>charge</th></tr>\n",
       "\t<tr><th></th><th scope=col>&lt;chr&gt;</th><th scope=col>&lt;int&gt;</th><th scope=col>&lt;chr&gt;</th><th scope=col>&lt;chr&gt;</th><th scope=col>&lt;chr&gt;</th><th scope=col>&lt;chr&gt;</th><th scope=col>&lt;int&gt;</th><th scope=col>&lt;chr&gt;</th><th scope=col>&lt;dbl&gt;</th><th scope=col>&lt;dbl&gt;</th><th scope=col>&lt;dbl&gt;</th><th scope=col>&lt;dbl&gt;</th><th scope=col>&lt;dbl&gt;</th><th scope=col>&lt;chr&gt;</th><th scope=col>&lt;chr&gt;</th><th scope=col>&lt;chr&gt;</th></tr>\n",
       "</thead>\n",
       "<tbody>\n",
       "\t<tr><th scope=row>1</th><td>ATOM</td><td>1</td><td>N </td><td>NA</td><td>MET</td><td>A</td><td>1</td><td>NA</td><td>16.608</td><td>32.672</td><td>-27.872</td><td>1</td><td>147.56</td><td>NA</td><td>N</td><td>NA</td></tr>\n",
       "\t<tr><th scope=row>2</th><td>ATOM</td><td>2</td><td>CA</td><td>NA</td><td>MET</td><td>A</td><td>1</td><td>NA</td><td>17.363</td><td>31.409</td><td>-27.535</td><td>1</td><td>152.23</td><td>NA</td><td>C</td><td>NA</td></tr>\n",
       "\t<tr><th scope=row>3</th><td>ATOM</td><td>3</td><td>C </td><td>NA</td><td>MET</td><td>A</td><td>1</td><td>NA</td><td>18.837</td><td>31.376</td><td>-27.949</td><td>1</td><td>153.60</td><td>NA</td><td>C</td><td>NA</td></tr>\n",
       "\t<tr><th scope=row>4</th><td>ATOM</td><td>4</td><td>O </td><td>NA</td><td>MET</td><td>A</td><td>1</td><td>NA</td><td>19.519</td><td>30.373</td><td>-27.704</td><td>1</td><td>160.35</td><td>NA</td><td>O</td><td>NA</td></tr>\n",
       "\t<tr><th scope=row>5</th><td>ATOM</td><td>5</td><td>CB</td><td>NA</td><td>MET</td><td>A</td><td>1</td><td>NA</td><td>16.661</td><td>30.149</td><td>-28.105</td><td>1</td><td>160.38</td><td>NA</td><td>C</td><td>NA</td></tr>\n",
       "\t<tr><th scope=row>6</th><td>ATOM</td><td>6</td><td>CG</td><td>NA</td><td>MET</td><td>A</td><td>1</td><td>NA</td><td>16.318</td><td>29.088</td><td>-27.064</td><td>1</td><td>163.41</td><td>NA</td><td>C</td><td>NA</td></tr>\n",
       "</tbody>\n",
       "</table>\n"
      ],
      "text/latex": [
       "A data.frame: 6 × 16\n",
       "\\begin{tabular}{r|llllllllllllllll}\n",
       "  & type & eleno & elety & alt & resid & chain & resno & insert & x & y & z & o & b & segid & elesy & charge\\\\\n",
       "  & <chr> & <int> & <chr> & <chr> & <chr> & <chr> & <int> & <chr> & <dbl> & <dbl> & <dbl> & <dbl> & <dbl> & <chr> & <chr> & <chr>\\\\\n",
       "\\hline\n",
       "\t1 & ATOM & 1 & N  & NA & MET & A & 1 & NA & 16.608 & 32.672 & -27.872 & 1 & 147.56 & NA & N & NA\\\\\n",
       "\t2 & ATOM & 2 & CA & NA & MET & A & 1 & NA & 17.363 & 31.409 & -27.535 & 1 & 152.23 & NA & C & NA\\\\\n",
       "\t3 & ATOM & 3 & C  & NA & MET & A & 1 & NA & 18.837 & 31.376 & -27.949 & 1 & 153.60 & NA & C & NA\\\\\n",
       "\t4 & ATOM & 4 & O  & NA & MET & A & 1 & NA & 19.519 & 30.373 & -27.704 & 1 & 160.35 & NA & O & NA\\\\\n",
       "\t5 & ATOM & 5 & CB & NA & MET & A & 1 & NA & 16.661 & 30.149 & -28.105 & 1 & 160.38 & NA & C & NA\\\\\n",
       "\t6 & ATOM & 6 & CG & NA & MET & A & 1 & NA & 16.318 & 29.088 & -27.064 & 1 & 163.41 & NA & C & NA\\\\\n",
       "\\end{tabular}\n"
      ],
      "text/markdown": [
       "\n",
       "A data.frame: 6 × 16\n",
       "\n",
       "| <!--/--> | type &lt;chr&gt; | eleno &lt;int&gt; | elety &lt;chr&gt; | alt &lt;chr&gt; | resid &lt;chr&gt; | chain &lt;chr&gt; | resno &lt;int&gt; | insert &lt;chr&gt; | x &lt;dbl&gt; | y &lt;dbl&gt; | z &lt;dbl&gt; | o &lt;dbl&gt; | b &lt;dbl&gt; | segid &lt;chr&gt; | elesy &lt;chr&gt; | charge &lt;chr&gt; |\n",
       "|---|---|---|---|---|---|---|---|---|---|---|---|---|---|---|---|---|\n",
       "| 1 | ATOM | 1 | N  | NA | MET | A | 1 | NA | 16.608 | 32.672 | -27.872 | 1 | 147.56 | NA | N | NA |\n",
       "| 2 | ATOM | 2 | CA | NA | MET | A | 1 | NA | 17.363 | 31.409 | -27.535 | 1 | 152.23 | NA | C | NA |\n",
       "| 3 | ATOM | 3 | C  | NA | MET | A | 1 | NA | 18.837 | 31.376 | -27.949 | 1 | 153.60 | NA | C | NA |\n",
       "| 4 | ATOM | 4 | O  | NA | MET | A | 1 | NA | 19.519 | 30.373 | -27.704 | 1 | 160.35 | NA | O | NA |\n",
       "| 5 | ATOM | 5 | CB | NA | MET | A | 1 | NA | 16.661 | 30.149 | -28.105 | 1 | 160.38 | NA | C | NA |\n",
       "| 6 | ATOM | 6 | CG | NA | MET | A | 1 | NA | 16.318 | 29.088 | -27.064 | 1 | 163.41 | NA | C | NA |\n",
       "\n"
      ],
      "text/plain": [
       "  type eleno elety alt resid chain resno insert x      y      z       o b     \n",
       "1 ATOM 1     N     NA  MET   A     1     NA     16.608 32.672 -27.872 1 147.56\n",
       "2 ATOM 2     CA    NA  MET   A     1     NA     17.363 31.409 -27.535 1 152.23\n",
       "3 ATOM 3     C     NA  MET   A     1     NA     18.837 31.376 -27.949 1 153.60\n",
       "4 ATOM 4     O     NA  MET   A     1     NA     19.519 30.373 -27.704 1 160.35\n",
       "5 ATOM 5     CB    NA  MET   A     1     NA     16.661 30.149 -28.105 1 160.38\n",
       "6 ATOM 6     CG    NA  MET   A     1     NA     16.318 29.088 -27.064 1 163.41\n",
       "  segid elesy charge\n",
       "1 NA    N     NA    \n",
       "2 NA    C     NA    \n",
       "3 NA    C     NA    \n",
       "4 NA    O     NA    \n",
       "5 NA    C     NA    \n",
       "6 NA    C     NA    "
      ]
     },
     "metadata": {},
     "output_type": "display_data"
    }
   ],
   "source": [
    "head(pdb$atom) "
   ]
  },
  {
   "cell_type": "code",
   "execution_count": 16,
   "metadata": {},
   "outputs": [
    {
     "data": {
      "text/plain": [
       "\n",
       " Call:  read.pdb(file = \"4YC6\")\n",
       "\n",
       "   Total Models#: 1\n",
       "     Total Atoms#: 12271,  XYZs#: 36813  Chains#: 8  (values: A B C D E F G H)\n",
       "\n",
       "     Protein Atoms#: 11632  (residues/Calpha atoms#: 1420)\n",
       "     Nucleic acid Atoms#: 0  (residues/phosphate atoms#: 0)\n",
       "\n",
       "     Non-protein/nucleic Atoms#: 639  (residues: 639)\n",
       "     Non-protein/nucleic resid values: [ HOH (639) ]\n",
       "\n",
       "   Protein sequence:\n",
       "      MEDYTKIEKIGEGTYGVVYKGRHKTTGQVVAMKKIRLESEEEGVPSTAIREISLLKELRH\n",
       "      PNIVSLQDVLMQDSRLYLIFEFLSMDLKKYLDSIPPGQYMDSSLVKSYLYQILQGIVFCH\n",
       "      SRRVLHRDLKPQNLLIDDKGTIKLADFGLARAFGVYTHEVVTLWYRSPEVLLGSARYSTP\n",
       "      VDIWSIGTIFAELATKKPLFHGDSEIDQLFRIFRALGTPNNEVWP...<cut>...RPLP\n",
       "\n",
       "+ attr: atom, xyz, seqres, helix, sheet,\n",
       "        calpha, remark, call"
      ]
     },
     "metadata": {},
     "output_type": "display_data"
    }
   ],
   "source": [
    "pdb"
   ]
  },
  {
   "cell_type": "code",
   "execution_count": null,
   "metadata": {},
   "outputs": [],
   "source": []
  }
 ],
 "metadata": {
  "kernelspec": {
   "display_name": "R",
   "language": "R",
   "name": "ir"
  },
  "language_info": {
   "codemirror_mode": "r",
   "file_extension": ".r",
   "mimetype": "text/x-r-source",
   "name": "R",
   "pygments_lexer": "r",
   "version": "4.0.3"
  }
 },
 "nbformat": 4,
 "nbformat_minor": 4
}
