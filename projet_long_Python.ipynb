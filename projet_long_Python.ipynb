{
 "cells": [
  {
   "cell_type": "markdown",
   "metadata": {},
   "source": [
    "<div style=\"color: #80cbc4; font-size: 34px\">Projet Long Julia VS Python</div>"
   ]
  },
  {
   "cell_type": "markdown",
   "metadata": {},
   "source": [
    "<div style=\"color: #59698d; font-size: 18px\">Audrey Fortuné M2BI </div>"
   ]
  },
  {
   "cell_type": "markdown",
   "metadata": {},
   "source": [
    "<div class=\"alert alert-block alert-success\">\n",
    "    Run cells in Python 3.8.3\n",
    "</div>"
   ]
  },
  {
   "cell_type": "markdown",
   "metadata": {},
   "source": [
    "### 1) Lire un fichier .pdb"
   ]
  },
  {
   "cell_type": "markdown",
   "metadata": {},
   "source": [
    "Ici, nous prenons comme exemple la structure pdb '1gh4'."
   ]
  },
  {
   "cell_type": "markdown",
   "metadata": {},
   "source": [
    "Nous utilisons le module 'Biopython'qui utilise la hiérarchie suivante : structure > model > chain > residue > atom."
   ]
  },
  {
   "cell_type": "code",
   "execution_count": 139,
   "metadata": {},
   "outputs": [],
   "source": [
    "import Bio\n",
    "from Bio.PDB import PDBParser\n",
    "# from Bio.PDB import *"
   ]
  },
  {
   "cell_type": "code",
   "execution_count": 2,
   "metadata": {},
   "outputs": [],
   "source": [
    "prot_id, prot_file = \"1gh4\", \"1gh4.pdb\"\n",
    "structure = PDBParser().get_structure(prot_id, prot_file)"
   ]
  },
  {
   "cell_type": "code",
   "execution_count": 3,
   "metadata": {},
   "outputs": [
    {
     "name": "stdout",
     "output_type": "stream",
     "text": [
      "ProteinStructure 1gh4.pdb with 1 models, 1 chains A , 123 residues, 1089 atoms\n"
     ]
    }
   ],
   "source": [
    "# Protein Structure\n",
    "\n",
    "compt_atom = 0\n",
    "for model in structure:   # X-Ray generally only have 1 model, while more in NMR\n",
    "    for chain in model: \n",
    "        for residue in chain:\n",
    "            for atom in residue:\n",
    "                compt_atom +=1\n",
    "\n",
    "with open(prot_file, \"r\") as pdb_file:\n",
    "    res_count = 0\n",
    "    for line in pdb_file:\n",
    "        if line.startswith(\"DBREF\"):\n",
    "            chain = line[12:13].strip()\n",
    "            model = line[17:18].strip()\n",
    "            residu = line[21:24].strip()\n",
    "            print(\"Protein Structure\", prot_file, \"with\", model, \"models,\", len(chain), \"chains\", chain, \",\", residu, \"residues,\", compt_atom, \"atoms\")"
   ]
  },
  {
   "cell_type": "code",
   "execution_count": 117,
   "metadata": {},
   "outputs": [
    {
     "name": "stdout",
     "output_type": "stream",
     "text": [
      "name : structure of the triple mutant (k56m, k120m, k121m) of phospholipase a2\n",
      "head : hydrolase\n",
      "idcode : 1GH4\n",
      "deposition_date : 2000-11-09\n",
      "release_date : 2001-05-09\n",
      "structure_method : x-ray diffraction\n",
      "resolution : 1.9\n",
      "structure_reference : []\n",
      "journal_reference : v.rajakannan,m.yogavel,m.j.poi,a.a.jeyaprakash, j.jeyakanthan,d.velmurugan,m.d.tsai,k.sekar observation of additional calcium ion in the crystal structure of the triple mutant k56,120,121m of bovine pancreatic phospholipase a2. j.mol.biol. v. 324 755 2002 issn 0022-2836 12460575 10.1016/s0022-2836(02)01132-4 \n",
      "author : K.Sekar,D.Velmurugan,M.D.Tsai\n",
      "compound : {'1': {'misc': '', 'molecule': 'phospholipase a2', 'chain': 'a', 'ec_number': '3.1.1.4', 'ec': '3.1.1.4', 'engineered': 'yes', 'mutation': 'yes'}}\n",
      "source : {'1': {'misc': '', 'organism_scientific': 'bos taurus', 'organism_common': 'cattle', 'organism_taxid': '9913', 'organ': 'pancreas', 'expression_system': 'escherichia coli', 'expression_system_taxid': '562'}}\n",
      "has_missing_residues : False\n",
      "missing_residues : []\n",
      "keywords : alpha helix, beta sheet, triple mutant, hydrolase\n",
      "journal : AUTH   V.RAJAKANNAN,M.YOGAVEL,M.J.POI,A.A.JEYAPRAKASH,AUTH 2 J.JEYAKANTHAN,D.VELMURUGAN,M.D.TSAI,K.SEKARTITL   OBSERVATION OF ADDITIONAL CALCIUM ION IN THETITL 2 CRYSTAL STRUCTURE OF THE TRIPLE MUTANTTITL 3 K56,120,121M OF BOVINE PANCREATIC PHOSPHOLIPASE A2.REF    J.MOL.BIOL.                   V. 324   755 2002REFN                   ISSN 0022-2836PMID   12460575DOI    10.1016/S0022-2836(02)01132-4\n"
     ]
    }
   ],
   "source": [
    "# Header Information\n",
    "\n",
    "for key, value in structure.header.items():\n",
    "    print(key, \":\", value)"
   ]
  },
  {
   "cell_type": "code",
   "execution_count": 30,
   "metadata": {},
   "outputs": [],
   "source": [
    "# from Bio.PDB import Selection\n",
    "# Get all atoms ('A') from a chain \n",
    "# atom_list = Selection.unfold_entities(chain, 'A')\n",
    "# print(len(atom_list), \"atoms\")"
   ]
  },
  {
   "cell_type": "markdown",
   "metadata": {},
   "source": [
    "Affichons les coordonnées des carbones α (notés CA) des 10 premiers résidus:"
   ]
  },
  {
   "cell_type": "code",
   "execution_count": 4,
   "metadata": {},
   "outputs": [
    {
     "name": "stdout",
     "output_type": "stream",
     "text": [
      "Residue 1 with name ALA coordinates [ 6.931 -2.835 13.612]\n",
      "Residue 2 with name LEU coordinates [ 4.213 -5.064 15.074]\n",
      "Residue 3 with name TRP coordinates [ 6.63  -6.672 17.535]\n",
      "Residue 4 with name GLN coordinates [ 7.459 -3.218 18.887]\n",
      "Residue 5 with name PHE coordinates [ 3.766 -2.321 19.136]\n",
      "Residue 6 with name ASN coordinates [ 3.352 -5.502 21.172]\n",
      "Residue 7 with name GLY coordinates [ 6.152 -4.286 23.421]\n",
      "Residue 8 with name MET coordinates [ 4.407 -0.933 23.9  ]\n",
      "Residue 9 with name ILE coordinates [ 1.12  -2.566 24.927]\n",
      "Residue 10 with name LYS coordinates [ 3.041 -4.652 27.479]\n"
     ]
    }
   ],
   "source": [
    "res_start = 1\n",
    "model = structure[0]\n",
    "chain = model[\"A\"]\n",
    "for i in range(10):\n",
    "    idx = res_start + i\n",
    "    print(\"Residue\", idx, \"with name\", chain[idx].resname, \"coordinates\", chain[idx][\"CA\"].coord)"
   ]
  },
  {
   "cell_type": "markdown",
   "metadata": {},
   "source": [
    "### 2) Visualisation de la structure"
   ]
  },
  {
   "cell_type": "markdown",
   "metadata": {},
   "source": [
    "Les lignes de codes qui suivent semblent fonctionner sous Windows mais pas sur Mac (l'erreur est courante sous Mac). \n",
    "Ces lignes permettent de faire appel au logiciel PyMOL et affiche la structure dans le jupyter notebook. "
   ]
  },
  {
   "cell_type": "raw",
   "metadata": {},
   "source": [
    "#pymol (ne fonctionne pas car je suis sous Mac)\n",
    "%pylab inline \n",
    "from ipymol import viewer as pymol\n",
    "pymol.start()   # Start PyMOL RPC server\n",
    "pymol.fetch('1gh4') # Fetch PDB\n",
    "pymol.show_as('cartoon') # Show as 'cartoon'\n",
    "pymol.bg_color('white') # Set background color to white\n",
    "pymol.display() # Show current display"
   ]
  },
  {
   "cell_type": "markdown",
   "metadata": {},
   "source": [
    "Les lignes de commandes sont à rentrer dans le logiciel PyMOL sont les suivants :"
   ]
  },
  {
   "cell_type": "raw",
   "metadata": {},
   "source": [
    "PyMOL> load 1gh4.pdb    # Load the .pdb file\n",
    "PyMOL> hide everything    # Hide everithing\n",
    "PyMOL> show cartoon, 1gh4    # Show as 'cartoon'\n",
    "PyMOL> bg_color white    # Set background color to white"
   ]
  },
  {
   "cell_type": "code",
   "execution_count": 9,
   "metadata": {
    "scrolled": false
   },
   "outputs": [],
   "source": [
    "#from IPython.display import Image\n",
    "#Image(filename='essai.png')"
   ]
  },
  {
   "cell_type": "code",
   "execution_count": 12,
   "metadata": {},
   "outputs": [],
   "source": [
    "import py3Dmol"
   ]
  },
  {
   "cell_type": "code",
   "execution_count": 119,
   "metadata": {},
   "outputs": [
    {
     "data": {
      "application/3dmoljs_load.v0": "<div id=\"3dmolviewer_1606491945483716\"  style=\"position: relative; width: 640px; height: 480px\">\n        <p id=\"3dmolwarning_1606491945483716\" style=\"background-color:#ffcccc;color:black\">You appear to be running in JupyterLab (or JavaScript failed to load for some other reason).  You need to install the 3dmol extension: <br>\n        <tt>jupyter labextension install jupyterlab_3dmol</tt></p>\n        </div>\n<script>\n\nvar loadScriptAsync = function(uri){\n  return new Promise((resolve, reject) => {\n    var tag = document.createElement('script');\n    tag.src = uri;\n    tag.async = true;\n    tag.onload = () => {\n      resolve();\n    };\n  var firstScriptTag = document.getElementsByTagName('script')[0];\n  firstScriptTag.parentNode.insertBefore(tag, firstScriptTag);\n});\n};\n\nif(typeof $3Dmolpromise === 'undefined') {\n$3Dmolpromise = null;\n  $3Dmolpromise = loadScriptAsync('https://3dmol.org/build/3Dmol.js');\n}\n\nvar viewer_1606491945483716 = null;\nvar warn = document.getElementById(\"3dmolwarning_1606491945483716\");\nif(warn) {\n    warn.parentNode.removeChild(warn);\n}\n$3Dmolpromise.then(function() {\nviewer_1606491945483716 = $3Dmol.createViewer($(\"#3dmolviewer_1606491945483716\"),{backgroundColor:\"white\"});\n$3Dmol.download(\"pdb:1gh4\", viewer_1606491945483716, {}, function() {\nviewer_1606491945483716.zoomTo();\n\tviewer_1606491945483716.setStyle({\"cartoon\": {\"color\": \"spectrum\"}});\nviewer_1606491945483716.render();\n})\n});\n</script>",
      "text/html": [
       "<div id=\"3dmolviewer_1606491945483716\"  style=\"position: relative; width: 640px; height: 480px\">\n",
       "        <p id=\"3dmolwarning_1606491945483716\" style=\"background-color:#ffcccc;color:black\">You appear to be running in JupyterLab (or JavaScript failed to load for some other reason).  You need to install the 3dmol extension: <br>\n",
       "        <tt>jupyter labextension install jupyterlab_3dmol</tt></p>\n",
       "        </div>\n",
       "<script>\n",
       "\n",
       "var loadScriptAsync = function(uri){\n",
       "  return new Promise((resolve, reject) => {\n",
       "    var tag = document.createElement('script');\n",
       "    tag.src = uri;\n",
       "    tag.async = true;\n",
       "    tag.onload = () => {\n",
       "      resolve();\n",
       "    };\n",
       "  var firstScriptTag = document.getElementsByTagName('script')[0];\n",
       "  firstScriptTag.parentNode.insertBefore(tag, firstScriptTag);\n",
       "});\n",
       "};\n",
       "\n",
       "if(typeof $3Dmolpromise === 'undefined') {\n",
       "$3Dmolpromise = null;\n",
       "  $3Dmolpromise = loadScriptAsync('https://3dmol.org/build/3Dmol.js');\n",
       "}\n",
       "\n",
       "var viewer_1606491945483716 = null;\n",
       "var warn = document.getElementById(\"3dmolwarning_1606491945483716\");\n",
       "if(warn) {\n",
       "    warn.parentNode.removeChild(warn);\n",
       "}\n",
       "$3Dmolpromise.then(function() {\n",
       "viewer_1606491945483716 = $3Dmol.createViewer($(\"#3dmolviewer_1606491945483716\"),{backgroundColor:\"white\"});\n",
       "$3Dmol.download(\"pdb:1gh4\", viewer_1606491945483716, {}, function() {\n",
       "viewer_1606491945483716.zoomTo();\n",
       "\tviewer_1606491945483716.setStyle({\"cartoon\": {\"color\": \"spectrum\"}});\n",
       "viewer_1606491945483716.render();\n",
       "})\n",
       "});\n",
       "</script>"
      ]
     },
     "metadata": {},
     "output_type": "display_data"
    }
   ],
   "source": [
    "p = py3Dmol.view(query = 'pdb:1gh4')\n",
    "p.setStyle({'cartoon': {'color':'spectrum'}})\n",
    "p.show()"
   ]
  },
  {
   "cell_type": "code",
   "execution_count": 15,
   "metadata": {},
   "outputs": [
    {
     "data": {
      "application/3dmoljs_load.v0": "<div id=\"3dmolviewer_1606483991105012\"  style=\"position: relative; width: 640px; height: 480px\">\n        <p id=\"3dmolwarning_1606483991105012\" style=\"background-color:#ffcccc;color:black\">You appear to be running in JupyterLab (or JavaScript failed to load for some other reason).  You need to install the 3dmol extension: <br>\n        <tt>jupyter labextension install jupyterlab_3dmol</tt></p>\n        </div>\n<script>\n\nvar loadScriptAsync = function(uri){\n  return new Promise((resolve, reject) => {\n    var tag = document.createElement('script');\n    tag.src = uri;\n    tag.async = true;\n    tag.onload = () => {\n      resolve();\n    };\n  var firstScriptTag = document.getElementsByTagName('script')[0];\n  firstScriptTag.parentNode.insertBefore(tag, firstScriptTag);\n});\n};\n\nif(typeof $3Dmolpromise === 'undefined') {\n$3Dmolpromise = null;\n  $3Dmolpromise = loadScriptAsync('https://3dmol.org/build/3Dmol.js');\n}\n\nvar viewer_1606483991105012 = null;\nvar warn = document.getElementById(\"3dmolwarning_1606483991105012\");\nif(warn) {\n    warn.parentNode.removeChild(warn);\n}\n$3Dmolpromise.then(function() {\nviewer_1606483991105012 = $3Dmol.createViewer($(\"#3dmolviewer_1606483991105012\"),{backgroundColor:\"white\"});\n$3Dmol.download(\"pdb:1gh4\", viewer_1606483991105012, {}, function() {\nviewer_1606483991105012.zoomTo();\n\tviewer_1606483991105012.setStyle({\"sphere\": {\"color\": \"spectrum\"}});\nviewer_1606483991105012.render();\n})\n});\n</script>",
      "text/html": [
       "<div id=\"3dmolviewer_1606483991105012\"  style=\"position: relative; width: 640px; height: 480px\">\n",
       "        <p id=\"3dmolwarning_1606483991105012\" style=\"background-color:#ffcccc;color:black\">You appear to be running in JupyterLab (or JavaScript failed to load for some other reason).  You need to install the 3dmol extension: <br>\n",
       "        <tt>jupyter labextension install jupyterlab_3dmol</tt></p>\n",
       "        </div>\n",
       "<script>\n",
       "\n",
       "var loadScriptAsync = function(uri){\n",
       "  return new Promise((resolve, reject) => {\n",
       "    var tag = document.createElement('script');\n",
       "    tag.src = uri;\n",
       "    tag.async = true;\n",
       "    tag.onload = () => {\n",
       "      resolve();\n",
       "    };\n",
       "  var firstScriptTag = document.getElementsByTagName('script')[0];\n",
       "  firstScriptTag.parentNode.insertBefore(tag, firstScriptTag);\n",
       "});\n",
       "};\n",
       "\n",
       "if(typeof $3Dmolpromise === 'undefined') {\n",
       "$3Dmolpromise = null;\n",
       "  $3Dmolpromise = loadScriptAsync('https://3dmol.org/build/3Dmol.js');\n",
       "}\n",
       "\n",
       "var viewer_1606483991105012 = null;\n",
       "var warn = document.getElementById(\"3dmolwarning_1606483991105012\");\n",
       "if(warn) {\n",
       "    warn.parentNode.removeChild(warn);\n",
       "}\n",
       "$3Dmolpromise.then(function() {\n",
       "viewer_1606483991105012 = $3Dmol.createViewer($(\"#3dmolviewer_1606483991105012\"),{backgroundColor:\"white\"});\n",
       "$3Dmol.download(\"pdb:1gh4\", viewer_1606483991105012, {}, function() {\n",
       "viewer_1606483991105012.zoomTo();\n",
       "\tviewer_1606483991105012.setStyle({\"sphere\": {\"color\": \"spectrum\"}});\n",
       "viewer_1606483991105012.render();\n",
       "})\n",
       "});\n",
       "</script>"
      ]
     },
     "metadata": {},
     "output_type": "display_data"
    }
   ],
   "source": [
    "p = py3Dmol.view(query = 'pdb:1gh4')\n",
    "p.setStyle({'sphere': {'color':'spectrum'}})\n",
    "p.show()"
   ]
  },
  {
   "cell_type": "code",
   "execution_count": null,
   "metadata": {},
   "outputs": [],
   "source": []
  },
  {
   "cell_type": "markdown",
   "metadata": {},
   "source": [
    "### 3) Comparer 2 séquences"
   ]
  },
  {
   "cell_type": "code",
   "execution_count": 5,
   "metadata": {},
   "outputs": [],
   "source": [
    "from Bio.PDB.PDBParser import PDBParser\n",
    "from Bio.PDB.Polypeptide import PPBuilder"
   ]
  },
  {
   "cell_type": "code",
   "execution_count": 7,
   "metadata": {},
   "outputs": [],
   "source": [
    "# Fonction seq_prot\n",
    "def seq_prot(structure):\n",
    "    \"\"\"\n",
    "    Reading a pdb file and extracting protein sequence.\n",
    "        Parameters\n",
    "        ----------\n",
    "        structure : PDBParser().get_structure(prot_id, prot_file)\n",
    "        \n",
    "        Returns\n",
    "        -------\n",
    "        sequence : protein sequence\n",
    "    \"\"\"\n",
    "    print(\"La séquence protéique du fichier {} est :\".format(prot_file))\n",
    "    sequence = []\n",
    "    ppb = PPBuilder() # Using C-N\n",
    "    for pp in ppb.build_peptides(structure[0][\"A\"]):\n",
    "        tmp = pp.get_sequence()\n",
    "        sequence.append(tmp)\n",
    "        print(tmp, end='')\n",
    "    print()\n",
    "    return(sequence)"
   ]
  },
  {
   "cell_type": "code",
   "execution_count": 8,
   "metadata": {
    "scrolled": true
   },
   "outputs": [
    {
     "name": "stdout",
     "output_type": "stream",
     "text": [
      "La séquence protéique du fichier 4YC6.pdb est :\n",
      "MEDYTKIEKIGEGTYGVVYKGRHKTTGQVVAMKKIRLESEEEGVPSTAIREISLLKELRHPNIVSLQDVLMQDSRLYLIFEFLSMDLKKYLDSIPPGQYMDSSLVKSYLYQILQGIVFCHSRRVLHRDLKPQNLLIDDKGTIKLADFGLARAFGVYTHEVVTLWYRSPEVLLGSARYSTPVDIWSIGTIFAELATKKPLFHGDSEIDQLFRIFRALGTPNNEVWPEVESLQDYKNTFPKWKPGSLASHVKNLDENGLDLLSKMLIYDPAKRISGKMALNHPYFND\n",
      "\n",
      "La séquence protéique du fichier 1HCL.pdb est :\n",
      "MENFQKVEKIGEGTYGVVYKARNKLTGEVVALKKIRTEGVPSTAIREISLLKELNHPNIVKLLDVIHTENKLYLVFEFLHQDLKKFMDASALTGIPLPLIKSYLFQLLQGLAFCHSHRVLHRDLKPQNLLINTEGAIKLADFGLARAFGVPVRTYTHEVVTLWYRAPEILLGCKYYSTAVDIWSLGCIFAEMVTRRALFPGDSEIDQLFRIFRTLGTPDEVVWPGVTSMPDYKPSFPKWARQDFSKVVPPLDEDGRSLLSQMLHYDPNKRISAKAALAHPFFQDVTKPVPHLRL\n"
     ]
    },
    {
     "name": "stderr",
     "output_type": "stream",
     "text": [
      "/Users/audrey/miniconda3/lib/python3.8/site-packages/Bio/PDB/StructureBuilder.py:89: PDBConstructionWarning: WARNING: Chain A is discontinuous at line 24488.\n",
      "  warnings.warn(\n",
      "/Users/audrey/miniconda3/lib/python3.8/site-packages/Bio/PDB/StructureBuilder.py:89: PDBConstructionWarning: WARNING: Chain B is discontinuous at line 24635.\n",
      "  warnings.warn(\n",
      "/Users/audrey/miniconda3/lib/python3.8/site-packages/Bio/PDB/StructureBuilder.py:89: PDBConstructionWarning: WARNING: Chain C is discontinuous at line 24677.\n",
      "  warnings.warn(\n",
      "/Users/audrey/miniconda3/lib/python3.8/site-packages/Bio/PDB/StructureBuilder.py:89: PDBConstructionWarning: WARNING: Chain D is discontinuous at line 24795.\n",
      "  warnings.warn(\n",
      "/Users/audrey/miniconda3/lib/python3.8/site-packages/Bio/PDB/StructureBuilder.py:89: PDBConstructionWarning: WARNING: Chain E is discontinuous at line 24843.\n",
      "  warnings.warn(\n",
      "/Users/audrey/miniconda3/lib/python3.8/site-packages/Bio/PDB/StructureBuilder.py:89: PDBConstructionWarning: WARNING: Chain F is discontinuous at line 24971.\n",
      "  warnings.warn(\n",
      "/Users/audrey/miniconda3/lib/python3.8/site-packages/Bio/PDB/StructureBuilder.py:89: PDBConstructionWarning: WARNING: Chain G is discontinuous at line 24987.\n",
      "  warnings.warn(\n",
      "/Users/audrey/miniconda3/lib/python3.8/site-packages/Bio/PDB/StructureBuilder.py:89: PDBConstructionWarning: WARNING: Chain H is discontinuous at line 25102.\n",
      "  warnings.warn(\n"
     ]
    },
    {
     "data": {
      "text/plain": [
       "[Seq('MENFQKVEKIGEGTYGVVYKARNKLTGEVVALKKIR', ProteinAlphabet()),\n",
       " Seq('TEGVPSTAIREISLLKELNHPNIVKLLDVIHTENKLYLVFEFLHQDLKKFMDAS...LRL', ProteinAlphabet())]"
      ]
     },
     "execution_count": 8,
     "metadata": {},
     "output_type": "execute_result"
    }
   ],
   "source": [
    "# Fichier \"4YC6.pdb\"\n",
    "prot_id, prot_file = \"4YC6\", \"4YC6.pdb\"\n",
    "struc1 = PDBParser().get_structure(prot_id, prot_file)\n",
    "\n",
    "seq_prot(struc1)\n",
    "print()\n",
    "\n",
    "# Fichier \"1HCL.pdb\"\n",
    "prot_id, prot_file = \"1HCL\", \"1HCL.pdb\"\n",
    "struc2 = PDBParser().get_structure(prot_id, prot_file)\n",
    "\n",
    "seq_prot(struc2)"
   ]
  },
  {
   "cell_type": "code",
   "execution_count": null,
   "metadata": {},
   "outputs": [],
   "source": []
  },
  {
   "cell_type": "code",
   "execution_count": 80,
   "metadata": {},
   "outputs": [],
   "source": [
    "from Bio import AlignIO\n",
    "from Bio.Seq import Seq\n",
    "from Bio.SeqRecord import SeqRecord"
   ]
  },
  {
   "cell_type": "code",
   "execution_count": 10,
   "metadata": {},
   "outputs": [
    {
     "ename": "ValueError",
     "evalue": "sequence contains letters not in the alphabet",
     "output_type": "error",
     "traceback": [
      "\u001b[0;31m---------------------------------------------------------------------------\u001b[0m",
      "\u001b[0;31mValueError\u001b[0m                                Traceback (most recent call last)",
      "\u001b[0;32m<ipython-input-10-9299b1e37dc6>\u001b[0m in \u001b[0;36m<module>\u001b[0;34m\u001b[0m\n\u001b[1;32m      6\u001b[0m \u001b[0maligner\u001b[0m\u001b[0;34m.\u001b[0m\u001b[0msubstitution_matrix\u001b[0m \u001b[0;34m=\u001b[0m \u001b[0msubstitution_matrices\u001b[0m\u001b[0;34m.\u001b[0m\u001b[0mload\u001b[0m\u001b[0;34m(\u001b[0m\u001b[0;34m\"BLOSUM62\"\u001b[0m\u001b[0;34m)\u001b[0m\u001b[0;34m\u001b[0m\u001b[0;34m\u001b[0m\u001b[0m\n\u001b[1;32m      7\u001b[0m \u001b[0;34m\u001b[0m\u001b[0m\n\u001b[0;32m----> 8\u001b[0;31m \u001b[0malignments\u001b[0m \u001b[0;34m=\u001b[0m \u001b[0maligner\u001b[0m\u001b[0;34m.\u001b[0m\u001b[0malign\u001b[0m\u001b[0;34m(\u001b[0m\u001b[0mstr\u001b[0m\u001b[0;34m(\u001b[0m\u001b[0mseq1\u001b[0m\u001b[0;34m)\u001b[0m\u001b[0;34m,\u001b[0m \u001b[0mstr\u001b[0m\u001b[0;34m(\u001b[0m\u001b[0mseq2\u001b[0m\u001b[0;34m)\u001b[0m\u001b[0;34m)\u001b[0m\u001b[0;34m\u001b[0m\u001b[0;34m\u001b[0m\u001b[0m\n\u001b[0m",
      "\u001b[0;32m~/miniconda3/lib/python3.8/site-packages/Bio/Align/__init__.py\u001b[0m in \u001b[0;36malign\u001b[0;34m(self, seqA, seqB)\u001b[0m\n\u001b[1;32m   1554\u001b[0m         \u001b[0;32mif\u001b[0m \u001b[0misinstance\u001b[0m\u001b[0;34m(\u001b[0m\u001b[0mseqB\u001b[0m\u001b[0;34m,\u001b[0m \u001b[0mSeq\u001b[0m\u001b[0;34m)\u001b[0m\u001b[0;34m:\u001b[0m\u001b[0;34m\u001b[0m\u001b[0;34m\u001b[0m\u001b[0m\n\u001b[1;32m   1555\u001b[0m             \u001b[0mseqB\u001b[0m \u001b[0;34m=\u001b[0m \u001b[0mstr\u001b[0m\u001b[0;34m(\u001b[0m\u001b[0mseqB\u001b[0m\u001b[0;34m)\u001b[0m\u001b[0;34m\u001b[0m\u001b[0;34m\u001b[0m\u001b[0m\n\u001b[0;32m-> 1556\u001b[0;31m         \u001b[0mscore\u001b[0m\u001b[0;34m,\u001b[0m \u001b[0mpaths\u001b[0m \u001b[0;34m=\u001b[0m \u001b[0m_aligners\u001b[0m\u001b[0;34m.\u001b[0m\u001b[0mPairwiseAligner\u001b[0m\u001b[0;34m.\u001b[0m\u001b[0malign\u001b[0m\u001b[0;34m(\u001b[0m\u001b[0mself\u001b[0m\u001b[0;34m,\u001b[0m \u001b[0mseqA\u001b[0m\u001b[0;34m,\u001b[0m \u001b[0mseqB\u001b[0m\u001b[0;34m)\u001b[0m\u001b[0;34m\u001b[0m\u001b[0;34m\u001b[0m\u001b[0m\n\u001b[0m\u001b[1;32m   1557\u001b[0m         \u001b[0malignments\u001b[0m \u001b[0;34m=\u001b[0m \u001b[0mPairwiseAlignments\u001b[0m\u001b[0;34m(\u001b[0m\u001b[0mseqA\u001b[0m\u001b[0;34m,\u001b[0m \u001b[0mseqB\u001b[0m\u001b[0;34m,\u001b[0m \u001b[0mscore\u001b[0m\u001b[0;34m,\u001b[0m \u001b[0mpaths\u001b[0m\u001b[0;34m)\u001b[0m\u001b[0;34m\u001b[0m\u001b[0;34m\u001b[0m\u001b[0m\n\u001b[1;32m   1558\u001b[0m         \u001b[0;32mreturn\u001b[0m \u001b[0malignments\u001b[0m\u001b[0;34m\u001b[0m\u001b[0;34m\u001b[0m\u001b[0m\n",
      "\u001b[0;31mValueError\u001b[0m: sequence contains letters not in the alphabet"
     ]
    }
   ],
   "source": [
    "from Bio import Align\n",
    "from Bio.Align import substitution_matrices\n",
    "\n",
    "aligner = Align.PairwiseAligner()\n",
    "\n",
    "aligner.substitution_matrix = substitution_matrices.load(\"BLOSUM62\")\n",
    "\n",
    "alignments = aligner.align(str(seq1), str(seq2))"
   ]
  },
  {
   "cell_type": "code",
   "execution_count": 82,
   "metadata": {},
   "outputs": [
    {
     "ename": "TypeError",
     "evalue": "The sequence data given to a Seq object should be a string (not another Seq object etc)",
     "output_type": "error",
     "traceback": [
      "\u001b[0;31m---------------------------------------------------------------------------\u001b[0m",
      "\u001b[0;31mTypeError\u001b[0m                                 Traceback (most recent call last)",
      "\u001b[0;32m<ipython-input-82-bcfcce10df29>\u001b[0m in \u001b[0;36m<module>\u001b[0;34m\u001b[0m\n\u001b[1;32m      3\u001b[0m \u001b[0;32mfrom\u001b[0m \u001b[0mBio\u001b[0m\u001b[0;34m.\u001b[0m\u001b[0mAlphabet\u001b[0m \u001b[0;32mimport\u001b[0m \u001b[0mgeneric_protein\u001b[0m\u001b[0;34m\u001b[0m\u001b[0;34m\u001b[0m\u001b[0m\n\u001b[1;32m      4\u001b[0m \u001b[0;34m\u001b[0m\u001b[0m\n\u001b[0;32m----> 5\u001b[0;31m \u001b[0mSeq\u001b[0m\u001b[0;34m(\u001b[0m\u001b[0mstruc1\u001b[0m\u001b[0;34m,\u001b[0m \u001b[0mgeneric_protein\u001b[0m\u001b[0;34m)\u001b[0m\u001b[0;34m\u001b[0m\u001b[0;34m\u001b[0m\u001b[0m\n\u001b[0m",
      "\u001b[0;32m~/miniconda3/lib/python3.8/site-packages/Bio/Seq.py\u001b[0m in \u001b[0;36m__init__\u001b[0;34m(self, data, alphabet)\u001b[0m\n\u001b[1;32m    108\u001b[0m         \u001b[0;31m# Enforce string storage\u001b[0m\u001b[0;34m\u001b[0m\u001b[0;34m\u001b[0m\u001b[0;34m\u001b[0m\u001b[0m\n\u001b[1;32m    109\u001b[0m         \u001b[0;32mif\u001b[0m \u001b[0;32mnot\u001b[0m \u001b[0misinstance\u001b[0m\u001b[0;34m(\u001b[0m\u001b[0mdata\u001b[0m\u001b[0;34m,\u001b[0m \u001b[0mstr\u001b[0m\u001b[0;34m)\u001b[0m\u001b[0;34m:\u001b[0m\u001b[0;34m\u001b[0m\u001b[0;34m\u001b[0m\u001b[0m\n\u001b[0;32m--> 110\u001b[0;31m             raise TypeError(\n\u001b[0m\u001b[1;32m    111\u001b[0m                 \u001b[0;34m\"The sequence data given to a Seq object should \"\u001b[0m\u001b[0;34m\u001b[0m\u001b[0;34m\u001b[0m\u001b[0m\n\u001b[1;32m    112\u001b[0m                 \u001b[0;34m\"be a string (not another Seq object etc)\"\u001b[0m\u001b[0;34m\u001b[0m\u001b[0;34m\u001b[0m\u001b[0m\n",
      "\u001b[0;31mTypeError\u001b[0m: The sequence data given to a Seq object should be a string (not another Seq object etc)"
     ]
    }
   ],
   "source": [
    "from Bio.Seq import Seq\n",
    "from Bio.Alphabet import generic_protein\n",
    "\n",
    "Seq(struc1, generic_protein)"
   ]
  },
  {
   "cell_type": "code",
   "execution_count": 86,
   "metadata": {},
   "outputs": [
    {
     "ename": "ValueError",
     "evalue": "Unknown format 'pdb'",
     "output_type": "error",
     "traceback": [
      "\u001b[0;31m---------------------------------------------------------------------------\u001b[0m",
      "\u001b[0;31mValueError\u001b[0m                                Traceback (most recent call last)",
      "\u001b[0;32m<ipython-input-86-eeb0786923d4>\u001b[0m in \u001b[0;36m<module>\u001b[0;34m\u001b[0m\n\u001b[1;32m      1\u001b[0m \u001b[0;32mfrom\u001b[0m \u001b[0mBio\u001b[0m \u001b[0;32mimport\u001b[0m \u001b[0mpairwise2\u001b[0m\u001b[0;34m\u001b[0m\u001b[0;34m\u001b[0m\u001b[0m\n\u001b[1;32m      2\u001b[0m \u001b[0;32mfrom\u001b[0m \u001b[0mBio\u001b[0m \u001b[0;32mimport\u001b[0m \u001b[0mSeqIO\u001b[0m\u001b[0;34m\u001b[0m\u001b[0;34m\u001b[0m\u001b[0m\n\u001b[0;32m----> 3\u001b[0;31m \u001b[0mseq1\u001b[0m \u001b[0;34m=\u001b[0m \u001b[0mSeqIO\u001b[0m\u001b[0;34m.\u001b[0m\u001b[0mread\u001b[0m\u001b[0;34m(\u001b[0m\u001b[0;34m\"4YC6.pdb\"\u001b[0m\u001b[0;34m,\u001b[0m \u001b[0;34m\"pdb\"\u001b[0m\u001b[0;34m)\u001b[0m\u001b[0;34m\u001b[0m\u001b[0;34m\u001b[0m\u001b[0m\n\u001b[0m\u001b[1;32m      4\u001b[0m \u001b[0mseq2\u001b[0m \u001b[0;34m=\u001b[0m \u001b[0mSeqIO\u001b[0m\u001b[0;34m.\u001b[0m\u001b[0mread\u001b[0m\u001b[0;34m(\u001b[0m\u001b[0;34m\"1HCL.pdb\"\u001b[0m\u001b[0;34m,\u001b[0m \u001b[0;34m\"pdb\"\u001b[0m\u001b[0;34m)\u001b[0m\u001b[0;34m\u001b[0m\u001b[0;34m\u001b[0m\u001b[0m\n\u001b[1;32m      5\u001b[0m \u001b[0malignments\u001b[0m \u001b[0;34m=\u001b[0m \u001b[0mpairwise2\u001b[0m\u001b[0;34m.\u001b[0m\u001b[0malign\u001b[0m\u001b[0;34m.\u001b[0m\u001b[0mglobalxx\u001b[0m\u001b[0;34m(\u001b[0m\u001b[0mseq1\u001b[0m\u001b[0;34m.\u001b[0m\u001b[0mseq\u001b[0m\u001b[0;34m,\u001b[0m \u001b[0mseq2\u001b[0m\u001b[0;34m.\u001b[0m\u001b[0mseq\u001b[0m\u001b[0;34m)\u001b[0m\u001b[0;34m\u001b[0m\u001b[0;34m\u001b[0m\u001b[0m\n",
      "\u001b[0;32m~/miniconda3/lib/python3.8/site-packages/Bio/SeqIO/__init__.py\u001b[0m in \u001b[0;36mread\u001b[0;34m(handle, format, alphabet)\u001b[0m\n\u001b[1;32m    702\u001b[0m     \u001b[0mto\u001b[0m \u001b[0mread\u001b[0m \u001b[0mmultiple\u001b[0m \u001b[0mrecords\u001b[0m \u001b[0;32mfrom\u001b[0m \u001b[0mthe\u001b[0m \u001b[0mhandle\u001b[0m\u001b[0;34m.\u001b[0m\u001b[0;34m\u001b[0m\u001b[0;34m\u001b[0m\u001b[0m\n\u001b[1;32m    703\u001b[0m     \"\"\"\n\u001b[0;32m--> 704\u001b[0;31m     \u001b[0miterator\u001b[0m \u001b[0;34m=\u001b[0m \u001b[0mparse\u001b[0m\u001b[0;34m(\u001b[0m\u001b[0mhandle\u001b[0m\u001b[0;34m,\u001b[0m \u001b[0mformat\u001b[0m\u001b[0;34m,\u001b[0m \u001b[0malphabet\u001b[0m\u001b[0;34m)\u001b[0m\u001b[0;34m\u001b[0m\u001b[0;34m\u001b[0m\u001b[0m\n\u001b[0m\u001b[1;32m    705\u001b[0m     \u001b[0;32mtry\u001b[0m\u001b[0;34m:\u001b[0m\u001b[0;34m\u001b[0m\u001b[0;34m\u001b[0m\u001b[0m\n\u001b[1;32m    706\u001b[0m         \u001b[0mrecord\u001b[0m \u001b[0;34m=\u001b[0m \u001b[0mnext\u001b[0m\u001b[0;34m(\u001b[0m\u001b[0miterator\u001b[0m\u001b[0;34m)\u001b[0m\u001b[0;34m\u001b[0m\u001b[0;34m\u001b[0m\u001b[0m\n",
      "\u001b[0;32m~/miniconda3/lib/python3.8/site-packages/Bio/SeqIO/__init__.py\u001b[0m in \u001b[0;36mparse\u001b[0;34m(handle, format, alphabet)\u001b[0m\n\u001b[1;32m    640\u001b[0m         )\n\u001b[1;32m    641\u001b[0m         \u001b[0;32mreturn\u001b[0m \u001b[0mi\u001b[0m\u001b[0;34m\u001b[0m\u001b[0;34m\u001b[0m\u001b[0m\n\u001b[0;32m--> 642\u001b[0;31m     \u001b[0;32mraise\u001b[0m \u001b[0mValueError\u001b[0m\u001b[0;34m(\u001b[0m\u001b[0;34m\"Unknown format '%s'\"\u001b[0m \u001b[0;34m%\u001b[0m \u001b[0mformat\u001b[0m\u001b[0;34m)\u001b[0m\u001b[0;34m\u001b[0m\u001b[0;34m\u001b[0m\u001b[0m\n\u001b[0m\u001b[1;32m    643\u001b[0m \u001b[0;34m\u001b[0m\u001b[0m\n\u001b[1;32m    644\u001b[0m \u001b[0;34m\u001b[0m\u001b[0m\n",
      "\u001b[0;31mValueError\u001b[0m: Unknown format 'pdb'"
     ]
    }
   ],
   "source": [
    "from Bio import pairwise2\n",
    "from Bio import SeqIO\n",
    "seq1 = SeqIO.read(\"4YC6.pdb\", \"pdb\")\n",
    "seq2 = SeqIO.read(\"1HCL.pdb\", \"pdb\")\n",
    "alignments = pairwise2.align.globalxx(seq1.seq, seq2.seq)"
   ]
  },
  {
   "cell_type": "code",
   "execution_count": 25,
   "metadata": {},
   "outputs": [
    {
     "name": "stdout",
     "output_type": "stream",
     "text": [
      "3 PADKTNV\n",
      "  |..|..|\n",
      "1 PEEKSAV\n",
      "  Score=16\n",
      "\n"
     ]
    }
   ],
   "source": [
    "from Bio import pairwise2\n",
    "from Bio.Align import substitution_matrices\n",
    "blosum62 = substitution_matrices.load(\"BLOSUM62\")\n",
    "alignments = pairwise2.align.localds(\"LSPADKTNVKAA\", \"PEEKSAV\", blosum62, -10, -1)print(pairwise2.format_alignment(*alignments[0]))"
   ]
  },
  {
   "cell_type": "code",
   "execution_count": 27,
   "metadata": {},
   "outputs": [
    {
     "data": {
      "text/plain": [
       "[Alignment(seqA='ETPRAHGALTSDNSGTTLFGKPEPMSSAEATP--------TASEIRNPVFSGKMDGNSLKQADSTSTR', seqB='--KEEAGSLRNEES--MLKGKAEPMIYGKGEPGTVGRVDCTASGAENSGSLGKVDMPCSSKVDI----', score=65.0, start=6, end=63),\n",
       " Alignment(seqA='ETPRAHGALTSDNSGTTLFGKPEPMSSAEATP-TASEIRNPVFSGKMDGNSLKQADSTSTR----', seqB='--KEEAGSLRNEES--MLKGKAEPMIYGKGEPGTVGRV-DCTASGAENSGSLGKVDMPCSSKVDI', score=65.0, start=6, end=56),\n",
       " Alignment(seqA='ETPRAHGALTSDNSGTTLFGKPEPMSSAEATP-TASEIRNPVFSGKMDGNSLKQADSTSTR----', seqB='--KEEAGSLRNEES--MLKGKAEPMIYGKGEPGTVGRVDCTA-SGAENSGSLGKVDMPCSSKVDI', score=65.0, start=6, end=56)]"
      ]
     },
     "execution_count": 27,
     "metadata": {},
     "output_type": "execute_result"
    }
   ],
   "source": [
    "from Bio import pairwise2                                                                                                                                                                                                            \n",
    "from Bio.SubsMat import MatrixInfo as matlist                                                                                                                                                                                        \n",
    "matrix = matlist.blosum50                                                                                                                                                                                                            \n",
    "pairwise2.align.localds(\"ETPRAHGALTSDNSGTTLFGKPEPMSSAEATPTASEIRNPVFSGKMDGNSLKQADSTSTR\", \"KEEAGSLRNEESMLKGKAEPMIYGKGEPGTVGRVDCTASGAENSGSLGKVDMPCSSKVDI\", matrix, -10, -1)                                                       "
   ]
  },
  {
   "cell_type": "code",
   "execution_count": 118,
   "metadata": {},
   "outputs": [],
   "source": [
    "from Bio.PDB import parse_pdb_header\n",
    "with open(\"4YC6.pdb\", \"r\") as handle:\n",
    "    header_dict = parse_pdb_header(handle)"
   ]
  },
  {
   "cell_type": "code",
   "execution_count": 142,
   "metadata": {
    "scrolled": false
   },
   "outputs": [
    {
     "ename": "ImportError",
     "evalue": "cannot import name 'protein' from 'Bio.Alphabet' (/Users/audrey/miniconda3/lib/python3.8/site-packages/Bio/Alphabet/__init__.py)",
     "output_type": "error",
     "traceback": [
      "\u001b[0;31m---------------------------------------------------------------------------\u001b[0m",
      "\u001b[0;31mImportError\u001b[0m                               Traceback (most recent call last)",
      "\u001b[0;32m<ipython-input-142-84e30bfe1ae9>\u001b[0m in \u001b[0;36m<module>\u001b[0;34m\u001b[0m\n\u001b[0;32m----> 1\u001b[0;31m \u001b[0;32mfrom\u001b[0m \u001b[0mBio\u001b[0m\u001b[0;34m.\u001b[0m\u001b[0mAlphabet\u001b[0m \u001b[0;32mimport\u001b[0m \u001b[0mIUPAC\u001b[0m\u001b[0;34m,\u001b[0m \u001b[0mGapped\u001b[0m\u001b[0;34m,\u001b[0m \u001b[0mprotein\u001b[0m\u001b[0;34m\u001b[0m\u001b[0;34m\u001b[0m\u001b[0m\n\u001b[0m\u001b[1;32m      2\u001b[0m \u001b[0;32mfrom\u001b[0m \u001b[0mBio\u001b[0m\u001b[0;34m.\u001b[0m\u001b[0mAlign\u001b[0m \u001b[0;32mimport\u001b[0m \u001b[0mMultipleSeqAlignment\u001b[0m\u001b[0;34m\u001b[0m\u001b[0;34m\u001b[0m\u001b[0m\n\u001b[1;32m      3\u001b[0m \u001b[0;34m\u001b[0m\u001b[0m\n\u001b[1;32m      4\u001b[0m \u001b[0;31m#Bio.Alphabet.IUPAC.IUPACProtein\u001b[0m\u001b[0;34m\u001b[0m\u001b[0;34m\u001b[0m\u001b[0;34m\u001b[0m\u001b[0m\n\u001b[1;32m      5\u001b[0m \u001b[0;34m\u001b[0m\u001b[0m\n",
      "\u001b[0;31mImportError\u001b[0m: cannot import name 'protein' from 'Bio.Alphabet' (/Users/audrey/miniconda3/lib/python3.8/site-packages/Bio/Alphabet/__init__.py)"
     ]
    }
   ],
   "source": [
    "from Bio.Alphabet import IUPAC, Gapped, protein\n",
    "from Bio.Align import MultipleSeqAlignment\n",
    "\n",
    "\n",
    "# Bio.Alphabet.IUPAC.ExtendedIUPACProtein\n",
    "\n",
    "align = MultipleSeqAlignment([], Gapped(IUPAC.protein, \"-\"))\n",
    "\n",
    "align.add_sequence(\"Alpha\", \"ACTGCTAGCTAG\")\n",
    "\n",
    "align.add_sequence(\"Beta\",  \"ACT-CTAGCTAG\")\n",
    "\n",
    "print(align)"
   ]
  },
  {
   "cell_type": "code",
   "execution_count": null,
   "metadata": {},
   "outputs": [],
   "source": []
  },
  {
   "cell_type": "code",
   "execution_count": 126,
   "metadata": {},
   "outputs": [
    {
     "ename": "AttributeError",
     "evalue": "'Structure' object has no attribute 'get_sequence'",
     "output_type": "error",
     "traceback": [
      "\u001b[0;31m---------------------------------------------------------------------------\u001b[0m",
      "\u001b[0;31mAttributeError\u001b[0m                            Traceback (most recent call last)",
      "\u001b[0;32m<ipython-input-126-3d7bf087cc91>\u001b[0m in \u001b[0;36m<module>\u001b[0;34m\u001b[0m\n\u001b[0;32m----> 1\u001b[0;31m \u001b[0mseq\u001b[0m \u001b[0;34m=\u001b[0m \u001b[0mstruc1\u001b[0m\u001b[0;34m.\u001b[0m\u001b[0mget_sequence\u001b[0m\u001b[0;34m(\u001b[0m\u001b[0;34m)\u001b[0m\u001b[0;34m\u001b[0m\u001b[0;34m\u001b[0m\u001b[0m\n\u001b[0m",
      "\u001b[0;31mAttributeError\u001b[0m: 'Structure' object has no attribute 'get_sequence'"
     ]
    }
   ],
   "source": [
    "seq = struc1.get_sequence()"
   ]
  },
  {
   "cell_type": "code",
   "execution_count": null,
   "metadata": {},
   "outputs": [],
   "source": []
  }
 ],
 "metadata": {
  "kernelspec": {
   "display_name": "Python 3",
   "language": "python",
   "name": "python3"
  },
  "language_info": {
   "codemirror_mode": {
    "name": "ipython",
    "version": 3
   },
   "file_extension": ".py",
   "mimetype": "text/x-python",
   "name": "python",
   "nbconvert_exporter": "python",
   "pygments_lexer": "ipython3",
   "version": "3.8.3"
  }
 },
 "nbformat": 4,
 "nbformat_minor": 4
}
