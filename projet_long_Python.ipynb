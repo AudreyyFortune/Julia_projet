{
 "cells": [
  {
   "cell_type": "markdown",
   "metadata": {},
   "source": [
    "# <div style=\"color: #80cbc4; font-size: 34px\">Projet Long Julia VS Python VS R</div>"
   ]
  },
  {
   "cell_type": "markdown",
   "metadata": {},
   "source": [
    "<div style=\"color: #59698d; font-size: 18px\">Audrey Fortuné M2BI </div>"
   ]
  },
  {
   "cell_type": "markdown",
   "metadata": {},
   "source": [
    "<div class=\"alert alert-block alert-success\">\n",
    "    Run cells in Python 3.8.3\n",
    "</div>"
   ]
  },
  {
   "cell_type": "markdown",
   "metadata": {},
   "source": [
    "Nous allons mesurer le temps d'exécuter du programme."
   ]
  },
  {
   "cell_type": "code",
   "execution_count": 135,
   "metadata": {},
   "outputs": [],
   "source": [
    "########### ~~~~~~~~~~~~~~~~~~~~~###########\n",
    "import time\n",
    "from datetime import timedelta\n",
    "start_time = time.monotonic()\n",
    "########### ~~~~~~~~~~~~~~~~~~~~~###########"
   ]
  },
  {
   "cell_type": "markdown",
   "metadata": {},
   "source": []
  },
  {
   "cell_type": "markdown",
   "metadata": {},
   "source": [
    "## 1) Lire un fichier .pdb"
   ]
  },
  {
   "cell_type": "markdown",
   "metadata": {},
   "source": [
    "Nous allons prendre comme fichier d'exemple, la structure disponible sur la Protein Data Bank '1RGB' qui est une phospholipase A2 de *Vipera ammodytes meridionali*."
   ]
  },
  {
   "cell_type": "markdown",
   "metadata": {},
   "source": [
    "Nous utilisons le module 'Biopython' qui utilise la hiérarchie suivante : structure > model > chain > residue > atom."
   ]
  },
  {
   "cell_type": "code",
   "execution_count": 1,
   "metadata": {},
   "outputs": [],
   "source": [
    "# import des packages\n",
    "\n",
    "import Bio\n",
    "from Bio.PDB import PDBParser"
   ]
  },
  {
   "cell_type": "code",
   "execution_count": 3,
   "metadata": {},
   "outputs": [
    {
     "name": "stderr",
     "output_type": "stream",
     "text": [
      "/Users/audrey/miniconda3/lib/python3.8/site-packages/Bio/PDB/StructureBuilder.py:89: PDBConstructionWarning: WARNING: Chain B is discontinuous at line 4442.\n",
      "  warnings.warn(\n",
      "/Users/audrey/miniconda3/lib/python3.8/site-packages/Bio/PDB/StructureBuilder.py:89: PDBConstructionWarning: WARNING: Chain L is discontinuous at line 4462.\n",
      "  warnings.warn(\n"
     ]
    }
   ],
   "source": [
    "# Lecture du fichier\n",
    "\n",
    "prot_id, prot_file = \"1rgb\", \"data/1rgb.pdb\"\n",
    "structure = PDBParser().get_structure(prot_id, prot_file)"
   ]
  },
  {
   "cell_type": "code",
   "execution_count": 94,
   "metadata": {},
   "outputs": [],
   "source": [
    "# Protein Structure\n",
    "\n",
    "def prot_struc(structure, fichier):\n",
    "    \"\"\"\n",
    "    To get the proteine structure.\n",
    "    \n",
    "        Parameters\n",
    "        ----------\n",
    "        struture : PDBParser.get_structure\n",
    "        fichier : file name of PDB file\n",
    "    \n",
    "        Returns\n",
    "        -------\n",
    "        tmp : The protein structure of the input file with the number of model, chains, residues and atoms.\n",
    "        \n",
    "    \"\"\"\n",
    "    compt_chain = 0\n",
    "    compt_residu = 0\n",
    "    compt_atom = 0\n",
    "    for model in structure:   # X-Ray generally only have 1 model, while more in NMR\n",
    "        for chain in model: \n",
    "            compt_chain += 1\n",
    "            for residue in chain:\n",
    "                compt_residu += 1\n",
    "                for atom in residue:\n",
    "                    compt_atom +=1\n",
    "    with open(prot_file, \"r\") as pdb_file:\n",
    "        res_count = 0\n",
    "        for line in pdb_file:\n",
    "            if line.startswith(\"DBREF\"):\n",
    "                chain = line[12:13].strip()\n",
    "                model = line[17:18].strip()\n",
    "                residu = line[21:24].strip()\n",
    "        tuple = \"Protein Structure\", fichier[5:], \"with\", str(model), \"models,\", str(compt_chain), \"chains,\", \\\n",
    "                str(compt_residu), \"residues,\", str(compt_atom), \"atoms.\"\n",
    "        tmp = \" \".join(tuple)\n",
    "    return(tmp) "
   ]
  },
  {
   "cell_type": "code",
   "execution_count": 95,
   "metadata": {},
   "outputs": [
    {
     "data": {
      "text/plain": [
       "'Protein Structure 1rgb.pdb with 1 models, 4 chains, 490 residues, 3892 atoms.'"
      ]
     },
     "execution_count": 95,
     "metadata": {},
     "output_type": "execute_result"
    }
   ],
   "source": [
    "prot_struc(structure, prot_file)"
   ]
  },
  {
   "cell_type": "code",
   "execution_count": 5,
   "metadata": {},
   "outputs": [
    {
     "name": "stdout",
     "output_type": "stream",
     "text": [
      "name : phospholipase a2 from vipera ammodytes meridionalis\n",
      "head : hydrolase\n",
      "idcode : 1RGB\n",
      "deposition_date : 2003-11-12\n",
      "release_date : 2005-01-18\n",
      "structure_method : x-ray diffraction\n",
      "resolution : 3.3\n",
      "structure_reference : []\n",
      "journal_reference : d.n.georgieva,w.rypniewski,a.gabdoulkhakov,n.genov,c.asp49 phospholipase a(2)-elaidoylamide complex: a newof inhibition. biochem.biophys.res.commun. v. 319 1314 2004 issn 0006-291x 15194511 10.1016/j.bbrc.2004.05.106 \n",
      "author : D.N.Georgieva\n",
      "compound : {'1': {'misc': '', 'molecule': 'phospholipase a2', 'chain': 'a, b, k, l', 'synonym': 'phosphatidylcholine 2-acylhydrolase, vipoxin non-toxiccomponent, vipoxin b chain ', 'ec_number': '3.1.1.4', 'ec': '3.1.1.4'}}\n",
      "source : {'1': {'misc': '', 'organism_scientific': 'vipera ammodytes meridionalis', 'organism_taxid': '73841', 'strain': 'meridionalis', 'secretion': 'venom'}}\n",
      "has_missing_residues : False\n",
      "missing_residues : []\n",
      "keywords : phospholipase a2, neurotoxin, elaidoylamide, hydrolase\n",
      "journal : AUTH   D.N.GEORGIEVA,W.RYPNIEWSKI,A.GABDOULKHAKOV,N.GENOV,C.BETZELTITL   ASP49 PHOSPHOLIPASE A(2)-ELAIDOYLAMIDE COMPLEX: A NEW MODETITL 2 OF INHIBITION.REF    BIOCHEM.BIOPHYS.RES.COMMUN.   V. 319  1314 2004REFN                   ISSN 0006-291XPMID   15194511DOI    10.1016/J.BBRC.2004.05.106\n"
     ]
    }
   ],
   "source": [
    "# Header Information\n",
    "\n",
    "for key, value in structure.header.items():\n",
    "    print(key, \":\", value)"
   ]
  },
  {
   "cell_type": "markdown",
   "metadata": {},
   "source": [
    "Affichons les coordonnées des carbones α (notés CA) des 10 premiers résidus:"
   ]
  },
  {
   "cell_type": "code",
   "execution_count": 6,
   "metadata": {},
   "outputs": [
    {
     "name": "stdout",
     "output_type": "stream",
     "text": [
      "Residue 1 with name ASN coordinates [ 4.682 55.345 28.346]\n",
      "Residue 2 with name LEU coordinates [ 5.148 56.953 25.006]\n",
      "Residue 3 with name PHE coordinates [ 4.657 53.617 23.371]\n",
      "Residue 4 with name GLN coordinates [ 1.52  52.812 25.326]\n",
      "Residue 5 with name PHE coordinates [ 0.559 56.349 24.578]\n",
      "Residue 6 with name ALA coordinates [ 1.554 56.075 20.967]\n",
      "Residue 7 with name LYS coordinates [-0.772 53.147 20.427]\n",
      "Residue 8 with name MET coordinates [-3.666 55.052 21.963]\n",
      "Residue 9 with name ILE coordinates [-3.329 57.765 19.393]\n",
      "Residue 10 with name ASN coordinates [-3.162 55.165 16.617]\n"
     ]
    }
   ],
   "source": [
    "res_start = 1\n",
    "model = structure[0]\n",
    "chain = model[\"A\"]\n",
    "for i in range(10):\n",
    "    idx = res_start + i\n",
    "    print(\"Residue\", idx, \"with name\", chain[idx].resname, \"coordinates\", chain[idx][\"CA\"].coord)"
   ]
  },
  {
   "cell_type": "markdown",
   "metadata": {},
   "source": []
  },
  {
   "cell_type": "markdown",
   "metadata": {},
   "source": [
    "## 2) Visualisation de la structure"
   ]
  },
  {
   "cell_type": "markdown",
   "metadata": {},
   "source": [
    "Les lignes de codes qui suivent semblent fonctionner sous Windows mais pas sur Mac (l'erreur est courante sous Mac)."
   ]
  },
  {
   "cell_type": "markdown",
   "metadata": {},
   "source": [
    "Ces lignes permettent de faire appel au logiciel **PyMOL** et affiche la structure dans le jupyter notebook. "
   ]
  },
  {
   "cell_type": "raw",
   "metadata": {},
   "source": [
    "#pymol (ne fonctionne pas car je suis sous Mac)\n",
    "%pylab inline \n",
    "from ipymol import viewer as pymol\n",
    "pymol.start()   # Start PyMOL RPC server\n",
    "pymol.fetch('1gh4') # Fetch PDB\n",
    "pymol.show_as('cartoon') # Show as 'cartoon'\n",
    "pymol.bg_color('white') # Set background color to white\n",
    "pymol.display() # Show current display"
   ]
  },
  {
   "cell_type": "markdown",
   "metadata": {},
   "source": [
    "Nous pouvons également afficher la structure directement dans le logiciel **PyMOL**."
   ]
  },
  {
   "cell_type": "markdown",
   "metadata": {},
   "source": [
    "Ces lignes de commandes sont à rentrer dans le logiciel PyMOL :"
   ]
  },
  {
   "cell_type": "raw",
   "metadata": {},
   "source": [
    "PyMOL> load 1gh4.pdb    # Load the .pdb file\n",
    "PyMOL> hide everything    # Hide everithing\n",
    "PyMOL> show cartoon, 1gh4    # Show as 'cartoon'\n",
    "PyMOL> bg_color white    # Set background color to white"
   ]
  },
  {
   "cell_type": "markdown",
   "metadata": {},
   "source": [
    "Nous pouvons également afficher la structure dans la celulle de Jupyter notebook grâce à la nouvelle bibliothèque **py3Dmol**. \n",
    "Pour cela, il faut exécuter le script en local pour voir la structure protéique et pouvoir la faire pivoter. "
   ]
  },
  {
   "cell_type": "code",
   "execution_count": 7,
   "metadata": {},
   "outputs": [],
   "source": [
    "import py3Dmol"
   ]
  },
  {
   "cell_type": "code",
   "execution_count": 8,
   "metadata": {},
   "outputs": [
    {
     "data": {
      "application/3dmoljs_load.v0": "<div id=\"3dmolviewer_16144430469663308\"  style=\"position: relative; width: 640px; height: 480px\">\n        <p id=\"3dmolwarning_16144430469663308\" style=\"background-color:#ffcccc;color:black\">You appear to be running in JupyterLab (or JavaScript failed to load for some other reason).  You need to install the 3dmol extension: <br>\n        <tt>jupyter labextension install jupyterlab_3dmol</tt></p>\n        </div>\n<script>\n\nvar loadScriptAsync = function(uri){\n  return new Promise((resolve, reject) => {\n    var tag = document.createElement('script');\n    tag.src = uri;\n    tag.async = true;\n    tag.onload = () => {\n      resolve();\n    };\n  var firstScriptTag = document.getElementsByTagName('script')[0];\n  firstScriptTag.parentNode.insertBefore(tag, firstScriptTag);\n});\n};\n\nif(typeof $3Dmolpromise === 'undefined') {\n$3Dmolpromise = null;\n  $3Dmolpromise = loadScriptAsync('https://3dmol.org/build/3Dmol.js');\n}\n\nvar viewer_16144430469663308 = null;\nvar warn = document.getElementById(\"3dmolwarning_16144430469663308\");\nif(warn) {\n    warn.parentNode.removeChild(warn);\n}\n$3Dmolpromise.then(function() {\nviewer_16144430469663308 = $3Dmol.createViewer($(\"#3dmolviewer_16144430469663308\"),{backgroundColor:\"white\"});\n$3Dmol.download(\"pdb:1RGB\", viewer_16144430469663308, {}, function() {\nviewer_16144430469663308.zoomTo();\n\tviewer_16144430469663308.setStyle({\"cartoon\": {\"color\": \"spectrum\"}});\nviewer_16144430469663308.render();\n})\n});\n</script>",
      "text/html": [
       "<div id=\"3dmolviewer_16144430469663308\"  style=\"position: relative; width: 640px; height: 480px\">\n",
       "        <p id=\"3dmolwarning_16144430469663308\" style=\"background-color:#ffcccc;color:black\">You appear to be running in JupyterLab (or JavaScript failed to load for some other reason).  You need to install the 3dmol extension: <br>\n",
       "        <tt>jupyter labextension install jupyterlab_3dmol</tt></p>\n",
       "        </div>\n",
       "<script>\n",
       "\n",
       "var loadScriptAsync = function(uri){\n",
       "  return new Promise((resolve, reject) => {\n",
       "    var tag = document.createElement('script');\n",
       "    tag.src = uri;\n",
       "    tag.async = true;\n",
       "    tag.onload = () => {\n",
       "      resolve();\n",
       "    };\n",
       "  var firstScriptTag = document.getElementsByTagName('script')[0];\n",
       "  firstScriptTag.parentNode.insertBefore(tag, firstScriptTag);\n",
       "});\n",
       "};\n",
       "\n",
       "if(typeof $3Dmolpromise === 'undefined') {\n",
       "$3Dmolpromise = null;\n",
       "  $3Dmolpromise = loadScriptAsync('https://3dmol.org/build/3Dmol.js');\n",
       "}\n",
       "\n",
       "var viewer_16144430469663308 = null;\n",
       "var warn = document.getElementById(\"3dmolwarning_16144430469663308\");\n",
       "if(warn) {\n",
       "    warn.parentNode.removeChild(warn);\n",
       "}\n",
       "$3Dmolpromise.then(function() {\n",
       "viewer_16144430469663308 = $3Dmol.createViewer($(\"#3dmolviewer_16144430469663308\"),{backgroundColor:\"white\"});\n",
       "$3Dmol.download(\"pdb:1RGB\", viewer_16144430469663308, {}, function() {\n",
       "viewer_16144430469663308.zoomTo();\n",
       "\tviewer_16144430469663308.setStyle({\"cartoon\": {\"color\": \"spectrum\"}});\n",
       "viewer_16144430469663308.render();\n",
       "})\n",
       "});\n",
       "</script>"
      ]
     },
     "metadata": {},
     "output_type": "display_data"
    }
   ],
   "source": [
    "# Visualisation en cartoon\n",
    "\n",
    "p_cartoon = py3Dmol.view(query = 'pdb:1RGB')\n",
    "p_cartoon.setStyle({'cartoon': {'color':'spectrum'}})\n",
    "p_cartoon.show() # exécuter en local"
   ]
  },
  {
   "cell_type": "code",
   "execution_count": 9,
   "metadata": {},
   "outputs": [
    {
     "data": {
      "application/3dmoljs_load.v0": "<div id=\"3dmolviewer_16144430469714072\"  style=\"position: relative; width: 640px; height: 480px\">\n        <p id=\"3dmolwarning_16144430469714072\" style=\"background-color:#ffcccc;color:black\">You appear to be running in JupyterLab (or JavaScript failed to load for some other reason).  You need to install the 3dmol extension: <br>\n        <tt>jupyter labextension install jupyterlab_3dmol</tt></p>\n        </div>\n<script>\n\nvar loadScriptAsync = function(uri){\n  return new Promise((resolve, reject) => {\n    var tag = document.createElement('script');\n    tag.src = uri;\n    tag.async = true;\n    tag.onload = () => {\n      resolve();\n    };\n  var firstScriptTag = document.getElementsByTagName('script')[0];\n  firstScriptTag.parentNode.insertBefore(tag, firstScriptTag);\n});\n};\n\nif(typeof $3Dmolpromise === 'undefined') {\n$3Dmolpromise = null;\n  $3Dmolpromise = loadScriptAsync('https://3dmol.org/build/3Dmol.js');\n}\n\nvar viewer_16144430469714072 = null;\nvar warn = document.getElementById(\"3dmolwarning_16144430469714072\");\nif(warn) {\n    warn.parentNode.removeChild(warn);\n}\n$3Dmolpromise.then(function() {\nviewer_16144430469714072 = $3Dmol.createViewer($(\"#3dmolviewer_16144430469714072\"),{backgroundColor:\"white\"});\n$3Dmol.download(\"pdb:1RGB\", viewer_16144430469714072, {}, function() {\nviewer_16144430469714072.zoomTo();\n\tviewer_16144430469714072.setStyle({\"sphere\": {\"color\": \"spectrum\"}});\nviewer_16144430469714072.render();\n})\n});\n</script>",
      "text/html": [
       "<div id=\"3dmolviewer_16144430469714072\"  style=\"position: relative; width: 640px; height: 480px\">\n",
       "        <p id=\"3dmolwarning_16144430469714072\" style=\"background-color:#ffcccc;color:black\">You appear to be running in JupyterLab (or JavaScript failed to load for some other reason).  You need to install the 3dmol extension: <br>\n",
       "        <tt>jupyter labextension install jupyterlab_3dmol</tt></p>\n",
       "        </div>\n",
       "<script>\n",
       "\n",
       "var loadScriptAsync = function(uri){\n",
       "  return new Promise((resolve, reject) => {\n",
       "    var tag = document.createElement('script');\n",
       "    tag.src = uri;\n",
       "    tag.async = true;\n",
       "    tag.onload = () => {\n",
       "      resolve();\n",
       "    };\n",
       "  var firstScriptTag = document.getElementsByTagName('script')[0];\n",
       "  firstScriptTag.parentNode.insertBefore(tag, firstScriptTag);\n",
       "});\n",
       "};\n",
       "\n",
       "if(typeof $3Dmolpromise === 'undefined') {\n",
       "$3Dmolpromise = null;\n",
       "  $3Dmolpromise = loadScriptAsync('https://3dmol.org/build/3Dmol.js');\n",
       "}\n",
       "\n",
       "var viewer_16144430469714072 = null;\n",
       "var warn = document.getElementById(\"3dmolwarning_16144430469714072\");\n",
       "if(warn) {\n",
       "    warn.parentNode.removeChild(warn);\n",
       "}\n",
       "$3Dmolpromise.then(function() {\n",
       "viewer_16144430469714072 = $3Dmol.createViewer($(\"#3dmolviewer_16144430469714072\"),{backgroundColor:\"white\"});\n",
       "$3Dmol.download(\"pdb:1RGB\", viewer_16144430469714072, {}, function() {\n",
       "viewer_16144430469714072.zoomTo();\n",
       "\tviewer_16144430469714072.setStyle({\"sphere\": {\"color\": \"spectrum\"}});\n",
       "viewer_16144430469714072.render();\n",
       "})\n",
       "});\n",
       "</script>"
      ]
     },
     "metadata": {},
     "output_type": "display_data"
    }
   ],
   "source": [
    "# Visualisation en sphere\n",
    "\n",
    "p_sphere = py3Dmol.view(query = 'pdb:1RGB')\n",
    "p_sphere.setStyle({'sphere': {'color':'spectrum'}})\n",
    "p_sphere.show()"
   ]
  },
  {
   "cell_type": "markdown",
   "metadata": {},
   "source": []
  },
  {
   "cell_type": "markdown",
   "metadata": {},
   "source": []
  },
  {
   "cell_type": "markdown",
   "metadata": {},
   "source": [
    "## 3) Carte de contact"
   ]
  },
  {
   "cell_type": "code",
   "execution_count": 118,
   "metadata": {},
   "outputs": [],
   "source": [
    "# import des packages\n",
    "\n",
    "import pandas as pd\n",
    "import numpy as np\n",
    "import math\n",
    "%matplotlib inline\n",
    "from matplotlib import pyplot as plt\n",
    "# from IPython.display import Image"
   ]
  },
  {
   "cell_type": "code",
   "execution_count": 119,
   "metadata": {},
   "outputs": [],
   "source": [
    "# Fonction pour récupérer les coordonnées des atomes d'un fichier .pdb\n",
    "\n",
    "def trajectoirePDB(pdb_file):\n",
    "    '''\n",
    "    Reads a trajectory PDB file and returns a dictionnary of pandas dataframes.\n",
    "\n",
    "        Parameters\n",
    "        ---------\n",
    "        pdb_file (string) : name of pdb file\n",
    "\n",
    "        Returns\n",
    "        -------\n",
    "        dictionnary of pandas dataframes with col index : position, x, y, z\n",
    "    '''\n",
    "    row = []\n",
    "    dico_coord = {}\n",
    "    with open(pdb_file, \"r\") as file_in:\n",
    "        flag = False\n",
    "        position = 0\n",
    "        chaine = str(1)\n",
    "        for line in file_in:\n",
    "            if line.startswith(\"TER\"):\n",
    "                dico_coord = pd.DataFrame(row, columns = [\"residue\", \"chaine\", \"position\", \"x\", \"y\", \"z\"])\n",
    "            if line.startswith(\"ATOM\") and line[12:16].strip() == \"CA\":            \n",
    "                if position != int(line[22:26].strip()) + 1 and flag == True:\n",
    "                    for i in range(position, int(line[22:26].strip()) -1):\n",
    "                        row.append((\"-\",str(line[21:22].strip()),i, 0, 0, 0))\n",
    "                try:\n",
    "                    flag = True\n",
    "                    residue = str(line[17:20].strip())\n",
    "                    chaine = str(line[21:22].strip())\n",
    "                    position = int(line[22:26].strip())\n",
    "                    x = float(line[30:38])\n",
    "                    y = float(line[38:46])\n",
    "                    z = float(line[46:54])\n",
    "                    row.append((residue,chaine,position, x, y, z))\n",
    "                except ValueError:\n",
    "                    sys.exit()\n",
    "    file_in.close()\n",
    "    return dico_coord"
   ]
  },
  {
   "cell_type": "code",
   "execution_count": 120,
   "metadata": {},
   "outputs": [],
   "source": [
    "# Fonction pour calculer les distances entre deux coordonnées\n",
    "\n",
    "def distance(coord1, coord2):\n",
    "    \"\"\"\n",
    "    Calculate the squared distance of the alpha carbons.\n",
    "    \n",
    "        Parameters\n",
    "        ----------\n",
    "        coord1, coord2 : atom coordinates\n",
    "        \n",
    "        Returns\n",
    "        -------\n",
    "        results rounding the number to three digits after the decimal point\n",
    "    \n",
    "    \"\"\"\n",
    "    dist = (coord1[0] - coord2[0])**2 + (coord1[1] - coord2[1])**2 + (coord1[2] - coord2[2])**2\n",
    "    return(round(math.sqrt(dist),3))\n",
    "\n",
    "\n",
    "# Fonction pour créer une matrice de distances\n",
    "\n",
    "def Creation_matrice(dico):\n",
    "    \"\"\"\n",
    "    Create of the distance matrix.\n",
    "    \n",
    "         Parameters\n",
    "         ----------\n",
    "         ....\n",
    "         \n",
    "         Returns\n",
    "         -------\n",
    "         ....\n",
    "    \"\"\"\n",
    "    A = np.eye(dico.shape[0],dico.shape[0]) # numpy.eye : renvoie un tableau 2-D avec des 1 comme diagonale et des 0 ailleurs.\n",
    "    for i in range(0, dico.shape[0]):\n",
    "        array_coors_CA1 = dico[[\"x\", \"y\", \"z\"]].to_numpy()[i]\n",
    "        for j in range(0,dico.shape[0]):\n",
    "            array_coors_CA2 = dico[[\"x\", \"y\", \"z\"]].to_numpy()[j]\n",
    "            if dico[\"residue\"][i] == \"-\" or dico[\"residue\"][j] == \"-\":\n",
    "                A[i,j] = -1\n",
    "            else:\n",
    "                A[i,j] = distance(list(array_coors_CA1), list(array_coors_CA2)) # fait appelle à fonction distance\n",
    "    return(A)"
   ]
  },
  {
   "cell_type": "code",
   "execution_count": 138,
   "metadata": {},
   "outputs": [
    {
     "data": {
      "image/png": "[encoded data removed]",
      "text/plain": [
       "<Figure size 576x576 with 1 Axes>"
      ]
     },
     "metadata": {
      "needs_background": "light"
     },
     "output_type": "display_data"
    }
   ],
   "source": [
    "contacts = trajectoirePDB(\"data/1rgb.pdb\")\n",
    "\n",
    "cutoff = 8.0 # On choisi un cutoff < 8 Angström\n",
    "matrice_distance = Creation_matrice(contacts) < cutoff\n",
    "\n",
    "plt.figure(figsize = (8, 8)) \n",
    "plt.imshow(matrice_distance, cmap = plt.get_cmap(\"Blues\")) # Plot a matrix or an array as an image.\n",
    "plt.title('Carte de contacts du fichier 1RGB.pdb', fontsize = 16, fontweight = \"bold\") \n",
    "plt.show()"
   ]
  },
  {
   "cell_type": "code",
   "execution_count": 139,
   "metadata": {},
   "outputs": [
    {
     "data": {
      "image/png": "[encoded data removed]",
      "text/plain": [
       "<Figure size 576x576 with 2 Axes>"
      ]
     },
     "metadata": {
      "needs_background": "light"
     },
     "output_type": "display_data"
    }
   ],
   "source": [
    "# pas de cutoff\n",
    "matrice_distance = Creation_matrice(contacts) \n",
    "\n",
    "plt.figure(figsize = (8, 8)) \n",
    "plt.imshow(matrice_distance, cmap = plt.get_cmap(\"hot\")) # Plot a matrix or an array as an image.\n",
    "plt.colorbar()\n",
    "plt.title('Carte de distances du fichier 1RGB.pdb', fontsize = 16, fontweight = \"bold\") \n",
    "plt.show()"
   ]
  },
  {
   "cell_type": "markdown",
   "metadata": {},
   "source": []
  },
  {
   "cell_type": "markdown",
   "metadata": {},
   "source": [
    "## 4) Comparer 2 séquences"
   ]
  },
  {
   "cell_type": "markdown",
   "metadata": {},
   "source": [
    "Nous allons prendre comme exemple ici deux fichiers issues de la Protein Data Bank : 1UST et 1USS qui sont respectivement des domaines globulaires I et II de l'histone H1 de la levure. "
   ]
  },
  {
   "cell_type": "code",
   "execution_count": 102,
   "metadata": {},
   "outputs": [],
   "source": [
    "# import des packages\n",
    "\n",
    "from Bio.PDB.PDBParser import PDBParser\n",
    "from Bio.PDB.Polypeptide import PPBuilder"
   ]
  },
  {
   "cell_type": "code",
   "execution_count": 103,
   "metadata": {},
   "outputs": [],
   "source": [
    "# Protein Sequence\n",
    "\n",
    "def seq_prot(structure):\n",
    "    \"\"\"\n",
    "    Reading a pdb file and extracting protein sequence.\n",
    "        Parameters\n",
    "        ----------\n",
    "        structure : PDBParser().get_structure(prot_id, prot_file)\n",
    "        \n",
    "        Returns\n",
    "        -------\n",
    "        sequence : protein sequence\n",
    "    \"\"\"\n",
    "    print(\"La séquence protéique du fichier {} est :\".format(prot_file))\n",
    "    sequence = []\n",
    "    ppb = PPBuilder() # Using C-N\n",
    "    for pp in ppb.build_peptides(structure[0][\"A\"]):\n",
    "        tmp = pp.get_sequence()\n",
    "        sequence.append(tmp)\n",
    "    sq = \"\"\n",
    "    for element in sequence:\n",
    "        sq = sq + element\n",
    "    return(sq) \n",
    "\n",
    "\n",
    "# sq=str(sq) # pr changer la classe en string si nécessaire !!!!!!!!!!!!!"
   ]
  },
  {
   "cell_type": "code",
   "execution_count": 104,
   "metadata": {},
   "outputs": [
    {
     "name": "stdout",
     "output_type": "stream",
     "text": [
      "La séquence protéique du fichier data/1UST.pdb est :\n",
      "KEEASSKSYRELIIEGLTALKERKGSSRPALKKFIKENYPIVGSASNFDLYFNNAIKKGVEAGDFEQPKGPAGAVKLAKKKSPEVKKEKEVS\n"
     ]
    }
   ],
   "source": [
    "# yeast histone H1 globular domain I\n",
    "\n",
    "prot_id, prot_file = \"1UST\", \"data/1UST.pdb\"\n",
    "struc1 = PDBParser().get_structure(prot_id, prot_file)\n",
    "\n",
    "seq1 = seq_prot(struc1)\n",
    "print(seq1)"
   ]
  },
  {
   "cell_type": "code",
   "execution_count": 105,
   "metadata": {
    "scrolled": true
   },
   "outputs": [
    {
     "name": "stdout",
     "output_type": "stream",
     "text": [
      "La séquence protéique du fichier data/1USS.pdb est :\n",
      "KASSPSSLTYKEMILKSMPQLNDGKGSSRIVLKKYVKDTFSSKLKTSSNFDYLFNSAIKKCVENGELVQPKGPSGIIKLNKKKVKLST\n"
     ]
    }
   ],
   "source": [
    "# yeast histone H1 globular domain II\n",
    "\n",
    "prot_id, prot_file = \"1USS\", \"data/1USS.pdb\"\n",
    "struc2 = PDBParser().get_structure(prot_id, prot_file)\n",
    "\n",
    "seq2 = seq_prot(struc2)\n",
    "print(seq2)"
   ]
  },
  {
   "cell_type": "markdown",
   "metadata": {},
   "source": [
    "### * Matrice de score Blosum62"
   ]
  },
  {
   "cell_type": "code",
   "execution_count": 97,
   "metadata": {},
   "outputs": [],
   "source": [
    "# import des packages\n",
    "\n",
    "from Bio import pairwise2\n",
    "from Bio.Align import substitution_matrices\n",
    "import pandas as pd"
   ]
  },
  {
   "cell_type": "code",
   "execution_count": 98,
   "metadata": {
    "scrolled": false
   },
   "outputs": [
    {
     "data": {
      "text/html": [
       "<div>\n",
       "<style scoped>\n",
       "    .dataframe tbody tr th:only-of-type {\n",
       "        vertical-align: middle;\n",
       "    }\n",
       "\n",
       "    .dataframe tbody tr th {\n",
       "        vertical-align: top;\n",
       "    }\n",
       "\n",
       "    .dataframe thead th {\n",
       "        text-align: right;\n",
       "    }\n",
       "</style>\n",
       "<table border=\"1\" class=\"dataframe\">\n",
       "  <thead>\n",
       "    <tr style=\"text-align: right;\">\n",
       "      <th></th>\n",
       "      <th>A</th>\n",
       "      <th>R</th>\n",
       "      <th>N</th>\n",
       "      <th>D</th>\n",
       "      <th>C</th>\n",
       "      <th>Q</th>\n",
       "      <th>E</th>\n",
       "      <th>G</th>\n",
       "      <th>H</th>\n",
       "      <th>I</th>\n",
       "      <th>...</th>\n",
       "      <th>P</th>\n",
       "      <th>S</th>\n",
       "      <th>T</th>\n",
       "      <th>W</th>\n",
       "      <th>Y</th>\n",
       "      <th>V</th>\n",
       "      <th>B</th>\n",
       "      <th>Z</th>\n",
       "      <th>X</th>\n",
       "      <th>*</th>\n",
       "    </tr>\n",
       "  </thead>\n",
       "  <tbody>\n",
       "    <tr>\n",
       "      <th>A</th>\n",
       "      <td>4.0</td>\n",
       "      <td>-1.0</td>\n",
       "      <td>-2.0</td>\n",
       "      <td>-2.0</td>\n",
       "      <td>0.0</td>\n",
       "      <td>-1.0</td>\n",
       "      <td>-1.0</td>\n",
       "      <td>0.0</td>\n",
       "      <td>-2.0</td>\n",
       "      <td>-1.0</td>\n",
       "      <td>...</td>\n",
       "      <td>-1.0</td>\n",
       "      <td>1.0</td>\n",
       "      <td>0.0</td>\n",
       "      <td>-3.0</td>\n",
       "      <td>-2.0</td>\n",
       "      <td>0.0</td>\n",
       "      <td>-2.0</td>\n",
       "      <td>-1.0</td>\n",
       "      <td>0.0</td>\n",
       "      <td>-4.0</td>\n",
       "    </tr>\n",
       "    <tr>\n",
       "      <th>R</th>\n",
       "      <td>-1.0</td>\n",
       "      <td>5.0</td>\n",
       "      <td>0.0</td>\n",
       "      <td>-2.0</td>\n",
       "      <td>-3.0</td>\n",
       "      <td>1.0</td>\n",
       "      <td>0.0</td>\n",
       "      <td>-2.0</td>\n",
       "      <td>0.0</td>\n",
       "      <td>-3.0</td>\n",
       "      <td>...</td>\n",
       "      <td>-2.0</td>\n",
       "      <td>-1.0</td>\n",
       "      <td>-1.0</td>\n",
       "      <td>-3.0</td>\n",
       "      <td>-2.0</td>\n",
       "      <td>-3.0</td>\n",
       "      <td>-1.0</td>\n",
       "      <td>0.0</td>\n",
       "      <td>-1.0</td>\n",
       "      <td>-4.0</td>\n",
       "    </tr>\n",
       "    <tr>\n",
       "      <th>N</th>\n",
       "      <td>-2.0</td>\n",
       "      <td>0.0</td>\n",
       "      <td>6.0</td>\n",
       "      <td>1.0</td>\n",
       "      <td>-3.0</td>\n",
       "      <td>0.0</td>\n",
       "      <td>0.0</td>\n",
       "      <td>0.0</td>\n",
       "      <td>1.0</td>\n",
       "      <td>-3.0</td>\n",
       "      <td>...</td>\n",
       "      <td>-2.0</td>\n",
       "      <td>1.0</td>\n",
       "      <td>0.0</td>\n",
       "      <td>-4.0</td>\n",
       "      <td>-2.0</td>\n",
       "      <td>-3.0</td>\n",
       "      <td>3.0</td>\n",
       "      <td>0.0</td>\n",
       "      <td>-1.0</td>\n",
       "      <td>-4.0</td>\n",
       "    </tr>\n",
       "    <tr>\n",
       "      <th>D</th>\n",
       "      <td>-2.0</td>\n",
       "      <td>-2.0</td>\n",
       "      <td>1.0</td>\n",
       "      <td>6.0</td>\n",
       "      <td>-3.0</td>\n",
       "      <td>0.0</td>\n",
       "      <td>2.0</td>\n",
       "      <td>-1.0</td>\n",
       "      <td>-1.0</td>\n",
       "      <td>-3.0</td>\n",
       "      <td>...</td>\n",
       "      <td>-1.0</td>\n",
       "      <td>0.0</td>\n",
       "      <td>-1.0</td>\n",
       "      <td>-4.0</td>\n",
       "      <td>-3.0</td>\n",
       "      <td>-3.0</td>\n",
       "      <td>4.0</td>\n",
       "      <td>1.0</td>\n",
       "      <td>-1.0</td>\n",
       "      <td>-4.0</td>\n",
       "    </tr>\n",
       "    <tr>\n",
       "      <th>C</th>\n",
       "      <td>0.0</td>\n",
       "      <td>-3.0</td>\n",
       "      <td>-3.0</td>\n",
       "      <td>-3.0</td>\n",
       "      <td>9.0</td>\n",
       "      <td>-3.0</td>\n",
       "      <td>-4.0</td>\n",
       "      <td>-3.0</td>\n",
       "      <td>-3.0</td>\n",
       "      <td>-1.0</td>\n",
       "      <td>...</td>\n",
       "      <td>-3.0</td>\n",
       "      <td>-1.0</td>\n",
       "      <td>-1.0</td>\n",
       "      <td>-2.0</td>\n",
       "      <td>-2.0</td>\n",
       "      <td>-1.0</td>\n",
       "      <td>-3.0</td>\n",
       "      <td>-3.0</td>\n",
       "      <td>-2.0</td>\n",
       "      <td>-4.0</td>\n",
       "    </tr>\n",
       "    <tr>\n",
       "      <th>Q</th>\n",
       "      <td>-1.0</td>\n",
       "      <td>1.0</td>\n",
       "      <td>0.0</td>\n",
       "      <td>0.0</td>\n",
       "      <td>-3.0</td>\n",
       "      <td>5.0</td>\n",
       "      <td>2.0</td>\n",
       "      <td>-2.0</td>\n",
       "      <td>0.0</td>\n",
       "      <td>-3.0</td>\n",
       "      <td>...</td>\n",
       "      <td>-1.0</td>\n",
       "      <td>0.0</td>\n",
       "      <td>-1.0</td>\n",
       "      <td>-2.0</td>\n",
       "      <td>-1.0</td>\n",
       "      <td>-2.0</td>\n",
       "      <td>0.0</td>\n",
       "      <td>3.0</td>\n",
       "      <td>-1.0</td>\n",
       "      <td>-4.0</td>\n",
       "    </tr>\n",
       "    <tr>\n",
       "      <th>E</th>\n",
       "      <td>-1.0</td>\n",
       "      <td>0.0</td>\n",
       "      <td>0.0</td>\n",
       "      <td>2.0</td>\n",
       "      <td>-4.0</td>\n",
       "      <td>2.0</td>\n",
       "      <td>5.0</td>\n",
       "      <td>-2.0</td>\n",
       "      <td>0.0</td>\n",
       "      <td>-3.0</td>\n",
       "      <td>...</td>\n",
       "      <td>-1.0</td>\n",
       "      <td>0.0</td>\n",
       "      <td>-1.0</td>\n",
       "      <td>-3.0</td>\n",
       "      <td>-2.0</td>\n",
       "      <td>-2.0</td>\n",
       "      <td>1.0</td>\n",
       "      <td>4.0</td>\n",
       "      <td>-1.0</td>\n",
       "      <td>-4.0</td>\n",
       "    </tr>\n",
       "    <tr>\n",
       "      <th>G</th>\n",
       "      <td>0.0</td>\n",
       "      <td>-2.0</td>\n",
       "      <td>0.0</td>\n",
       "      <td>-1.0</td>\n",
       "      <td>-3.0</td>\n",
       "      <td>-2.0</td>\n",
       "      <td>-2.0</td>\n",
       "      <td>6.0</td>\n",
       "      <td>-2.0</td>\n",
       "      <td>-4.0</td>\n",
       "      <td>...</td>\n",
       "      <td>-2.0</td>\n",
       "      <td>0.0</td>\n",
       "      <td>-2.0</td>\n",
       "      <td>-2.0</td>\n",
       "      <td>-3.0</td>\n",
       "      <td>-3.0</td>\n",
       "      <td>-1.0</td>\n",
       "      <td>-2.0</td>\n",
       "      <td>-1.0</td>\n",
       "      <td>-4.0</td>\n",
       "    </tr>\n",
       "    <tr>\n",
       "      <th>H</th>\n",
       "      <td>-2.0</td>\n",
       "      <td>0.0</td>\n",
       "      <td>1.0</td>\n",
       "      <td>-1.0</td>\n",
       "      <td>-3.0</td>\n",
       "      <td>0.0</td>\n",
       "      <td>0.0</td>\n",
       "      <td>-2.0</td>\n",
       "      <td>8.0</td>\n",
       "      <td>-3.0</td>\n",
       "      <td>...</td>\n",
       "      <td>-2.0</td>\n",
       "      <td>-1.0</td>\n",
       "      <td>-2.0</td>\n",
       "      <td>-2.0</td>\n",
       "      <td>2.0</td>\n",
       "      <td>-3.0</td>\n",
       "      <td>0.0</td>\n",
       "      <td>0.0</td>\n",
       "      <td>-1.0</td>\n",
       "      <td>-4.0</td>\n",
       "    </tr>\n",
       "    <tr>\n",
       "      <th>I</th>\n",
       "      <td>-1.0</td>\n",
       "      <td>-3.0</td>\n",
       "      <td>-3.0</td>\n",
       "      <td>-3.0</td>\n",
       "      <td>-1.0</td>\n",
       "      <td>-3.0</td>\n",
       "      <td>-3.0</td>\n",
       "      <td>-4.0</td>\n",
       "      <td>-3.0</td>\n",
       "      <td>4.0</td>\n",
       "      <td>...</td>\n",
       "      <td>-3.0</td>\n",
       "      <td>-2.0</td>\n",
       "      <td>-1.0</td>\n",
       "      <td>-3.0</td>\n",
       "      <td>-1.0</td>\n",
       "      <td>3.0</td>\n",
       "      <td>-3.0</td>\n",
       "      <td>-3.0</td>\n",
       "      <td>-1.0</td>\n",
       "      <td>-4.0</td>\n",
       "    </tr>\n",
       "    <tr>\n",
       "      <th>L</th>\n",
       "      <td>-1.0</td>\n",
       "      <td>-2.0</td>\n",
       "      <td>-3.0</td>\n",
       "      <td>-4.0</td>\n",
       "      <td>-1.0</td>\n",
       "      <td>-2.0</td>\n",
       "      <td>-3.0</td>\n",
       "      <td>-4.0</td>\n",
       "      <td>-3.0</td>\n",
       "      <td>2.0</td>\n",
       "      <td>...</td>\n",
       "      <td>-3.0</td>\n",
       "      <td>-2.0</td>\n",
       "      <td>-1.0</td>\n",
       "      <td>-2.0</td>\n",
       "      <td>-1.0</td>\n",
       "      <td>1.0</td>\n",
       "      <td>-4.0</td>\n",
       "      <td>-3.0</td>\n",
       "      <td>-1.0</td>\n",
       "      <td>-4.0</td>\n",
       "    </tr>\n",
       "    <tr>\n",
       "      <th>K</th>\n",
       "      <td>-1.0</td>\n",
       "      <td>2.0</td>\n",
       "      <td>0.0</td>\n",
       "      <td>-1.0</td>\n",
       "      <td>-3.0</td>\n",
       "      <td>1.0</td>\n",
       "      <td>1.0</td>\n",
       "      <td>-2.0</td>\n",
       "      <td>-1.0</td>\n",
       "      <td>-3.0</td>\n",
       "      <td>...</td>\n",
       "      <td>-1.0</td>\n",
       "      <td>0.0</td>\n",
       "      <td>-1.0</td>\n",
       "      <td>-3.0</td>\n",
       "      <td>-2.0</td>\n",
       "      <td>-2.0</td>\n",
       "      <td>0.0</td>\n",
       "      <td>1.0</td>\n",
       "      <td>-1.0</td>\n",
       "      <td>-4.0</td>\n",
       "    </tr>\n",
       "    <tr>\n",
       "      <th>M</th>\n",
       "      <td>-1.0</td>\n",
       "      <td>-1.0</td>\n",
       "      <td>-2.0</td>\n",
       "      <td>-3.0</td>\n",
       "      <td>-1.0</td>\n",
       "      <td>0.0</td>\n",
       "      <td>-2.0</td>\n",
       "      <td>-3.0</td>\n",
       "      <td>-2.0</td>\n",
       "      <td>1.0</td>\n",
       "      <td>...</td>\n",
       "      <td>-2.0</td>\n",
       "      <td>-1.0</td>\n",
       "      <td>-1.0</td>\n",
       "      <td>-1.0</td>\n",
       "      <td>-1.0</td>\n",
       "      <td>1.0</td>\n",
       "      <td>-3.0</td>\n",
       "      <td>-1.0</td>\n",
       "      <td>-1.0</td>\n",
       "      <td>-4.0</td>\n",
       "    </tr>\n",
       "    <tr>\n",
       "      <th>F</th>\n",
       "      <td>-2.0</td>\n",
       "      <td>-3.0</td>\n",
       "      <td>-3.0</td>\n",
       "      <td>-3.0</td>\n",
       "      <td>-2.0</td>\n",
       "      <td>-3.0</td>\n",
       "      <td>-3.0</td>\n",
       "      <td>-3.0</td>\n",
       "      <td>-1.0</td>\n",
       "      <td>0.0</td>\n",
       "      <td>...</td>\n",
       "      <td>-4.0</td>\n",
       "      <td>-2.0</td>\n",
       "      <td>-2.0</td>\n",
       "      <td>1.0</td>\n",
       "      <td>3.0</td>\n",
       "      <td>-1.0</td>\n",
       "      <td>-3.0</td>\n",
       "      <td>-3.0</td>\n",
       "      <td>-1.0</td>\n",
       "      <td>-4.0</td>\n",
       "    </tr>\n",
       "    <tr>\n",
       "      <th>P</th>\n",
       "      <td>-1.0</td>\n",
       "      <td>-2.0</td>\n",
       "      <td>-2.0</td>\n",
       "      <td>-1.0</td>\n",
       "      <td>-3.0</td>\n",
       "      <td>-1.0</td>\n",
       "      <td>-1.0</td>\n",
       "      <td>-2.0</td>\n",
       "      <td>-2.0</td>\n",
       "      <td>-3.0</td>\n",
       "      <td>...</td>\n",
       "      <td>7.0</td>\n",
       "      <td>-1.0</td>\n",
       "      <td>-1.0</td>\n",
       "      <td>-4.0</td>\n",
       "      <td>-3.0</td>\n",
       "      <td>-2.0</td>\n",
       "      <td>-2.0</td>\n",
       "      <td>-1.0</td>\n",
       "      <td>-2.0</td>\n",
       "      <td>-4.0</td>\n",
       "    </tr>\n",
       "    <tr>\n",
       "      <th>S</th>\n",
       "      <td>1.0</td>\n",
       "      <td>-1.0</td>\n",
       "      <td>1.0</td>\n",
       "      <td>0.0</td>\n",
       "      <td>-1.0</td>\n",
       "      <td>0.0</td>\n",
       "      <td>0.0</td>\n",
       "      <td>0.0</td>\n",
       "      <td>-1.0</td>\n",
       "      <td>-2.0</td>\n",
       "      <td>...</td>\n",
       "      <td>-1.0</td>\n",
       "      <td>4.0</td>\n",
       "      <td>1.0</td>\n",
       "      <td>-3.0</td>\n",
       "      <td>-2.0</td>\n",
       "      <td>-2.0</td>\n",
       "      <td>0.0</td>\n",
       "      <td>0.0</td>\n",
       "      <td>0.0</td>\n",
       "      <td>-4.0</td>\n",
       "    </tr>\n",
       "    <tr>\n",
       "      <th>T</th>\n",
       "      <td>0.0</td>\n",
       "      <td>-1.0</td>\n",
       "      <td>0.0</td>\n",
       "      <td>-1.0</td>\n",
       "      <td>-1.0</td>\n",
       "      <td>-1.0</td>\n",
       "      <td>-1.0</td>\n",
       "      <td>-2.0</td>\n",
       "      <td>-2.0</td>\n",
       "      <td>-1.0</td>\n",
       "      <td>...</td>\n",
       "      <td>-1.0</td>\n",
       "      <td>1.0</td>\n",
       "      <td>5.0</td>\n",
       "      <td>-2.0</td>\n",
       "      <td>-2.0</td>\n",
       "      <td>0.0</td>\n",
       "      <td>-1.0</td>\n",
       "      <td>-1.0</td>\n",
       "      <td>0.0</td>\n",
       "      <td>-4.0</td>\n",
       "    </tr>\n",
       "    <tr>\n",
       "      <th>W</th>\n",
       "      <td>-3.0</td>\n",
       "      <td>-3.0</td>\n",
       "      <td>-4.0</td>\n",
       "      <td>-4.0</td>\n",
       "      <td>-2.0</td>\n",
       "      <td>-2.0</td>\n",
       "      <td>-3.0</td>\n",
       "      <td>-2.0</td>\n",
       "      <td>-2.0</td>\n",
       "      <td>-3.0</td>\n",
       "      <td>...</td>\n",
       "      <td>-4.0</td>\n",
       "      <td>-3.0</td>\n",
       "      <td>-2.0</td>\n",
       "      <td>11.0</td>\n",
       "      <td>2.0</td>\n",
       "      <td>-3.0</td>\n",
       "      <td>-4.0</td>\n",
       "      <td>-3.0</td>\n",
       "      <td>-2.0</td>\n",
       "      <td>-4.0</td>\n",
       "    </tr>\n",
       "    <tr>\n",
       "      <th>Y</th>\n",
       "      <td>-2.0</td>\n",
       "      <td>-2.0</td>\n",
       "      <td>-2.0</td>\n",
       "      <td>-3.0</td>\n",
       "      <td>-2.0</td>\n",
       "      <td>-1.0</td>\n",
       "      <td>-2.0</td>\n",
       "      <td>-3.0</td>\n",
       "      <td>2.0</td>\n",
       "      <td>-1.0</td>\n",
       "      <td>...</td>\n",
       "      <td>-3.0</td>\n",
       "      <td>-2.0</td>\n",
       "      <td>-2.0</td>\n",
       "      <td>2.0</td>\n",
       "      <td>7.0</td>\n",
       "      <td>-1.0</td>\n",
       "      <td>-3.0</td>\n",
       "      <td>-2.0</td>\n",
       "      <td>-1.0</td>\n",
       "      <td>-4.0</td>\n",
       "    </tr>\n",
       "    <tr>\n",
       "      <th>V</th>\n",
       "      <td>0.0</td>\n",
       "      <td>-3.0</td>\n",
       "      <td>-3.0</td>\n",
       "      <td>-3.0</td>\n",
       "      <td>-1.0</td>\n",
       "      <td>-2.0</td>\n",
       "      <td>-2.0</td>\n",
       "      <td>-3.0</td>\n",
       "      <td>-3.0</td>\n",
       "      <td>3.0</td>\n",
       "      <td>...</td>\n",
       "      <td>-2.0</td>\n",
       "      <td>-2.0</td>\n",
       "      <td>0.0</td>\n",
       "      <td>-3.0</td>\n",
       "      <td>-1.0</td>\n",
       "      <td>4.0</td>\n",
       "      <td>-3.0</td>\n",
       "      <td>-2.0</td>\n",
       "      <td>-1.0</td>\n",
       "      <td>-4.0</td>\n",
       "    </tr>\n",
       "    <tr>\n",
       "      <th>B</th>\n",
       "      <td>-2.0</td>\n",
       "      <td>-1.0</td>\n",
       "      <td>3.0</td>\n",
       "      <td>4.0</td>\n",
       "      <td>-3.0</td>\n",
       "      <td>0.0</td>\n",
       "      <td>1.0</td>\n",
       "      <td>-1.0</td>\n",
       "      <td>0.0</td>\n",
       "      <td>-3.0</td>\n",
       "      <td>...</td>\n",
       "      <td>-2.0</td>\n",
       "      <td>0.0</td>\n",
       "      <td>-1.0</td>\n",
       "      <td>-4.0</td>\n",
       "      <td>-3.0</td>\n",
       "      <td>-3.0</td>\n",
       "      <td>4.0</td>\n",
       "      <td>1.0</td>\n",
       "      <td>-1.0</td>\n",
       "      <td>-4.0</td>\n",
       "    </tr>\n",
       "    <tr>\n",
       "      <th>Z</th>\n",
       "      <td>-1.0</td>\n",
       "      <td>0.0</td>\n",
       "      <td>0.0</td>\n",
       "      <td>1.0</td>\n",
       "      <td>-3.0</td>\n",
       "      <td>3.0</td>\n",
       "      <td>4.0</td>\n",
       "      <td>-2.0</td>\n",
       "      <td>0.0</td>\n",
       "      <td>-3.0</td>\n",
       "      <td>...</td>\n",
       "      <td>-1.0</td>\n",
       "      <td>0.0</td>\n",
       "      <td>-1.0</td>\n",
       "      <td>-3.0</td>\n",
       "      <td>-2.0</td>\n",
       "      <td>-2.0</td>\n",
       "      <td>1.0</td>\n",
       "      <td>4.0</td>\n",
       "      <td>-1.0</td>\n",
       "      <td>-4.0</td>\n",
       "    </tr>\n",
       "    <tr>\n",
       "      <th>X</th>\n",
       "      <td>0.0</td>\n",
       "      <td>-1.0</td>\n",
       "      <td>-1.0</td>\n",
       "      <td>-1.0</td>\n",
       "      <td>-2.0</td>\n",
       "      <td>-1.0</td>\n",
       "      <td>-1.0</td>\n",
       "      <td>-1.0</td>\n",
       "      <td>-1.0</td>\n",
       "      <td>-1.0</td>\n",
       "      <td>...</td>\n",
       "      <td>-2.0</td>\n",
       "      <td>0.0</td>\n",
       "      <td>0.0</td>\n",
       "      <td>-2.0</td>\n",
       "      <td>-1.0</td>\n",
       "      <td>-1.0</td>\n",
       "      <td>-1.0</td>\n",
       "      <td>-1.0</td>\n",
       "      <td>-1.0</td>\n",
       "      <td>-4.0</td>\n",
       "    </tr>\n",
       "    <tr>\n",
       "      <th>*</th>\n",
       "      <td>-4.0</td>\n",
       "      <td>-4.0</td>\n",
       "      <td>-4.0</td>\n",
       "      <td>-4.0</td>\n",
       "      <td>-4.0</td>\n",
       "      <td>-4.0</td>\n",
       "      <td>-4.0</td>\n",
       "      <td>-4.0</td>\n",
       "      <td>-4.0</td>\n",
       "      <td>-4.0</td>\n",
       "      <td>...</td>\n",
       "      <td>-4.0</td>\n",
       "      <td>-4.0</td>\n",
       "      <td>-4.0</td>\n",
       "      <td>-4.0</td>\n",
       "      <td>-4.0</td>\n",
       "      <td>-4.0</td>\n",
       "      <td>-4.0</td>\n",
       "      <td>-4.0</td>\n",
       "      <td>-4.0</td>\n",
       "      <td>1.0</td>\n",
       "    </tr>\n",
       "  </tbody>\n",
       "</table>\n",
       "<p>24 rows × 24 columns</p>\n",
       "</div>"
      ],
      "text/plain": [
       "     A    R    N    D    C    Q    E    G    H    I  ...    P    S    T     W  \\\n",
       "A  4.0 -1.0 -2.0 -2.0  0.0 -1.0 -1.0  0.0 -2.0 -1.0  ... -1.0  1.0  0.0  -3.0   \n",
       "R -1.0  5.0  0.0 -2.0 -3.0  1.0  0.0 -2.0  0.0 -3.0  ... -2.0 -1.0 -1.0  -3.0   \n",
       "N -2.0  0.0  6.0  1.0 -3.0  0.0  0.0  0.0  1.0 -3.0  ... -2.0  1.0  0.0  -4.0   \n",
       "D -2.0 -2.0  1.0  6.0 -3.0  0.0  2.0 -1.0 -1.0 -3.0  ... -1.0  0.0 -1.0  -4.0   \n",
       "C  0.0 -3.0 -3.0 -3.0  9.0 -3.0 -4.0 -3.0 -3.0 -1.0  ... -3.0 -1.0 -1.0  -2.0   \n",
       "Q -1.0  1.0  0.0  0.0 -3.0  5.0  2.0 -2.0  0.0 -3.0  ... -1.0  0.0 -1.0  -2.0   \n",
       "E -1.0  0.0  0.0  2.0 -4.0  2.0  5.0 -2.0  0.0 -3.0  ... -1.0  0.0 -1.0  -3.0   \n",
       "G  0.0 -2.0  0.0 -1.0 -3.0 -2.0 -2.0  6.0 -2.0 -4.0  ... -2.0  0.0 -2.0  -2.0   \n",
       "H -2.0  0.0  1.0 -1.0 -3.0  0.0  0.0 -2.0  8.0 -3.0  ... -2.0 -1.0 -2.0  -2.0   \n",
       "I -1.0 -3.0 -3.0 -3.0 -1.0 -3.0 -3.0 -4.0 -3.0  4.0  ... -3.0 -2.0 -1.0  -3.0   \n",
       "L -1.0 -2.0 -3.0 -4.0 -1.0 -2.0 -3.0 -4.0 -3.0  2.0  ... -3.0 -2.0 -1.0  -2.0   \n",
       "K -1.0  2.0  0.0 -1.0 -3.0  1.0  1.0 -2.0 -1.0 -3.0  ... -1.0  0.0 -1.0  -3.0   \n",
       "M -1.0 -1.0 -2.0 -3.0 -1.0  0.0 -2.0 -3.0 -2.0  1.0  ... -2.0 -1.0 -1.0  -1.0   \n",
       "F -2.0 -3.0 -3.0 -3.0 -2.0 -3.0 -3.0 -3.0 -1.0  0.0  ... -4.0 -2.0 -2.0   1.0   \n",
       "P -1.0 -2.0 -2.0 -1.0 -3.0 -1.0 -1.0 -2.0 -2.0 -3.0  ...  7.0 -1.0 -1.0  -4.0   \n",
       "S  1.0 -1.0  1.0  0.0 -1.0  0.0  0.0  0.0 -1.0 -2.0  ... -1.0  4.0  1.0  -3.0   \n",
       "T  0.0 -1.0  0.0 -1.0 -1.0 -1.0 -1.0 -2.0 -2.0 -1.0  ... -1.0  1.0  5.0  -2.0   \n",
       "W -3.0 -3.0 -4.0 -4.0 -2.0 -2.0 -3.0 -2.0 -2.0 -3.0  ... -4.0 -3.0 -2.0  11.0   \n",
       "Y -2.0 -2.0 -2.0 -3.0 -2.0 -1.0 -2.0 -3.0  2.0 -1.0  ... -3.0 -2.0 -2.0   2.0   \n",
       "V  0.0 -3.0 -3.0 -3.0 -1.0 -2.0 -2.0 -3.0 -3.0  3.0  ... -2.0 -2.0  0.0  -3.0   \n",
       "B -2.0 -1.0  3.0  4.0 -3.0  0.0  1.0 -1.0  0.0 -3.0  ... -2.0  0.0 -1.0  -4.0   \n",
       "Z -1.0  0.0  0.0  1.0 -3.0  3.0  4.0 -2.0  0.0 -3.0  ... -1.0  0.0 -1.0  -3.0   \n",
       "X  0.0 -1.0 -1.0 -1.0 -2.0 -1.0 -1.0 -1.0 -1.0 -1.0  ... -2.0  0.0  0.0  -2.0   \n",
       "* -4.0 -4.0 -4.0 -4.0 -4.0 -4.0 -4.0 -4.0 -4.0 -4.0  ... -4.0 -4.0 -4.0  -4.0   \n",
       "\n",
       "     Y    V    B    Z    X    *  \n",
       "A -2.0  0.0 -2.0 -1.0  0.0 -4.0  \n",
       "R -2.0 -3.0 -1.0  0.0 -1.0 -4.0  \n",
       "N -2.0 -3.0  3.0  0.0 -1.0 -4.0  \n",
       "D -3.0 -3.0  4.0  1.0 -1.0 -4.0  \n",
       "C -2.0 -1.0 -3.0 -3.0 -2.0 -4.0  \n",
       "Q -1.0 -2.0  0.0  3.0 -1.0 -4.0  \n",
       "E -2.0 -2.0  1.0  4.0 -1.0 -4.0  \n",
       "G -3.0 -3.0 -1.0 -2.0 -1.0 -4.0  \n",
       "H  2.0 -3.0  0.0  0.0 -1.0 -4.0  \n",
       "I -1.0  3.0 -3.0 -3.0 -1.0 -4.0  \n",
       "L -1.0  1.0 -4.0 -3.0 -1.0 -4.0  \n",
       "K -2.0 -2.0  0.0  1.0 -1.0 -4.0  \n",
       "M -1.0  1.0 -3.0 -1.0 -1.0 -4.0  \n",
       "F  3.0 -1.0 -3.0 -3.0 -1.0 -4.0  \n",
       "P -3.0 -2.0 -2.0 -1.0 -2.0 -4.0  \n",
       "S -2.0 -2.0  0.0  0.0  0.0 -4.0  \n",
       "T -2.0  0.0 -1.0 -1.0  0.0 -4.0  \n",
       "W  2.0 -3.0 -4.0 -3.0 -2.0 -4.0  \n",
       "Y  7.0 -1.0 -3.0 -2.0 -1.0 -4.0  \n",
       "V -1.0  4.0 -3.0 -2.0 -1.0 -4.0  \n",
       "B -3.0 -3.0  4.0  1.0 -1.0 -4.0  \n",
       "Z -2.0 -2.0  1.0  4.0 -1.0 -4.0  \n",
       "X -1.0 -1.0 -1.0 -1.0 -1.0 -4.0  \n",
       "* -4.0 -4.0 -4.0 -4.0 -4.0  1.0  \n",
       "\n",
       "[24 rows x 24 columns]"
      ]
     },
     "execution_count": 98,
     "metadata": {},
     "output_type": "execute_result"
    }
   ],
   "source": [
    "blosum62 = substitution_matrices.load(\"BLOSUM62\")\n",
    "\n",
    "matrice_blosum = blosum62\n",
    "header = ['A','R','N','D','C','Q','E','G','H','I','L','K','M','F','P','S','T','W','Y','V','B','Z','X','*']\n",
    "scoremodel = pd.DataFrame(columns = header, index = header, data = matrice_blosum)\n",
    "scoremodel\n",
    "# Une matrice de substitution est une fonction du score de substitution (ou du coût) d'un symbole à l'autre. "
   ]
  },
  {
   "cell_type": "code",
   "execution_count": 106,
   "metadata": {},
   "outputs": [],
   "source": [
    "# Fonction pour couper les lignes en 60 acides aminés\n",
    "\n",
    "def align_format(text, width = 60):\n",
    "    \"\"\"\n",
    "    Limits the display to 60 characters per line (default).\n",
    "    \n",
    "        Parameters\n",
    "        ---------\n",
    "        text (string): text to be formatted\n",
    "        width (int): maximum number of characters to be written per line\n",
    "        \n",
    "        Returns\n",
    "        -------\n",
    "        The sequence with the desired width per line.\n",
    "    \"\"\"\n",
    "    seq = [text[i:i+width] for i in range(0, len(text), width)]\n",
    "    return \"\\n\".join(seq)"
   ]
  },
  {
   "cell_type": "markdown",
   "metadata": {},
   "source": [
    "### * Alignement global"
   ]
  },
  {
   "cell_type": "code",
   "execution_count": 114,
   "metadata": {},
   "outputs": [],
   "source": [
    "alignments_global = pairwise2.align.globalds(seq1, seq2, blosum62, open = -10, extend = -1) "
   ]
  },
  {
   "cell_type": "code",
   "execution_count": 115,
   "metadata": {
    "scrolled": true
   },
   "outputs": [
    {
     "name": "stdout",
     "output_type": "stream",
     "text": [
      "KEEA-SSKSYRELIIEGLTALKERKGSSRPALKKFIKENYPI-VGSASNFDLYFNNAIKK\n",
      "GVEAGDFEQPKGPAGAVKLAKKKSPEVKKEKEVS\n",
      "|... ||..|.|.|......|...|\n",
      "||||..|||..|..... ....||||..||.||||.||.|...|||||.|..||.|    \n",
      "  ||.|...\n",
      "KASSPSSLTYKEMILKSMPQLNDGKGSSRIVLKKYVKDTFSSKLKTSSNF\n",
      "DYLFNSAIKKCVENGELVQPKGPSGIIKLNK------KKVKLST\n",
      "  Score=174\n",
      "\n"
     ]
    }
   ],
   "source": [
    "print(align_format(pairwise2.format_alignment(*alignments_global[0])))"
   ]
  },
  {
   "cell_type": "markdown",
   "metadata": {},
   "source": [
    "### * Alignement local"
   ]
  },
  {
   "cell_type": "code",
   "execution_count": 116,
   "metadata": {},
   "outputs": [],
   "source": [
    "alignments_local = pairwise2.align.localds(seq1, seq2, blosum62, open = -10, extend = -1)"
   ]
  },
  {
   "cell_type": "code",
   "execution_count": 117,
   "metadata": {},
   "outputs": [
    {
     "name": "stdout",
     "output_type": "stream",
     "text": [
      "5 SSKSYRELIIEGLTALKERKGSSRPALKKFIKENYPI-VGSASNFDLYFNNAIKKGVE\n",
      "AGDFEQPKGPAGAVKLAKKK\n",
      "  ||..|.|.|......|...|||||..|||..|.....\n",
      " ....||||..||.||||.||.|...|||||.|..||.|||\n",
      "6 SSLTYKEMILKSMPQL\n",
      "NDGKGSSRIVLKKYVKDTFSSKLKTSSNFDYLFNSAIKKCVENGELVQPKGPSGIIKLNK\n",
      "KK\n",
      "  Score=195\n",
      "\n"
     ]
    }
   ],
   "source": [
    "print(align_format(pairwise2.format_alignment(*alignments_local[0])))"
   ]
  },
  {
   "cell_type": "markdown",
   "metadata": {},
   "source": []
  },
  {
   "cell_type": "markdown",
   "metadata": {},
   "source": []
  },
  {
   "cell_type": "code",
   "execution_count": null,
   "metadata": {},
   "outputs": [],
   "source": []
  },
  {
   "cell_type": "code",
   "execution_count": null,
   "metadata": {},
   "outputs": [],
   "source": []
  },
  {
   "cell_type": "code",
   "execution_count": null,
   "metadata": {},
   "outputs": [],
   "source": []
  },
  {
   "cell_type": "code",
   "execution_count": null,
   "metadata": {},
   "outputs": [],
   "source": []
  },
  {
   "cell_type": "code",
   "execution_count": 21,
   "metadata": {},
   "outputs": [],
   "source": [
    "#from Bio.PDB import parse_pdb_header\n",
    "#with open(\"4YC6.pdb\", \"r\") as handle:\n",
    "#    header_dict = parse_pdb_header(handle)"
   ]
  },
  {
   "cell_type": "code",
   "execution_count": 27,
   "metadata": {},
   "outputs": [
    {
     "data": {
      "text/plain": [
       "3.736096"
      ]
     },
     "execution_count": 27,
     "metadata": {},
     "output_type": "execute_result"
    }
   ],
   "source": [
    "import numpy\n",
    "# Create a list of all the residues\n",
    "residues = []\n",
    "for model in structure.get_list():\n",
    "    for chain in model.get_list():\n",
    "        for residue in chain.get_list():\n",
    "            residues.append(residue)\n",
    "# Calculate the distance between the alpha carbons for a pair of residues\n",
    "firstResidue = residues[0]\n",
    "secondResidue = residues[1]\n",
    "diff = firstResidue[\"CA\"].get_coord() - secondResidue[\"CA\"].get_coord()\n",
    "distance = numpy.sqrt(numpy.sum(diff * diff))\n",
    "distance # rmsd ?"
   ]
  },
  {
   "cell_type": "code",
   "execution_count": 28,
   "metadata": {
    "scrolled": false
   },
   "outputs": [],
   "source": [
    "#from IPython.display import Image\n",
    "#Image(filename='essai.png')"
   ]
  },
  {
   "cell_type": "code",
   "execution_count": null,
   "metadata": {},
   "outputs": [],
   "source": []
  },
  {
   "cell_type": "markdown",
   "metadata": {},
   "source": []
  },
  {
   "cell_type": "code",
   "execution_count": 136,
   "metadata": {},
   "outputs": [
    {
     "name": "stdout",
     "output_type": "stream",
     "text": [
      "Le temps d'exécution du programme Python est de  0:00:03.998395\n"
     ]
    }
   ],
   "source": [
    "########### ~~~~~~~~~~~~~~~~~~~~~###########\n",
    "end_time = time.monotonic()\n",
    "print(\"Le temps d'exécution du programme Python est de \", timedelta(seconds = end_time - start_time))\n",
    "########### ~~~~~~~~~~~~~~~~~~~~~###########"
   ]
  },
  {
   "cell_type": "markdown",
   "metadata": {},
   "source": []
  }
 ],
 "metadata": {
  "kernelspec": {
   "display_name": "Python 3",
   "language": "python",
   "name": "python3"
  },
  "language_info": {
   "codemirror_mode": {
    "name": "ipython",
    "version": 3
   },
   "file_extension": ".py",
   "mimetype": "text/x-python",
   "name": "python",
   "nbconvert_exporter": "python",
   "pygments_lexer": "ipython3",
   "version": "3.8.5"
  }
 },
 "nbformat": 4,
 "nbformat_minor": 4
}
